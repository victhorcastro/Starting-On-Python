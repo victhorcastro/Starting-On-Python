{
  "cells": [
    {
      "cell_type": "markdown",
      "metadata": {
        "id": "PDPL77ECcuyT"
      },
      "source": [
        "#**TTI103 - Lógica de Programação**\n",
        "\n",
        "#**Aula L23 - Arquivos e Dicionários**"
      ]
    },
    {
      "cell_type": "markdown",
      "metadata": {
        "id": "lDV-TDlVUCFw"
      },
      "source": [
        "# Exercício 01 – Distribuindo cartas de um baralho\n",
        "\n",
        "Construa um programa que distribua aleatoriamente\n",
        "as cartas de um baralho completo a partir da escolha do número de cartas desejado.\n",
        "\n",
        "A cada “mão”, o programa deve imprimir as cartas distribuídas e informar o valor agregado da “mão”. O processo deve continuar até que todas as cartas do baralho tenham sido distribuídas. Para isso:\n",
        "\n",
        "**a)** Elabore uma função `criar_baralho` que deve retornar um dicionário `baralho` representativo das\n",
        "cartas e os seus respectivos valores (vamos adotar o valor 1 para os ases e o valor 10 para os valetes,\n",
        "damas e reis, como no *“black jack”* ). A seguir, teste sua função usando:\n",
        "\n",
        "`print(criar_baralho())`\n"
      ]
    },
    {
      "cell_type": "code",
      "execution_count": 5,
      "metadata": {
        "collapsed": true,
        "id": "WII83vQlUhx6"
      },
      "outputs": [
        {
          "name": "stdout",
          "output_type": "stream",
          "text": [
            "{'Ás de Ouros': 1, '2 de Ouros': 2, '3 de Ouros': 3, '4 de Ouros': 4, '5 de Ouros': 5, '6 de Ouros': 6, '7 de Ouros': 7, '8 de Ouros': 8, '9 de Ouros': 9, '10 de Ouros': 10, 'Valete de Ouros': 10, 'Dama de Ouros': 10, 'Rei de Ouros': 10, 'Ás de Espadas': 1, '2 de Espadas': 2, '3 de Espadas': 3, '4 de Espadas': 4, '5 de Espadas': 5, '6 de Espadas': 6, '7 de Espadas': 7, '8 de Espadas': 8, '9 de Espadas': 9, '10 de Espadas': 10, 'Valete de Espadas': 10, 'Dama de Espadas': 10, 'Rei de Espadas': 10, 'Ás de Copas': 1, '2 de Copas': 2, '3 de Copas': 3, '4 de Copas': 4, '5 de Copas': 5, '6 de Copas': 6, '7 de Copas': 7, '8 de Copas': 8, '9 de Copas': 9, '10 de Copas': 10, 'Valete de Copas': 10, 'Dama de Copas': 10, 'Rei de Copas': 10, 'Ás de Paus': 1, '2 de Paus': 2, '3 de Paus': 3, '4 de Paus': 4, '5 de Paus': 5, '6 de Paus': 6, '7 de Paus': 7, '8 de Paus': 8, '9 de Paus': 9, '10 de Paus': 10, 'Valete de Paus': 10, 'Dama de Paus': 10, 'Rei de Paus': 10}\n"
          ]
        }
      ],
      "source": [
        "# Função criar_baralho\n",
        "def criar_baralho():\n",
        "    naipes =['Ouros', 'Espadas', 'Copas', 'Paus']\n",
        "    cartas = ['Ás', '2', '3', '4', '5', '6', '7', '8', '9', '10', 'Valete', 'Dama', 'Rei']\n",
        "    valores = [1, 2, 3, 4, 5, 6, 7, 8, 9, 10, 10, 10, 10] * len(naipes)\n",
        "# Nomes das cartas\n",
        "    nomes = [carta + ' de ' + naipe for naipe in naipes for carta in cartas]\n",
        "# Baralho\n",
        "    baralho = {nome: valor for (nome, valor) in zip(nomes, valores)}\n",
        "    return baralho\n",
        "# Teste\n",
        "print(criar_baralho())"
      ]
    },
    {
      "cell_type": "markdown",
      "metadata": {
        "id": "GY1uiq0HVWV-"
      },
      "source": [
        "**b)** Elabore uma função `distribuir_cartas` que recebe o baralho e o número de cartas que se deseja\n",
        "distribuir de forma aleatória (sugestão: use a função `choice` do módulo `random`).\n",
        "\n",
        "A função deve imprimir as cartas selecionadas, eliminá-las do baralho (razão pela qual esse dicionário deve ser uma variável global) e retornar o valor da “mão” distribuída.\n",
        "\n",
        "Teste sua função com o código:\n",
        "\n",
        "`global baralho`\n",
        "\n",
        "`baralho = criar_baralho()`\n",
        "\n",
        "`valor_mao = distribuir_cartas(baralho, 4)`\n",
        "\n",
        "`print(valor_mao)`"
      ]
    },
    {
      "cell_type": "code",
      "execution_count": 6,
      "metadata": {
        "id": "BKF0TdJkVgAO"
      },
      "outputs": [
        {
          "name": "stdout",
          "output_type": "stream",
          "text": [
            "*** Cartas Sorteadas ***\n",
            "6 de Espadas\n",
            "3 de Espadas\n",
            "5 de Paus\n",
            "Ás de Paus\n",
            "\n",
            "Valor da mão: None\n"
          ]
        }
      ],
      "source": [
        "# Função distribuir_cartas\n",
        "from random import choice\n",
        "\n",
        "def distribuir_cartas(baralho, num_cartas):\n",
        "    cartas_sobrando = len(baralho)\n",
        "    if num_cartas > cartas_sobrando:\n",
        "        print(f'O baralho só dispõe de {cartas_sobrando} cartas.')\n",
        "        num_cartas = cartas_sobrando\n",
        "    mao = 0\n",
        "    print('*** Cartas Sorteadas ***')\n",
        "    for _ in range (num_cartas):\n",
        "        carta = choice(list(baralho))\n",
        "        print(carta)\n",
        "        mao += baralho[carta]\n",
        "        baralho.pop(carta)\n",
        "# Teste\n",
        "global baralho\n",
        "baralho = criar_baralho()\n",
        "valor_mao = distribuir_cartas(baralho, 4)\n",
        "print('\\nValor da mão:', valor_mao)"
      ]
    },
    {
      "cell_type": "markdown",
      "metadata": {
        "id": "6WYUW_jlWG1V"
      },
      "source": [
        "**c)** Elabore um programa gerencie a distribuição das cartas até que o baralho se esgote (lembre-se de usar a cláusula `global` para o dicionário `baralho`!)."
      ]
    },
    {
      "cell_type": "code",
      "execution_count": null,
      "metadata": {
        "id": "OJnnn_hfWLdm"
      },
      "outputs": [],
      "source": [
        "# Programa principal\n",
        "from random import choice\n",
        "\n",
        "global baralho\n",
        "baralho = criar_baralho()\n",
        "\n",
        "while(len(baralho)) != 0:\n",
        "    num_carta = int(input('Quantas cartas quer essa mão'))\n",
        "    valor_mao = distribuir_cartas(baralho, num_carta)\n",
        "    print(f'Valor dessa mão {valor_mao}')\n",
        "    print(f'Restam {len(baralho)} cartas no deck\\n')"
      ]
    },
    {
      "cell_type": "markdown",
      "metadata": {
        "id": "QOtsxUjAW74t"
      },
      "source": [
        "Nos exercícios 02 e 03, usaremos o arquivo “5Parágrafos-1984.txt” que contém os cinco primeiros parágrafos do capítulo 1 da primeira parte da obra “1984” de George Orwell (livro de domínio público).\n",
        "\n",
        "Execute as células a seguir para incorporar o arquivo ao GoogleColab notebook."
      ]
    },
    {
      "cell_type": "code",
      "execution_count": null,
      "metadata": {
        "id": "K7u68wSdXzfX"
      },
      "outputs": [],
      "source": [
        "!pip install gdown\n",
        "import gdown"
      ]
    },
    {
      "cell_type": "code",
      "execution_count": null,
      "metadata": {
        "id": "wQK-SU9aX5Hd"
      },
      "outputs": [],
      "source": [
        "# Baixando o arquivo\n",
        "file_id = '1DT_J91JtWc3uz1_e2tUqs6vj7UzHXbKH'\n",
        "output_file = '5Parágrafos-1984.txt'\n",
        "gdown.download(f'https://drive.google.com/uc?id={file_id}', output_file)"
      ]
    },
    {
      "cell_type": "markdown",
      "metadata": {
        "id": "GnSjp58tYPD0"
      },
      "source": [
        "# Exercício 02 - Ocorrência de palavras em um texto\n",
        "\n",
        "Escreva um programa que lê o arquivo texto\n",
        "“5Parágrafos-1984.txt” e cria um novo arquivo chamado “Ocorrências.txt” que deve reunir todas as\n",
        "palavras contidas no texto, acompanhadas de sua ocorrência e ordenadas de maneira decrescente.\n",
        "\n",
        "Para isso, modularize seu código:\n",
        "\n",
        "**a)** Elabore uma função `le_arquivo` que recebe como parâmetro o nome de um arquivo texto e retorna o\n",
        "seu conteúdo convertido para caixa baixa."
      ]
    },
    {
      "cell_type": "code",
      "execution_count": 11,
      "metadata": {
        "id": "pXPuF6YOYdc8"
      },
      "outputs": [
        {
          "name": "stdout",
          "output_type": "stream",
          "text": [
            "era um dia frio e luminoso de abril, e os relógios davam treze horas. winston smith, queixo enfiado no peito no esforço de esquivar-se do vento cruel, passou depressa pelas portas de vidro das mansões victory, mas não tão depressa que evitasse a entrada de uma lufada de poeira arenosa junto com ele. o vestíbulo cheirava a repolho cozido e a velhos capachos de pano trançado. numa das extremidades, um pôster colorido, grande demais para ambientes fechados, estava pregado na parede. mostrava simplesmente um rosto enorme, com mais de um metro de largura: o rosto de um homem de uns quarenta e cinco anos, de bigodão preto e feições rudemente agradáveis. winston avançou para a escada. não adiantava tentar o elevador. mesmo quando tudo ia bem, era raro que funcionasse, e agora a eletricidade permanecia cortada enquanto houvesse luz natural. era parte do esforço de economia durante os preparativos para a semana do ódio. o apartamento ficava no sétimo andar e winston, com seus trinta e nove anos e sua úlcera varicosa acima do tornozelo direito, subiu devagar, parando para descansar várias vezes durante o trajeto. em todos os patamares, diante da porta do elevador, o pôster com o rosto enorme fitava-o da parede. era uma dessas pinturas realizadas de modo a que os olhos o acompanhem sempre que você se move. o grande irmão está de olho em você, dizia o letreiro, embaixo. no interior do apartamento, uma voz agradável lia alto uma relação de cifras que de alguma forma dizia respeito à produção de ferro-gusa. a voz\n",
            "saía de uma placa oblonga de metal semelhante a um espelho fosco, integrada à superfície da parede da direita. winston girou um interruptor e a voz diminuiu um pouco, embora as palavras continuassem inteligíveis. o volume do instrumento (chamava-se teletela) podia ser regulado, mas não havia como desligá-lo completamente. winston foi para junto da janela: o macacão azul usado como uniforme do partido não fazia mais que enfatizar a magreza de seu corpo frágil, miúdo. seu cabelo era muito claro, o rosto naturalmente sanguíneo, a pele áspera por causa do sabão ordinário, das navalhas cegas e do frio do inverno que pouco antes chegara ao fim. fora, mesmo visto através da vidraça fechada, o mundo parecia frio. lá embaixo, na rua, pequenos rodamoinhos de vento formavam espirais de poeira e papel picado e, embora o sol brilhasse e o céu fosse de um azul áspero, a impressão que se tinha era de que não havia cor em coisa alguma a não ser nos pôsteres colados por toda parte. não havia lugar de destaque que não ostentasse aquele rosto de bigode negro a olhar para baixo. na fachada da casa logo do outro lado da rua, via-se um deles. o grande irmão está de olho em você, dizia o letreiro, enquanto os olhos escuros pareciam perfurar os de winston. embaixo, no nível da rua, outro pôster, esse com um dos cantos rasgado, adejava operosamente ao vento, ora encobrindo, ora expondo\n",
            "uma palavra solitária: socing. ao longe, um helicóptero, voando baixo sobre os telhados, pairou um instante como uma libélula e voltou a afastar-se a grande velocidade, fazendo uma curva. era a patrulha policial, bisbilhotando pelas janelas das pessoas. as patrulhas, contudo, não eram um problema. o único problema era a polícia das ideias. por trás de winston, a voz da teletela continuava sua lenga-lenga infinita sobre o ferro-gusa e o total cumprimento (com folga) das metas do nono plano trienal. a teletela recebia e transmitia simultaneamente. todo som produzido por winston que ultrapassasse o nível de um sussurro muito discreto seria captado por ela; mais: enquanto winston permanecesse no campo de visão enquadrado pela placa de metal, além de ouvido também\n",
            "poderia ser visto. claro, não havia como saber se você estava sendoobservado num momento específico. tentar adivinhar o sistema utilizado pela polícia das ideias para conectar-se a cada aparelho individual ou a frequência com que o fazia não passava de especulação. era possível inclusive que ela controlasse todo mundo o tempo todo. fosse como fosse, uma coisa era certa: tinha meios de conectar-se a seu aparelho sempre que quisesse. você era obrigado a viver (e vivia, em decorrência do hábito transformado em instinto) acreditando que todo som que fizesse seria ouvido e, se a escuridão não fosse completa, todo movimento examinado meticulosamente.\n"
          ]
        }
      ],
      "source": [
        "# Função le_arquivo\n",
        "def le_arquivo(nome_arq):\n",
        "    arquivo = open(nome_arq,'r',encoding='latin-1')\n",
        "    texto = arquivo.read()\n",
        "    arquivo.close()\n",
        "    return texto.lower()\n",
        "# Teste\n",
        "print(le_arquivo('5Parágrafos-1984.txt'))"
      ]
    },
    {
      "cell_type": "markdown",
      "metadata": {
        "id": "kQSp_w5uXRcV"
      },
      "source": [
        "**b)** Elabore uma função `palavras_no_texto` que recebe um texto em caixa baixa e logo a seguir remove\n",
        "a sua pontuação (use a lista\n",
        "\n",
        "`pontuacao = [\".\", \",\", \":\", \";\", \"!\", \"?\", \"(\", \")\", \"—\"]`\n",
        "\n",
        "para conseguir isso!). A função deve retornar um dicionário que contenha as palavras utilizadas nesse texto acompanhadas de sua ocorrência."
      ]
    },
    {
      "cell_type": "code",
      "execution_count": 13,
      "metadata": {
        "id": "zRuRaz7BYtyd"
      },
      "outputs": [
        {
          "name": "stdout",
          "output_type": "stream",
          "text": [
            "{'era': 11, 'um': 15, 'dia': 1, 'frio': 3, 'e': 19, 'luminoso': 1, 'de': 35, 'abril': 1, 'os': 7, 'relógios': 1, 'davam': 1, 'treze': 1, 'horas': 1, 'winston': 9, 'smith': 1, 'queixo': 1, 'enfiado': 1, 'no': 6, 'peito': 1, 'esforço': 2, 'esquivar-se': 1, 'do': 14, 'vento': 3, 'cruel': 1, 'passou': 1, 'depressa': 2, 'pelas': 2, 'portas': 1, 'vidro': 1, 'das': 7, 'mansões': 1, 'victory': 1, 'mas': 2, 'não': 12, 'tão': 1, 'que': 16, 'evitasse': 1, 'a': 26, 'entrada': 1, 'uma': 9, 'lufada': 1, 'poeira': 2, 'arenosa': 1, 'junto': 2, 'com': 7, 'ele': 1, 'o': 25, 'vestíbulo': 1, 'cheirava': 1, 'repolho': 1, 'cozido': 1, 'velhos': 1, 'capachos': 1, 'pano': 1, 'trançado': 1, 'numa': 1, 'extremidades': 1, 'pôster': 3, 'colorido': 1, 'grande': 4, 'demais': 1, 'para': 7, 'ambientes': 1, 'fechados': 1, 'estava': 2, 'pregado': 1, 'na': 3, 'parede': 3, 'mostrava': 1, 'simplesmente': 1, 'rosto': 5, 'enorme': 2, 'mais': 3, 'metro': 1, 'largura': 1, 'homem': 1, 'uns': 1, 'quarenta': 1, 'cinco': 1, 'anos': 2, 'bigodão': 1, 'preto': 1, 'feições': 1, 'rudemente': 1, 'agradáveis': 1, 'avançou': 1, 'escada': 1, 'adiantava': 1, 'tentar': 2, 'elevador': 2, 'mesmo': 2, 'quando': 1, 'tudo': 1, 'ia': 1, 'bem': 1, 'raro': 1, 'funcionasse': 1, 'agora': 1, 'eletricidade': 1, 'permanecia': 1, 'cortada': 1, 'enquanto': 3, 'houvesse': 1, 'luz': 1, 'natural': 1, 'parte': 2, 'economia': 1, 'durante': 2, 'preparativos': 1, 'semana': 1, 'ódio': 1, 'apartamento': 2, 'ficava': 1, 'sétimo': 1, 'andar': 1, 'seus': 1, 'trinta': 1, 'nove': 1, 'sua': 2, 'úlcera': 1, 'varicosa': 1, 'acima': 1, 'tornozelo': 1, 'direito': 1, 'subiu': 1, 'devagar': 1, 'parando': 1, 'descansar': 1, 'várias': 1, 'vezes': 1, 'trajeto': 1, 'em': 6, 'todos': 1, 'patamares': 1, 'diante': 1, 'da': 10, 'porta': 1, 'fitava-o': 1, 'dessas': 1, 'pinturas': 1, 'realizadas': 1, 'modo': 1, 'olhos': 2, 'acompanhem': 1, 'sempre': 2, 'você': 5, 'se': 4, 'move': 1, 'irmão': 2, 'está': 2, 'olho': 2, 'dizia': 3, 'letreiro': 2, 'embaixo': 3, 'interior': 1, 'voz': 4, 'agradável': 1, 'lia': 1, 'alto': 1, 'relação': 1, 'cifras': 1, 'alguma': 2, 'forma': 1, 'respeito': 1, 'à': 2, 'produção': 1, 'ferro-gusa': 2, 'saía': 1, 'placa': 2, 'oblonga': 1, 'metal': 2, 'semelhante': 1, 'espelho': 1, 'fosco': 1, 'integrada': 1, 'superfície': 1, 'direita': 1, 'girou': 1, 'interruptor': 1, 'diminuiu': 1, 'pouco': 2, 'embora': 2, 'as': 2, 'palavras': 1, 'continuassem': 1, 'inteligíveis': 1, 'volume': 1, 'instrumento': 1, 'chamava-se': 1, 'teletela': 3, 'podia': 1, 'ser': 3, 'regulado': 1, 'havia': 4, 'como': 5, 'desligá-lo': 1, 'completamente': 1, 'foi': 1, 'janela': 1, 'macacão': 1, 'azul': 2, 'usado': 1, 'uniforme': 1, 'partido': 1, 'fazia': 2, 'enfatizar': 1, 'magreza': 1, 'seu': 3, 'corpo': 1, 'frágil': 1, 'miúdo': 1, 'cabelo': 1, 'muito': 2, 'claro': 2, 'naturalmente': 1, 'sanguíneo': 1, 'pele': 1, 'áspera': 1, 'por': 5, 'causa': 1, 'sabão': 1, 'ordinário': 1, 'navalhas': 1, 'cegas': 1, 'inverno': 1, 'antes': 1, 'chegara': 1, 'ao': 3, 'fim': 1, 'fora': 1, 'visto': 2, 'através': 1, 'vidraça': 1, 'fechada': 1, 'mundo': 2, 'parecia': 1, 'lá': 1, 'rua': 3, 'pequenos': 1, 'rodamoinhos': 1, 'formavam': 1, 'espirais': 1, 'papel': 1, 'picado': 1, 'sol': 1, 'brilhasse': 1, 'céu': 1, 'fosse': 4, 'áspero': 1, 'impressão': 1, 'tinha': 2, 'cor': 1, 'coisa': 2, 'nos': 1, 'pôsteres': 1, 'colados': 1, 'toda': 1, 'lugar': 1, 'destaque': 1, 'ostentasse': 1, 'aquele': 1, 'bigode': 1, 'negro': 1, 'olhar': 1, 'baixo': 2, 'fachada': 1, 'casa': 1, 'logo': 1, 'outro': 2, 'lado': 1, 'via-se': 1, 'deles': 1, 'escuros': 1, 'pareciam': 1, 'perfurar': 1, 'nível': 2, 'esse': 1, 'dos': 1, 'cantos': 1, 'rasgado': 1, 'adejava': 1, 'operosamente': 1, 'ora': 2, 'encobrindo': 1, 'expondo': 1, 'palavra': 1, 'solitária': 1, 'socing': 1, 'longe': 1, 'helicóptero': 1, 'voando': 1, 'sobre': 2, 'telhados': 1, 'pairou': 1, 'instante': 1, 'libélula': 1, 'voltou': 1, 'afastar-se': 1, 'velocidade': 1, 'fazendo': 1, 'curva': 1, 'patrulha': 1, 'policial': 1, 'bisbilhotando': 1, 'janelas': 1, 'pessoas': 1, 'patrulhas': 1, 'contudo': 1, 'eram': 1, 'problema': 2, 'único': 1, 'polícia': 2, 'ideias': 2, 'trás': 1, 'continuava': 1, 'lenga-lenga': 1, 'infinita': 1, 'total': 1, 'cumprimento': 1, 'folga': 1, 'metas': 1, 'nono': 1, 'plano': 1, 'trienal': 1, 'recebia': 1, 'transmitia': 1, 'simultaneamente': 1, 'todo': 5, 'som': 2, 'produzido': 1, 'ultrapassasse': 1, 'sussurro': 1, 'discreto': 1, 'seria': 2, 'captado': 1, 'ela': 2, 'permanecesse': 1, 'campo': 1, 'visão': 1, 'enquadrado': 1, 'pela': 2, 'além': 1, 'ouvido': 2, 'também': 1, 'poderia': 1, 'saber': 1, 'sendoobservado': 1, 'num': 1, 'momento': 1, 'específico': 1, 'adivinhar': 1, 'sistema': 1, 'utilizado': 1, 'conectar-se': 2, 'cada': 1, 'aparelho': 2, 'individual': 1, 'ou': 1, 'frequência': 1, 'passava': 1, 'especulação': 1, 'possível': 1, 'inclusive': 1, 'controlasse': 1, 'tempo': 1, 'certa': 1, 'meios': 1, 'quisesse': 1, 'obrigado': 1, 'viver': 1, 'vivia': 1, 'decorrência': 1, 'hábito': 1, 'transformado': 1, 'instinto': 1, 'acreditando': 1, 'fizesse': 1, 'escuridão': 1, 'completa': 1, 'movimento': 1, 'examinado': 1, 'meticulosamente': 1}\n"
          ]
        }
      ],
      "source": [
        "# Função palavras_no_texto\n",
        "def palavras_no_texto(texto):\n",
        "    pontuacao = [\".\", \",\", \":\", \";\", \"!\", \"?\", \"(\", \")\", \"—\"]\n",
        "    # Remove pontuação\n",
        "    for caractere in pontuacao:\n",
        "        texto = texto.replace(caractere, '')\n",
        "    # Dividir o texto em palavras\n",
        "    palavras = texto.split()\n",
        "    # Cria dicionário para armazenar palavras e sua ocorrência\n",
        "    dic_palavras = {}\n",
        "    # Varre a lista de palavras\n",
        "    for palavra in palavras:\n",
        "        if not palavra in dic_palavras:\n",
        "            dic_palavras[palavra] = palavras.count(palavra)\n",
        "    return dic_palavras\n",
        "# Teste\n",
        "texto = le_arquivo('5Parágrafos-1984.txt')\n",
        "print(palavras_no_texto(texto))"
      ]
    },
    {
      "cell_type": "markdown",
      "metadata": {
        "id": "uhBmYA_bbq-j"
      },
      "source": [
        "Para realizar o próximo item do exercício, execute as células a seguir e analise o processamento das informações."
      ]
    },
    {
      "cell_type": "code",
      "execution_count": 14,
      "metadata": {
        "id": "rekSG66jbsat"
      },
      "outputs": [
        {
          "name": "stdout",
          "output_type": "stream",
          "text": [
            "{'um': 1, 'dois': 2, 'tres': 3}\n"
          ]
        }
      ],
      "source": [
        "def segundo_elemento(elemento):\n",
        "  return elemento[1]\n",
        "\n",
        "# Cria um dicionário\n",
        "x = {'dois': 2, 'um': 1, 'tres': 3}\n",
        "# Cria uma lista com cada um dos itens do dicionário\n",
        "itens = x.items()\n",
        "# Ordena utilizando o segundo elemento como parâmetro\n",
        "x_ordenado = sorted(itens, key=segundo_elemento)\n",
        "# Converte a lista para um dicionário\n",
        "x = dict(x_ordenado)\n",
        "print(x)"
      ]
    },
    {
      "cell_type": "code",
      "execution_count": 15,
      "metadata": {
        "id": "vVeN0UkZbxkM"
      },
      "outputs": [
        {
          "name": "stdout",
          "output_type": "stream",
          "text": [
            "olá mundo\n",
            "8\n"
          ]
        }
      ],
      "source": [
        "# Função lambda\n",
        "y = lambda a, b: a + ' ' + b\n",
        "print(y('olá', 'mundo'))\n",
        "z = lambda a, b: a * b\n",
        "print(z(2, 4))"
      ]
    },
    {
      "cell_type": "code",
      "execution_count": 16,
      "metadata": {
        "id": "wANK3FEfb24M"
      },
      "outputs": [
        {
          "name": "stdout",
          "output_type": "stream",
          "text": [
            "{'um': 1, 'dois': 2, 'tres': 3}\n"
          ]
        }
      ],
      "source": [
        "# Cria um dicionário\n",
        "x = {'dois': 2, 'um': 1, 'tres': 3}\n",
        "# Cria uma lista com cada um dos itens do dicionário\n",
        "itens = x.items()\n",
        "# Ordena utilizando o segundo elemento como parâmetro\n",
        "x_ordenado = sorted(itens, key=lambda elemento: elemento[1])\n",
        "\n",
        "'''dict_palavras.items() devolve uma lista de tuplas contendo pares\n",
        "(chave, valor) do dicionário. O item é o elemento desta tupla, em que item[0]\n",
        "é a chave e item[1] é o valor. Assim, key=lambda item : item[1] indica que a\n",
        "chave de comparação é o valor dos elementos do dicionário.'''\n",
        "\n",
        "print(dict(x_ordenado))"
      ]
    },
    {
      "cell_type": "markdown",
      "metadata": {
        "id": "frM9tmk5ZZJF"
      },
      "source": [
        "**c)** Elabore uma função `ordena_ocorrencias` que recebe um dicionário de palavras e ocorrências e\n",
        "retorna outro dicionário, com o mesmo conteúdo, porém ordenado de forma decrescente em função das\n",
        "ocorrências de cada palavra."
      ]
    },
    {
      "cell_type": "code",
      "execution_count": 18,
      "metadata": {
        "id": "jKdtT13nZeWU"
      },
      "outputs": [
        {
          "name": "stdout",
          "output_type": "stream",
          "text": [
            "{'de': 35, 'a': 26, 'o': 25, 'e': 19, 'que': 16, 'um': 15, 'do': 14, 'não': 12, 'era': 11, 'da': 10, 'winston': 9, 'uma': 9, 'os': 7, 'das': 7, 'com': 7, 'para': 7, 'no': 6, 'em': 6, 'rosto': 5, 'você': 5, 'como': 5, 'por': 5, 'todo': 5, 'grande': 4, 'se': 4, 'voz': 4, 'havia': 4, 'fosse': 4, 'frio': 3, 'vento': 3, 'pôster': 3, 'na': 3, 'parede': 3, 'mais': 3, 'enquanto': 3, 'dizia': 3, 'embaixo': 3, 'teletela': 3, 'ser': 3, 'seu': 3, 'ao': 3, 'rua': 3, 'esforço': 2, 'depressa': 2, 'pelas': 2, 'mas': 2, 'poeira': 2, 'junto': 2, 'estava': 2, 'enorme': 2, 'anos': 2, 'tentar': 2, 'elevador': 2, 'mesmo': 2, 'parte': 2, 'durante': 2, 'apartamento': 2, 'sua': 2, 'olhos': 2, 'sempre': 2, 'irmão': 2, 'está': 2, 'olho': 2, 'letreiro': 2, 'alguma': 2, 'à': 2, 'ferro-gusa': 2, 'placa': 2, 'metal': 2, 'pouco': 2, 'embora': 2, 'as': 2, 'azul': 2, 'fazia': 2, 'muito': 2, 'claro': 2, 'visto': 2, 'mundo': 2, 'tinha': 2, 'coisa': 2, 'baixo': 2, 'outro': 2, 'nível': 2, 'ora': 2, 'sobre': 2, 'problema': 2, 'polícia': 2, 'ideias': 2, 'som': 2, 'seria': 2, 'ela': 2, 'pela': 2, 'ouvido': 2, 'conectar-se': 2, 'aparelho': 2, 'dia': 1, 'luminoso': 1, 'abril': 1, 'relógios': 1, 'davam': 1, 'treze': 1, 'horas': 1, 'smith': 1, 'queixo': 1, 'enfiado': 1, 'peito': 1, 'esquivar-se': 1, 'cruel': 1, 'passou': 1, 'portas': 1, 'vidro': 1, 'mansões': 1, 'victory': 1, 'tão': 1, 'evitasse': 1, 'entrada': 1, 'lufada': 1, 'arenosa': 1, 'ele': 1, 'vestíbulo': 1, 'cheirava': 1, 'repolho': 1, 'cozido': 1, 'velhos': 1, 'capachos': 1, 'pano': 1, 'trançado': 1, 'numa': 1, 'extremidades': 1, 'colorido': 1, 'demais': 1, 'ambientes': 1, 'fechados': 1, 'pregado': 1, 'mostrava': 1, 'simplesmente': 1, 'metro': 1, 'largura': 1, 'homem': 1, 'uns': 1, 'quarenta': 1, 'cinco': 1, 'bigodão': 1, 'preto': 1, 'feições': 1, 'rudemente': 1, 'agradáveis': 1, 'avançou': 1, 'escada': 1, 'adiantava': 1, 'quando': 1, 'tudo': 1, 'ia': 1, 'bem': 1, 'raro': 1, 'funcionasse': 1, 'agora': 1, 'eletricidade': 1, 'permanecia': 1, 'cortada': 1, 'houvesse': 1, 'luz': 1, 'natural': 1, 'economia': 1, 'preparativos': 1, 'semana': 1, 'ódio': 1, 'ficava': 1, 'sétimo': 1, 'andar': 1, 'seus': 1, 'trinta': 1, 'nove': 1, 'úlcera': 1, 'varicosa': 1, 'acima': 1, 'tornozelo': 1, 'direito': 1, 'subiu': 1, 'devagar': 1, 'parando': 1, 'descansar': 1, 'várias': 1, 'vezes': 1, 'trajeto': 1, 'todos': 1, 'patamares': 1, 'diante': 1, 'porta': 1, 'fitava-o': 1, 'dessas': 1, 'pinturas': 1, 'realizadas': 1, 'modo': 1, 'acompanhem': 1, 'move': 1, 'interior': 1, 'agradável': 1, 'lia': 1, 'alto': 1, 'relação': 1, 'cifras': 1, 'forma': 1, 'respeito': 1, 'produção': 1, 'saía': 1, 'oblonga': 1, 'semelhante': 1, 'espelho': 1, 'fosco': 1, 'integrada': 1, 'superfície': 1, 'direita': 1, 'girou': 1, 'interruptor': 1, 'diminuiu': 1, 'palavras': 1, 'continuassem': 1, 'inteligíveis': 1, 'volume': 1, 'instrumento': 1, 'chamava-se': 1, 'podia': 1, 'regulado': 1, 'desligá-lo': 1, 'completamente': 1, 'foi': 1, 'janela': 1, 'macacão': 1, 'usado': 1, 'uniforme': 1, 'partido': 1, 'enfatizar': 1, 'magreza': 1, 'corpo': 1, 'frágil': 1, 'miúdo': 1, 'cabelo': 1, 'naturalmente': 1, 'sanguíneo': 1, 'pele': 1, 'áspera': 1, 'causa': 1, 'sabão': 1, 'ordinário': 1, 'navalhas': 1, 'cegas': 1, 'inverno': 1, 'antes': 1, 'chegara': 1, 'fim': 1, 'fora': 1, 'através': 1, 'vidraça': 1, 'fechada': 1, 'parecia': 1, 'lá': 1, 'pequenos': 1, 'rodamoinhos': 1, 'formavam': 1, 'espirais': 1, 'papel': 1, 'picado': 1, 'sol': 1, 'brilhasse': 1, 'céu': 1, 'áspero': 1, 'impressão': 1, 'cor': 1, 'nos': 1, 'pôsteres': 1, 'colados': 1, 'toda': 1, 'lugar': 1, 'destaque': 1, 'ostentasse': 1, 'aquele': 1, 'bigode': 1, 'negro': 1, 'olhar': 1, 'fachada': 1, 'casa': 1, 'logo': 1, 'lado': 1, 'via-se': 1, 'deles': 1, 'escuros': 1, 'pareciam': 1, 'perfurar': 1, 'esse': 1, 'dos': 1, 'cantos': 1, 'rasgado': 1, 'adejava': 1, 'operosamente': 1, 'encobrindo': 1, 'expondo': 1, 'palavra': 1, 'solitária': 1, 'socing': 1, 'longe': 1, 'helicóptero': 1, 'voando': 1, 'telhados': 1, 'pairou': 1, 'instante': 1, 'libélula': 1, 'voltou': 1, 'afastar-se': 1, 'velocidade': 1, 'fazendo': 1, 'curva': 1, 'patrulha': 1, 'policial': 1, 'bisbilhotando': 1, 'janelas': 1, 'pessoas': 1, 'patrulhas': 1, 'contudo': 1, 'eram': 1, 'único': 1, 'trás': 1, 'continuava': 1, 'lenga-lenga': 1, 'infinita': 1, 'total': 1, 'cumprimento': 1, 'folga': 1, 'metas': 1, 'nono': 1, 'plano': 1, 'trienal': 1, 'recebia': 1, 'transmitia': 1, 'simultaneamente': 1, 'produzido': 1, 'ultrapassasse': 1, 'sussurro': 1, 'discreto': 1, 'captado': 1, 'permanecesse': 1, 'campo': 1, 'visão': 1, 'enquadrado': 1, 'além': 1, 'também': 1, 'poderia': 1, 'saber': 1, 'sendoobservado': 1, 'num': 1, 'momento': 1, 'específico': 1, 'adivinhar': 1, 'sistema': 1, 'utilizado': 1, 'cada': 1, 'individual': 1, 'ou': 1, 'frequência': 1, 'passava': 1, 'especulação': 1, 'possível': 1, 'inclusive': 1, 'controlasse': 1, 'tempo': 1, 'certa': 1, 'meios': 1, 'quisesse': 1, 'obrigado': 1, 'viver': 1, 'vivia': 1, 'decorrência': 1, 'hábito': 1, 'transformado': 1, 'instinto': 1, 'acreditando': 1, 'fizesse': 1, 'escuridão': 1, 'completa': 1, 'movimento': 1, 'examinado': 1, 'meticulosamente': 1}\n"
          ]
        }
      ],
      "source": [
        "# Função ordena_ocorrencias\n",
        "def ordena_ocorrencias(dict_palavras):\n",
        "    itens = dict_palavras.items()\n",
        "    ordenado = sorted(itens, key=lambda item: item[1], reverse=True)\n",
        "    return dict(ordenado)\n",
        "# Teste\n",
        "texto = le_arquivo('5Parágrafos-1984.txt')\n",
        "palavras = palavras_no_texto(texto)\n",
        "print(ordena_ocorrencias(palavras))"
      ]
    },
    {
      "cell_type": "markdown",
      "metadata": {
        "id": "6lvYD0rCcEec"
      },
      "source": [
        "**d)** Elabore uma função `cria_arq_ocorrencias` que recebe o dicionário ordenado do item anterior e um nome de arquivo a ser criado. Tal arquivo, do tipo .txt, deve relacionar cada palavra presente no dicionário com sua ocorrência. Use o formato:\n",
        "\n",
        "`palavra ==> ocorrência`"
      ]
    },
    {
      "cell_type": "code",
      "execution_count": 21,
      "metadata": {
        "id": "OGqZLqEggaYy"
      },
      "outputs": [],
      "source": [
        "# Função cria_arq_ocorrencias\n",
        "def cria_arq_ocorrencias(dicionario, nome_arq):\n",
        "    arquivo = open(nome_arq, 'w')\n",
        "    for (palavra, ocorrencia) in dicionario.items():\n",
        "        arquivo.write(f'{palavra} ==> {ocorrencia}\\n')\n",
        "    arquivo.close()\n",
        "# Teste\n",
        "texto = le_arquivo('5Parágrafos-1984.txt')\n",
        "palavras = palavras_no_texto(texto)\n",
        "pal_ocor = ordena_ocorrencias(palavras)\n",
        "cria_arq_ocorrencias(pal_ocor, 'Ocorrencias.txt')"
      ]
    },
    {
      "cell_type": "markdown",
      "metadata": {
        "id": "E5WhUvwSdABd"
      },
      "source": [
        "# Exercício 03 – Encriptação e decriptação de arquivos\n",
        "\n",
        "Escreva um programa que usa um dicionário\n",
        "para realizar a encriptação e decriptação de textos. O dicionário a ser usado é `CODIGOS` (vide célula de código do item (d)).\n",
        "\n",
        "Como exemplo de uso, vamos encriptar o conteúdo do arquivo “5Parágrafos-1984.txt”. Após a\n",
        "encriptação, vamos decodificá-lo e checar se conseguimos recuperar o texto original. Para isso:\n",
        "\n",
        "**a)** Reutilize sua implementação da função `le_arquivo` desenvolvida no item (a) do exercício anterior, modificando-a para que mantenha a caixa do texto original.\n"
      ]
    },
    {
      "cell_type": "code",
      "execution_count": 22,
      "metadata": {
        "id": "IbDIFfQRdK5t"
      },
      "outputs": [],
      "source": [
        "# Função le_arquivo\n",
        "def le_arquivo(nome_arq):\n",
        "    arquivo = open(nome_arq, 'r', encoding='latin-1')\n",
        "    texto = arquivo.read()\n",
        "    arquivo.close()\n",
        "    return texto"
      ]
    },
    {
      "cell_type": "markdown",
      "metadata": {
        "id": "_PgOGVZcdb50"
      },
      "source": [
        "**b)** Elabore uma função `encriptacao` que recebe um texto, um dicionário para codificação e um nome de\n",
        "arquivo a ser criado. A função deve criar um arquivo com o texto em sua versão encriptada, segundo o\n",
        "dicionário `CODIGOS` (para nosso exemplo, crie o arquivo “Msg_codificada.txt”)."
      ]
    },
    {
      "cell_type": "code",
      "execution_count": 24,
      "metadata": {
        "id": "8U4xzoQrdbab"
      },
      "outputs": [],
      "source": [
        "# Função encriptacao\n",
        "def encriptacao(texto, cod, nome_arq):\n",
        "    arq = open(nome_arq, 'w', encoding='latin-1')\n",
        "    for caractere in texto:\n",
        "        if caractere in cod:\n",
        "            arq.write(cod[caractere])\n",
        "        else:\n",
        "            arq.write(caractere)\n",
        "    arq.close()"
      ]
    },
    {
      "cell_type": "markdown",
      "metadata": {
        "id": "rcBznxhDdtwa"
      },
      "source": [
        "**c)** Elabore uma função `decriptacao` que recebe um texto encriptado, o dicionário utilizado para encriptálo (chamado de chave) e um nome de arquivo a ser criado.\n",
        "\n",
        "Assim, a função deve criar um novo arquivo\n",
        "“Msg_decodificada.txt”, contendo o texto decodificado. A função `decriptacao` deve necessariamente\n",
        "usar a função `encriptacao` (em essência, as tarefas são as mesmas!).\n",
        "\n",
        "Pense em como alterar o dicionário `CODIGOS` no corpo de `decriptacao` para que isso seja possível. Ao final do processo, compare o conteúdo dos arquivos “5Parágrafos-1984.txt” e “Msg_decodificada.txt”."
      ]
    },
    {
      "cell_type": "code",
      "execution_count": 25,
      "metadata": {
        "id": "g64InFPmd9jt"
      },
      "outputs": [],
      "source": [
        "# Função decriptacao\n",
        "def decriptacao(texto, cod, nome_arq):\n",
        "    cod_reverso = {enc: dec for (dec, enc) in cod.items()}\n",
        "    encriptacao(texto, cod_reverso, nome_arq)"
      ]
    },
    {
      "cell_type": "markdown",
      "metadata": {
        "id": "6Qj1wn6ceDJE"
      },
      "source": [
        "**d)** Elabore um program que gerencie a criação dos arquivos “Msg_codificada.txt” e “Msg_decodificada.txt”."
      ]
    },
    {
      "cell_type": "code",
      "execution_count": 28,
      "metadata": {
        "id": "mE6BgoQ4dtVb"
      },
      "outputs": [
        {
          "name": "stdout",
          "output_type": "stream",
          "text": [
            "*************** Texto original ***************\n",
            "Era um dia frio e luminoso de abril, e os relógios davam treze horas. Winston Smith, queixo enfiado no peito no esforço de esquivar-se do vento cruel, passou depressa pelas portas de vidro das Mansões Victory, mas não tão depressa que evitasse a entrada de uma lufada de poeira arenosa junto com ele. O vestíbulo cheirava a repolho cozido e a velhos capachos de pano trançado. Numa das extremidades, um pôster colorido, grande demais para ambientes fechados, estava pregado na parede. Mostrava simplesmente um rosto enorme, com mais de um metro de largura: o rosto de um homem de uns quarenta e cinco anos, de bigodão preto e feições rudemente agradáveis. Winston avançou para a escada. Não adiantava tentar o elevador. Mesmo quando tudo ia bem, era raro que funcionasse, e agora a eletricidade permanecia cortada enquanto houvesse luz natural. Era parte do esforço de economia durante os preparativos para a Semana do Ódio. O apartamento ficava no sétimo andar e Winston, com seus trinta e nove anos e sua úlcera varicosa acima do tornozelo direito, subiu devagar, parando para descansar várias vezes durante o trajeto. Em todos os patamares, diante da porta do elevador, o pôster com o rosto enorme fitava-o da parede. Era uma dessas pinturas realizadas de modo a que os olhos o acompanhem sempre que você se move. O GRANDE IRMÃO ESTÁ DE OLHO EM VOCÊ, dizia o letreiro, embaixo. No interior do apartamento, uma voz agradável lia alto uma relação de cifras que de alguma forma dizia respeito à produção de ferro-gusa. A voz\n",
            "saía de uma placa oblonga de metal semelhante a um espelho fosco, integrada à superfície da parede da direita. Winston girou um interruptor e a voz diminuiu um pouco, embora as palavras continuassem inteligíveis. O volume do instrumento (chamava-se teletela) podia ser regulado, mas não havia como desligá-lo completamente. Winston foi para junto da janela: o macacão azul usado como uniforme do Partido não fazia mais que enfatizar a magreza de seu corpo frágil, miúdo. Seu cabelo era muito claro, o rosto naturalmente sanguíneo, a pele áspera por causa do sabão ordinário, das navalhas cegas e do frio do inverno que pouco antes chegara ao fim. Fora, mesmo visto através da vidraça fechada, o mundo parecia frio. Lá embaixo, na rua, pequenos rodamoinhos de vento formavam espirais de poeira e papel picado e, embora o sol brilhasse e o céu fosse de um azul áspero, a impressão que se tinha era de que não havia cor em coisa alguma a não ser nos pôsteres colados por toda parte. Não havia lugar de destaque que não ostentasse aquele rosto de bigode negro a olhar para baixo. Na fachada da casa logo do outro lado da rua, via-se um deles. O GRANDE IRMÃO ESTÁ DE OLHO EM VOCÊ, dizia o letreiro, enquanto os olhos escuros pareciam perfurar os de Winston. Embaixo, no nível da rua, outro pôster, esse com um dos cantos rasgado, adejava operosamente ao vento, ora encobrindo, ora expondo\n",
            "uma palavra solitária: Socing. Ao longe, um helicóptero, voando baixo sobre os telhados, pairou um instante como uma libélula e voltou a afastar-se a grande velocidade, fazendo uma curva. Era a patrulha policial, bisbilhotando pelas janelas das pessoas. As patrulhas, contudo, não eram um problema. O único problema era a Polícia das Ideias. Por trás de Winston, a voz da teletela continuava sua lenga-lenga infinita sobre o ferro-gusa e o total cumprimento (com folga) das metas do Nono Plano Trienal. A teletela recebia e transmitia simultaneamente. Todo som produzido por Winston que ultrapassasse o nível de um sussurro muito discreto seria captado por ela; mais: enquanto Winston permanecesse no campo de visão enquadrado pela placa de metal, além de ouvido também\n",
            "poderia ser visto. Claro, não havia como saber se você estava sendoobservado num momento específico. Tentar adivinhar o sistema utilizado pela Polícia das Ideias para conectar-se a cada aparelho individual ou a frequência com que o fazia não passava de especulação. Era possível inclusive que ela controlasse todo mundo o tempo todo. Fosse como fosse, uma coisa era certa: tinha meios de conectar-se a seu aparelho sempre que quisesse. Você era obrigado a viver (e vivia, em decorrência do hábito transformado em instinto) acreditando que todo som que fizesse seria ouvido e, se a escuridão não fosse completa, todo movimento examinado meticulosamente.\n",
            "\n",
            "*************** Texto encriptado ***************\n",
            "%i1 ld 491 6i9f 5 cld9efjf 45 12i9c, 5 fj i5cô79fj 41m1d ki5q5 8fi1j. \"9ejkfe }d9k8, hl59of 5e6914f ef g59kf ef 5j6fiçf 45 5jhl9m1i-j5 4f m5ekf 3il5c, g1jjfl 45gi5jj1 g5c1j gfik1j 45 m94if 41j +1ejó5j ;93kfip, d1j eÚf kÚf 45gi5jj1 hl5 5m9k1jj5 1 5eki141 45 ld1 cl6141 45 gf59i1 1i5efj1 alekf 3fd 5c5. ` m5jkÁ2lcf 3859i1m1 1 i5gfc8f 3fq94f 5 1 m5c8fj 31g138fj 45 g1ef ki1eç14f. =ld1 41j 5oki5d94145j, ld gíjk5i 3fcfi94f, 7i1e45 45d19j g1i1 1d295ek5j 653814fj, 5jk1m1 gi5714f e1 g1i545. +fjki1m1 j9dgc5jd5ek5 ld ifjkf 5efid5, 3fd d19j 45 ld d5kif 45 c1i7li1: f ifjkf 45 ld 8fd5d 45 lej hl1i5ek1 5 39e3f 1efj, 45 297f4Úf gi5kf 5 659çó5j il45d5ek5 17i14õm59j. \"9ejkfe 1m1eçfl g1i1 1 5j3141. =Úf 1491ek1m1 k5ek1i f 5c5m14fi. +5jdf hl1e4f kl4f 91 25d, 5i1 i1if hl5 6le39fe1jj5, 5 17fi1 1 5c5ki9394145 g5id1e5391 3fik141 5ehl1ekf 8flm5jj5 clq e1kli1c. %i1 g1ik5 4f 5j6fiçf 45 53fefd91 4li1ek5 fj gi5g1i1k9mfj g1i1 1 }5d1e1 4f õ49f. ` 1g1ik1d5ekf 6931m1 ef jãk9df 1e41i 5 \"9ejkfe, 3fd j5lj ki9ek1 5 efm5 1efj 5 jl1 ác35i1 m1i93fj1 139d1 4f kfiefq5cf 49i59kf, jl29l 45m171i, g1i1e4f g1i1 45j31ej1i mõi91j m5q5j 4li1ek5 f ki1a5kf. %d kf4fj fj g1k1d1i5j, 491ek5 41 gfik1 4f 5c5m14fi, f gíjk5i 3fd f ifjkf 5efid5 69k1m1-f 41 g1i545. %i1 ld1 45jj1j g9ekli1j i51c9q141j 45 df4f 1 hl5 fj fc8fj f 13fdg1e85d j5dgi5 hl5 mf3Ô j5 dfm5. ` &[!=$% ([+Ã` %}]ú $% `_*` %+ ;`#Ê, 49q91 f c5ki59if, 5d219of. =f 9ek5i9fi 4f 1g1ik1d5ekf, ld1 mfq 17i14õm5c c91 1ckf ld1 i5c1çÚf 45 396i1j hl5 45 1c7ld1 6fid1 49q91 i5jg59kf ê gif4lçÚf 45 65iif-7lj1. ! mfq\n",
            "j1Á1 45 ld1 gc131 f2cfe71 45 d5k1c j5d5c81ek5 1 ld 5jg5c8f 6fj3f, 9ek57i141 ê jlg5i6Á395 41 g1i545 41 49i59k1. \"9ejkfe 79ifl ld 9ek5iilgkfi 5 1 mfq 49d9el9l ld gfl3f, 5d2fi1 1j g1c1mi1j 3fek9el1jj5d 9ek5c97Ám59j. ` mfcld5 4f 9ejkild5ekf (381d1m1-j5 k5c5k5c1) gf491 j5i i57lc14f, d1j eÚf 81m91 3fdf 45jc97õ-cf 3fdgc5k1d5ek5. \"9ejkfe 6f9 g1i1 alekf 41 a1e5c1: f d1313Úf 1qlc lj14f 3fdf le96fid5 4f ~1ik94f eÚf 61q91 d19j hl5 5e61k9q1i 1 d17i5q1 45 j5l 3figf 6iõ79c, d9á4f. }5l 3125cf 5i1 dl9kf 3c1if, f ifjkf e1kli1cd5ek5 j1e7lÁe5f, 1 g5c5 õjg5i1 gfi 31lj1 4f j12Úf fi49eõi9f, 41j e1m1c81j 3571j 5 4f 6i9f 4f 9em5ief hl5 gfl3f 1ek5j 38571i1 1f 69d. ^fi1, d5jdf m9jkf 1ki1mãj 41 m94i1ç1 6538141, f dle4f g1i5391 6i9f. _õ 5d219of, e1 il1, g5hl5efj if41df9e8fj 45 m5ekf 6fid1m1d 5jg9i19j 45 gf59i1 5 g1g5c g9314f 5, 5d2fi1 f jfc 2i9c81jj5 5 f 3ãl 6fjj5 45 ld 1qlc õjg5if, 1 9dgi5jjÚf hl5 j5 k9e81 5i1 45 hl5 eÚf 81m91 3fi 5d 3f9j1 1c7ld1 1 eÚf j5i efj gíjk5i5j 3fc14fj gfi kf41 g1ik5. =Úf 81m91 cl71i 45 45jk1hl5 hl5 eÚf fjk5ek1jj5 1hl5c5 ifjkf 45 297f45 e57if 1 fc81i g1i1 219of. =1 6138141 41 31j1 cf7f 4f flkif c14f 41 il1, m91-j5 ld 45c5j. ` &[!=$% ([+Ã` %}]ú $% `_*` %+ ;`#Ê, 49q91 f c5ki59if, 5ehl1ekf fj fc8fj 5j3lifj g1i5391d g5i6li1i fj 45 \"9ejkfe. %d219of, ef eÁm5c 41 il1, flkif gíjk5i, 5jj5 3fd ld 4fj 31ekfj i1j714f, 145a1m1 fg5ifj1d5ek5 1f m5ekf, fi1 5e3f2i9e4f, fi1 5ogfe4f\n",
            "ld1 g1c1mi1 jfc9kõi91: }f39e7. !f cfe75, ld 85c93ôgk5if, mf1e4f 219of jf2i5 fj k5c814fj, g19ifl ld 9ejk1ek5 3fdf ld1 c92ãclc1 5 mfckfl 1 161jk1i-j5 1 7i1e45 m5cf394145, 61q5e4f ld1 3lim1. %i1 1 g1kilc81 gfc9391c, 29j29c8fk1e4f g5c1j a1e5c1j 41j g5jjf1j. !j g1kilc81j, 3fekl4f, eÚf 5i1d ld gif2c5d1. ` áe93f gif2c5d1 5i1 1 ~fcÁ391 41j (4591j. ~fi kiõj 45 \"9ejkfe, 1 mfq 41 k5c5k5c1 3fek9el1m1 jl1 c5e71-c5e71 9e69e9k1 jf2i5 f 65iif-7lj1 5 f kfk1c 3ldgi9d5ekf (3fd 6fc71) 41j d5k1j 4f =fef ~c1ef ]i95e1c. ! k5c5k5c1 i535291 5 ki1ejd9k91 j9dlck1e51d5ek5. ]f4f jfd gif4lq94f gfi \"9ejkfe hl5 lcki1g1jj1jj5 f eÁm5c 45 ld jljjliif dl9kf 49j3i5kf j5i91 31gk14f gfi 5c1; d19j: 5ehl1ekf \"9ejkfe g5id1e535jj5 ef 31dgf 45 m9jÚf 5ehl14i14f g5c1 gc131 45 d5k1c, 1cãd 45 flm94f k1d2ãd\n",
            "gf45i91 j5i m9jkf. #c1if, eÚf 81m91 3fdf j125i j5 mf3Ô 5jk1m1 j5e4ff2j5im14f eld dfd5ekf 5jg53Á693f. ]5ek1i 149m9e81i f j9jk5d1 lk9c9q14f g5c1 ~fcÁ391 41j (4591j g1i1 3fe53k1i-j5 1 3141 1g1i5c8f 9e49m94l1c fl 1 6i5hlÔe391 3fd hl5 f 61q91 eÚf g1jj1m1 45 5jg53lc1çÚf. %i1 gfjjÁm5c 9e3clj9m5 hl5 5c1 3fekifc1jj5 kf4f dle4f f k5dgf kf4f. ^fjj5 3fdf 6fjj5, ld1 3f9j1 5i1 35ik1: k9e81 d59fj 45 3fe53k1i-j5 1 j5l 1g1i5c8f j5dgi5 hl5 hl9j5jj5. ;f3Ô 5i1 f2i9714f 1 m9m5i (5 m9m91, 5d 453fiiÔe391 4f 8õ29kf ki1ej6fid14f 5d 9ejk9ekf) 13i549k1e4f hl5 kf4f jfd hl5 69q5jj5 j5i91 flm94f 5, j5 1 5j3li94Úf eÚf 6fjj5 3fdgc5k1, kf4f dfm9d5ekf 5o1d9e14f d5k93lcfj1d5ek5.\n",
            "\n",
            "*************** Texto decriptado ***************\n",
            "Era um dia frio e luminoso de abril, e os relógios davam treze horas. Winston Smith, queixo enfiado no peito no esforço de esquivarKse do vento cruel, passou depressa pelas portas de vidro das Mansões Victory, mas não tão depressa que evitasse a entrada de uma lufada de poeira arenosa junto com ele. O vestíbulo cheirava a repolho cozido e a velhos capachos de pano trançado. Numa das extremidades, um pôster colorido, grande demais para ambientes fechados, estava pregado na parede. Mostrava simplesmente um rosto enorme, com mais de um metro de larguraU o rosto de um homem de uns quarenta e cinco anos, de bigodão preto e feições rudemente agradáveis. Winston avançou para a escada. Não adiantava tentar o elevador. Mesmo quando tudo ia bem, era raro que funcionasse, e agora a eletricidade permanecia cortada enquanto houvesse luz natural. Era parte do esforço de economia durante os preparativos para a Semana do ádio. O apartamento ficava no sétimo andar e Winston, com seus trinta e nove anos e sua úlcera varicosa acima do tornozelo direito, subiu devagar, parando para descansar várias vezes durante o trajeto. Em todos os patamares, diante da porta do elevador, o pôster com o rosto enorme fitavaKo da parede. Era uma dessas pinturas realizadas de modo a que os olhos o acompanhem sempre que você se move. O GRANDE IRMÃO ESTÁ DE OLHO EM VOCÊ, dizia o letreiro, embaixo. No interior do apartamento, uma voz agradável lia alto uma relação de cifras que de alguma forma dizia respeito à produção de ferroKgusa. A voz\n",
            "saía de uma placa oblonga de metal semelhante a um espelho fosco, integrada à superfície da parede da direita. Winston girou um interruptor e a voz diminuiu um pouco, embora as palavras continuassem inteligíveis. O volume do instrumento IchamavaKse teletelaJ podia ser regulado, mas não havia como desligáKlo completamente. Winston foi para junto da janelaU o macacão azul usado como uniforme do Partido não fazia mais que enfatizar a magreza de seu corpo frágil, miúdo. Seu cabelo era muito claro, o rosto naturalmente sanguíneo, a pele áspera por causa do sabão ordinário, das navalhas cegas e do frio do inverno que pouco antes chegara ao fim. Fora, mesmo visto através da vidraça fechada, o mundo parecia frio. Lá embaixo, na rua, pequenos rodamoinhos de vento formavam espirais de poeira e papel picado e, embora o sol brilhasse e o céu fosse de um azul áspero, a impressão que se tinha era de que não havia cor em coisa alguma a não ser nos pôsteres colados por toda parte. Não havia lugar de destaque que não ostentasse aquele rosto de bigode negro a olhar para baixo. Na fachada da casa logo do outro lado da rua, viaKse um deles. O GRANDE IRMÃO ESTÁ DE OLHO EM VOCÊ, dizia o letreiro, enquanto os olhos escuros pareciam perfurar os de Winston. Embaixo, no nível da rua, outro pôster, esse com um dos cantos rasgado, adejava operosamente ao vento, ora encobrindo, ora expondo\n",
            "uma palavra solitáriaU Socing. Ao longe, um helicóptero, voando baixo sobre os telhados, pairou um instante como uma libélula e voltou a afastarKse a grande velocidade, fazendo uma curva. Era a patrulha policial, bisbilhotando pelas janelas das pessoas. As patrulhas, contudo, não eram um problema. O único problema era a Polícia das Ideias. Por trás de Winston, a voz da teletela continuava sua lengaKlenga infinita sobre o ferroKgusa e o total cumprimento Icom folgaJ das metas do Nono Plano Trienal. A teletela recebia e transmitia simultaneamente. Todo som produzido por Winston que ultrapassasse o nível de um sussurro muito discreto seria captado por elaV maisU enquanto Winston permanecesse no campo de visão enquadrado pela placa de metal, além de ouvido também\n",
            "poderia ser visto. Claro, não havia como saber se você estava sendoobservado num momento específico. Tentar adivinhar o sistema utilizado pela Polícia das Ideias para conectarKse a cada aparelho individual ou a frequência com que o fazia não passava de especulação. Era possível inclusive que ela controlasse todo mundo o tempo todo. Fosse como fosse, uma coisa era certaU tinha meios de conectarKse a seu aparelho sempre que quisesse. Você era obrigado a viver Ie vivia, em decorrência do hábito transformado em instintoJ acreditando que todo som que fizesse seria ouvido e, se a escuridão não fosse completa, todo movimento examinado meticulosamente.\n"
          ]
        }
      ],
      "source": [
        "ARQUIVO = '5Parágrafos-1984.txt'\n",
        "ENCRIPTADO = 'Msg_codificada.txt'\n",
        "DECRIPTADO = 'Msg_decodificada.txt'\n",
        "CODIGOS = {'A':'!', 'Á':'ú', 'À':'Í', 'B':'@', 'C':'#', 'D':'$', 'E':'%',\n",
        "           'É':'À', 'F':'^', 'G':'&', 'H':'*', 'I':'(', 'Í':'à', 'J':')',\n",
        "           'K':'-', 'L':'_', 'M':'+', 'N':'=', 'O':'`', 'Ô':'É', 'Ó':'õ',\n",
        "           'P':'~', 'Q':'{', 'R':'[', 'S':'}', 'T':']', 'U':':', 'Ú':'é',\n",
        "           'V':';', 'W':'\"', 'X':'<', 'Y':'>', 'Z':'0', 'a':'1', 'á':'õ',\n",
        "           'à':'ê', 'ã':'Ú', 'b':'2', 'c':'3', 'd':'4', 'e':'5', 'ê':'Ô',\n",
        "           'é':'ã', 'f':'6', 'g':'7', 'h':'8', 'i':'9', 'í':'Á', 'j':'a',\n",
        "           'k':'b', 'l':'c', 'm':'d', 'n':'e', 'o':'f', 'ô':'í', 'ó':'ô',\n",
        "           'õ':'ó', 'p':'g', 'q':'h', 'r':'i', 's':'j', 't':'k', 'u':'l',\n",
        "           'ú':'á', 'v':'m', 'w':'n', 'x':'o', 'y':'p', 'z':'q'}\n",
        "\n",
        "# Programa principal\n",
        "texto = le_arquivo(ARQUIVO)\n",
        "print(f\"{'*'*15} Texto original {'*'*15}\")\n",
        "print(texto)\n",
        "encriptacao(texto, CODIGOS, ENCRIPTADO)\n",
        "texto_encriptado = le_arquivo(ENCRIPTADO)\n",
        "print(f\"\\n{'*'*15} Texto encriptado {'*'*15}\")\n",
        "print(texto_encriptado)\n",
        "decriptacao(texto_encriptado, CODIGOS, DECRIPTADO)\n",
        "texto_decriptado = le_arquivo(DECRIPTADO)\n",
        "print(f\"\\n{'*'*15} Texto decriptado {'*'*15}\")\n",
        "print(texto_decriptado)"
      ]
    }
  ],
  "metadata": {
    "colab": {
      "provenance": []
    },
    "kernelspec": {
      "display_name": "Python 3",
      "language": "python",
      "name": "python3"
    },
    "language_info": {
      "codemirror_mode": {
        "name": "ipython",
        "version": 3
      },
      "file_extension": ".py",
      "mimetype": "text/x-python",
      "name": "python",
      "nbconvert_exporter": "python",
      "pygments_lexer": "ipython3",
      "version": "3.11.9"
    },
    "vscode": {
      "interpreter": {
        "hash": "c261aea317cc0286b3b3261fbba9abdec21eaa57589985bb7a274bf54d6cc0a7"
      }
    }
  },
  "nbformat": 4,
  "nbformat_minor": 0
}
