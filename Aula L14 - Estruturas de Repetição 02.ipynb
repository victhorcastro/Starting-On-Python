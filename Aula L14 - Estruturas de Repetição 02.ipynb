{
  "cells": [
    {
      "cell_type": "markdown",
      "metadata": {
        "id": "oNAE5ZPfjt3g"
      },
      "source": [
        "#**TTI103 - Lógica de Programação**\n",
        "\n",
        "#**Aula L14 - Estruturas de Repetição 02**"
      ]
    },
    {
      "cell_type": "markdown",
      "metadata": {
        "id": "OEpCn6S3sLls"
      },
      "source": [
        "#**Exercício 01 - Divisores (Versão Inicial)**\n",
        "\n",
        "Escreva um programa em Python que exiba todos os divisores de um número inteiro fornecido pelo usuário.\n",
        "\n",
        "**Requisitos:**\n",
        "* Valide os dados de entrada (*Sugestão:* pesquise sobre a estrutura `try-except`.)\n",
        "* Os divisores do número fornecido devem ser armazenados em uma lista, em ordem crescente.\n",
        "* Use a função `time` da biblioteca `time` para medir o tempo de processamento para a entrada 123456789."
      ]
    },
    {
      "cell_type": "code",
      "execution_count": 2,
      "metadata": {
        "id": "hzNxMzS3z9cX"
      },
      "outputs": [
        {
          "name": "stdout",
          "output_type": "stream",
          "text": [
            "Lista de divisores de 1: \n",
            "[1]\n",
            "Tempo de execução:   0.000000 segundos.\n"
          ]
        }
      ],
      "source": [
        "# Exercício 01\n",
        "from time import time\n",
        "\n",
        "# Condições Iniciais\n",
        "divisores = []\n",
        "\n",
        "# Entrada de Dados\n",
        "ok = False\n",
        "while not ok:\n",
        "    try:\n",
        "        numero = int(input('Digite um número inteiro positivo: '))\n",
        "        if numero > 0:\n",
        "            ok = True\n",
        "        else:\n",
        "            print('ERRO - O número deve ser inteiro positivo!')\n",
        "    except:\n",
        "        print('ERRO - O número deve ser inteiro positivo!')\n",
        "\n",
        "# Início da contagem do tempo de execução\n",
        "inicio = time()\n",
        "for teste in range( 1, numero + 1):\n",
        "    if numero % teste == 0:\n",
        "        divisores.append(teste)\n",
        "fim = time()\n",
        "# Fim da contagem do tempo de execução\n",
        "\n",
        "print(f'Lista de divisores de {numero}: ')\n",
        "print(divisores)\n",
        "tempo = fim - inicio\n",
        "print(f'Tempo de execução: {tempo:10f} segundos.')"
      ]
    },
    {
      "cell_type": "markdown",
      "metadata": {
        "id": "KaEOD61l1HCQ"
      },
      "source": [
        "#**Exercício 02 - Divisores (Versão Intermediária)**\n",
        "\n",
        "Escreva um programa em Python que exiba todos os divisores de um número inteiro fornecido pelo usuário.\n",
        "\n",
        "**Melhoria:** A versão anterior faz testes excessivos. Note que não é necessário testar todos os inteiros entre 1 e o inteiro fornecido pelo usuário... Basta testar até a metade do inteiro fornecido!\n"
      ]
    },
    {
      "cell_type": "code",
      "execution_count": 3,
      "metadata": {
        "id": "W8GqssGp2vNg"
      },
      "outputs": [
        {
          "name": "stdout",
          "output_type": "stream",
          "text": [
            "Lista de divisores de 123456789: \n",
            "[1, 3, 9, 3607, 3803, 10821, 11409, 32463, 34227, 13717421, 41152263]\n",
            "Tempo de execução:   6.637323 segundos.\n"
          ]
        }
      ],
      "source": [
        "# Exercício 02\n",
        "# Exercício 01\n",
        "from time import time\n",
        "\n",
        "# Condições Iniciais\n",
        "divisores = []\n",
        "\n",
        "# Entrada de Dados\n",
        "ok = False\n",
        "while not ok:\n",
        "    try:\n",
        "        numero = int(input('Digite um número inteiro positivo: '))\n",
        "        if numero > 0:\n",
        "            ok = True\n",
        "        else:\n",
        "            print('ERRO - O número deve ser inteiro positivo!')\n",
        "    except:\n",
        "        print('ERRO - O número deve ser inteiro positivo!')\n",
        "\n",
        "# Início da contagem do tempo de execução\n",
        "inicio = time()\n",
        "for teste in range( 1, numero//2 + 1):\n",
        "    if numero % teste == 0:\n",
        "        divisores.append(teste)\n",
        "fim = time()\n",
        "# Fim da contagem do tempo de execução\n",
        "\n",
        "print(f'Lista de divisores de {numero}: ')\n",
        "print(divisores)\n",
        "tempo = fim - inicio\n",
        "print(f'Tempo de execução: {tempo:10f} segundos.')"
      ]
    },
    {
      "cell_type": "markdown",
      "metadata": {
        "id": "CtoqrTEm5RNR"
      },
      "source": [
        "#**Exercício 03 - Divisores (Versão Final)**\n",
        "\n",
        "Escreva um programa em Python que exiba todos os divisores de um número inteiro fornecido pelo usuário.\n",
        "\n",
        "**Melhorias:**\n",
        "* Também não é necessário testar todos os inteiros entre 1 e a metade do inteiro fornecido pelo usuário... É possível  mostrar que basta testar até a raiz quadrada da entrada!\n",
        "* Use o fato de que se $i$ é divisor de $n$, então $j = n/i$ também é divisor de $n$. Ao usar essa propriedade dos inteiros, cuide do caso em que $n/i = i$. Por quê? Bem, a única exceção à propriedade descrita ocorre quando $n$ é um quadrado perfeito (se $n/i = i$, então $n=i^2$). Veja um exemplo: se $n=100$ e encontramos o divisor $10$, não podemos considerar que $100/10=10$ é outro divisor, ou estaremos incluindo um mesmo divisor duas vezes."
      ]
    },
    {
      "cell_type": "code",
      "execution_count": 4,
      "metadata": {
        "id": "_Ekm8QpcXKMF"
      },
      "outputs": [
        {
          "name": "stdout",
          "output_type": "stream",
          "text": [
            "Lista de divisores de 123456789: \n",
            "[1, 3, 9, 3607, 3803, 10821, 11409, 32463, 34227, 13717421, 41152263, 123456789]\n",
            "Tempo de execução:   0.002384 segundos.\n"
          ]
        }
      ],
      "source": [
        "# Exercício 03\n",
        "# Exercício 02\n",
        "# Exercício 01\n",
        "from time import time\n",
        "\n",
        "# Condições Iniciais\n",
        "divisores = []\n",
        "\n",
        "# Entrada de Dados\n",
        "ok = False\n",
        "while not ok:\n",
        "    try:\n",
        "        numero = int(input('Digite um número inteiro positivo: '))\n",
        "        if numero > 0:\n",
        "            ok = True\n",
        "        else:\n",
        "            print('ERRO - O número deve ser inteiro positivo!')\n",
        "    except:\n",
        "        print('ERRO - O número deve ser inteiro positivo!')\n",
        "\n",
        "# Início da contagem do tempo de execução\n",
        "inicio = time()\n",
        "for teste in range( 1, int(numero**0.5) + 1):\n",
        "    if numero % teste == 0:\n",
        "        divisores.append(teste)\n",
        "        if numero // teste != teste:\n",
        "            divisores.append(numero // teste)\n",
        "\n",
        "fim = time()\n",
        "# Fim da contagem do tempo de execução\n",
        "\n",
        "\n",
        "divisores.sort()\n",
        "print(f'Lista de divisores de {numero}: ')\n",
        "print(divisores)\n",
        "tempo = fim - inicio\n",
        "print(f'Tempo de execução: {tempo:10f} segundos.')"
      ]
    },
    {
      "cell_type": "markdown",
      "metadata": {
        "id": "n7c-z0Fokg2F"
      },
      "source": [
        "#**Exercício 04 - Método da Bissecção**\n",
        "\n",
        "Escreva um programa em Python que calcule de forma aproximada a raiz quadrada de um número positivo, com uma precisão fornecida pelo usuário. Empregue o Método da Bissecção, descrito a seguir:\n",
        "\n",
        "O **Método da Bisseção** é um método de busca de raízes que bissecta repetidamente um intervalo e então seleciona um subintervalo contendo a raiz para processamento adicional. Trata-se de um método simples e robusto, mas relativamente lento quando comparado a métodos como o *Método de Newton-Raphson* ou o *Método das Secantes*.\n",
        "\n",
        "O Método da Bissecção pode ser usado para encontrar as raízes de uma função contínua $f:[a,b]\\rightarrow \\mathbb{R}$, $y=f(x)$, tendo $f(a)$ e $f(b)$ sinais opostos, ou seja, $f(a)\\cdot f(b) < 0$. Nestas condições, o Teorema do Valor Intermediário garante a existência de ao menos uma raiz no intervalo $(a,b)$.\n",
        "\n",
        "Dessa maneira, o Método da Bissecção consiste em dividir o intervalo $(a,b)$ no seu ponto médio $c=(a+b)/2$, e então verificar em qual dos dois subintervalos garante-se a existência de uma raiz.\n",
        "\n",
        "Para tanto, basta verificar se $f(a)\\cdot f(c) < 0$. Caso afirmativo, existe ao menos uma raiz no intervalo $(a,c)$, caso contrário garante-se a existência de ao menos uma raiz no intervalo $[c,b)$.\n",
        "\n",
        "O procedimento é, então, repetido para o subintervalo correspondente à raiz até que $c$ aproxime a raiz procurada com a precisão desejada."
      ]
    },
    {
      "cell_type": "code",
      "execution_count": 8,
      "metadata": {
        "id": "-qbkHq-NmOB0"
      },
      "outputs": [
        {
          "name": "stdout",
          "output_type": "stream",
          "text": [
            "*** Raíz quadrada aproximada ***\n",
            "low = 0.0000000000 \t high = 169.0000000000. \n",
            "low = 0.0000000000 \t high = 84.5000000000. \n",
            "low = 0.0000000000 \t high = 42.2500000000. \n",
            "low = 0.0000000000 \t high = 21.1250000000. \n",
            "low = 10.5625000000 \t high = 21.1250000000. \n",
            "low = 10.5625000000 \t high = 15.8437500000. \n",
            "low = 10.5625000000 \t high = 13.2031250000. \n",
            "low = 11.8828125000 \t high = 13.2031250000. \n",
            "low = 12.5429687500 \t high = 13.2031250000. \n",
            "low = 12.8730468750 \t high = 13.2031250000. \n",
            "low = 12.8730468750 \t high = 13.0380859375. \n",
            "low = 12.9555664062 \t high = 13.0380859375. \n",
            "low = 12.9968261719 \t high = 13.0380859375. \n",
            "low = 12.9968261719 \t high = 13.0174560547. \n",
            "low = 12.9968261719 \t high = 13.0071411133. \n",
            "low = 12.9968261719 \t high = 13.0019836426. \n",
            "low = 12.9994049072 \t high = 13.0019836426. \n",
            "low = 12.9994049072 \t high = 13.0006942749. \n",
            "low = 12.9994049072 \t high = 13.0000495911. \n",
            "low = 12.9997272491 \t high = 13.0000495911. \n",
            "\n",
            "A raiz quadrada de 169.0 é 13.000,\n",
            "dentro da precisão de 3 casas decimais.\n",
            "Foram necessárias 20 tentativas.\n"
          ]
        }
      ],
      "source": [
        "# Exercício 04\n",
        "\n",
        "# Entrada de Dados\n",
        "print('*** Raíz quadrada aproximada ***')\n",
        "radicando = float(input('Extrair a raiz quadrada de: '))\n",
        "casas_dec = int(input('Qual a precisao desejada (casas decimais)? '))\n",
        "\n",
        "# Inicializações para o método da Bissecção\n",
        "precisao = 10**(-casas_dec)\n",
        "tentativas = 0\n",
        "low = 0\n",
        "high = max(1, radicando)\n",
        "raiz = (low + high) / 2\n",
        "\n",
        "# Bissecção\n",
        "while abs(raiz**2 - radicando) >= precisao:\n",
        "    print(f'low = {low:10.10f} \\t high = {high:10.10f}. ')\n",
        "    tentativas += 1\n",
        "    if raiz**2 < radicando:\n",
        "        low = raiz\n",
        "    else:\n",
        "        high = raiz\n",
        "    raiz = (low+high) / 2\n",
        "\n",
        "# Saída de Dados\n",
        "print(f'''\\nA raiz quadrada de {radicando} é {raiz:.{casas_dec}f},\n",
        "dentro da precisão de {casas_dec} casas decimais.\n",
        "Foram necessárias {tentativas} tentativas.''')"
      ]
    },
    {
      "cell_type": "markdown",
      "metadata": {
        "id": "UsHOdiCdMBpU"
      },
      "source": [
        "#**Exercício 05 - Estimando o valor de $\\pi$**\n",
        "\n",
        "Os **Métodos de Monte Carlo** englobam o ramo da matemática aplicada (ou experimental) ligado a experimentos com números  aleatórios. Suas aplicações se estendem as mais diversas áreas, incluindo ramos da Física, Química, Biologia, Astronomia, e até Ecologia.\n",
        "\n",
        "O nome “Monte Carlo” foi cunhado durante a Segunda Guerra Mundial em meio ao projeto Manhattan, por causa da similaridade das simulações estatísticas com os jogos de azar, já que Monte Carlo (capital do Principado de Mônaco) era um centro de casinos, apostas e jogos.\n",
        "\n",
        "Vamos examinar um dos Métodos de MOnte Carlo, chamado de **Método da Circunferência**.\n",
        "\n",
        "Tomemos uma circunferência de raio unitário e um quadrado de lado com comprimento $2$, ambos centrados na origem do sistema de coordenadas, conforme figura a seguir:"
      ]
    },
    {
      "cell_type": "markdown",
      "metadata": {
        "id": "KoUiP2pGN4iE"
      },
      "source": [
        "![image.png](data:image/png;base64,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)"
      ]
    },
    {
      "cell_type": "markdown",
      "metadata": {
        "id": "z02vGLDvOHOr"
      },
      "source": [
        "Sabemos que a área da circunferêcia de raio $r$ é dado por $A_c=\\pi r^2$ e que a área do quadrado de lado $l$ é $A_q=l^2$. A razão entre as duas áreas é:\n",
        "\n",
        "$$\\frac{A_c}{A_q}=\\frac{\\pi r^2}{l^2}=\\frac{\\pi}{4}$$\n",
        "\n",
        "Logo, podemos escrever:\n",
        "\n",
        "$$\\pi=\\frac{4A_c}{A_q}$$\n",
        "\n",
        "Assim, se sortearmos aleatoriamente $n$ pontos no interior do quadrado e contarmos a quantidade de vezes que esses pontos também estão no interior da circunferência, podemos aproximar $\\pi$ como:\n",
        "\n",
        "$$\\pi=\\frac{\\text{Número de pontos dentro da circunferência}}{\\text{Número de pontos sorteados}}$$\n",
        "\n",
        "Elabore um programa em Python para estimar o valor de $\\pi$ usando o Método da Circunferência.\n",
        "\n",
        "*Sugestão:* Use a função `uniform` do módulo `random` para o sorteio dos pontos no interior do quadrado."
      ]
    },
    {
      "cell_type": "code",
      "execution_count": 13,
      "metadata": {
        "id": "eAOJQYSPRHfh"
      },
      "outputs": [
        {
          "name": "stdout",
          "output_type": "stream",
          "text": [
            "O valor aproximado de pi é 3.145\n"
          ]
        }
      ],
      "source": [
        "# Exercício 05 - Versão 01\n",
        "from random import uniform\n",
        "\n",
        "N = int(input('Digite o número de pontos para o Método da Circunferência: '))\n",
        "pts_circ = 0\n",
        "\n",
        "for i in range(N):\n",
        "    x = uniform(-1, 1)\n",
        "    y = uniform(-1, 1)\n",
        "    if (x**2 + y**2) <= 1:\n",
        "        pts_circ += 1\n",
        "\n",
        "print(f'O valor aproximado de pi é {4*pts_circ/N}')"
      ]
    },
    {
      "cell_type": "code",
      "execution_count": null,
      "metadata": {
        "id": "FNnjxrhrSsy7"
      },
      "outputs": [],
      "source": [
        "# Exercício 05 - Versão 02 - Gráfica (opcional)"
      ]
    }
  ],
  "metadata": {
    "colab": {
      "provenance": []
    },
    "kernelspec": {
      "display_name": "Python 3",
      "name": "python3"
    },
    "language_info": {
      "codemirror_mode": {
        "name": "ipython",
        "version": 3
      },
      "file_extension": ".py",
      "mimetype": "text/x-python",
      "name": "python",
      "nbconvert_exporter": "python",
      "pygments_lexer": "ipython3",
      "version": "3.11.8"
    }
  },
  "nbformat": 4,
  "nbformat_minor": 0
}
