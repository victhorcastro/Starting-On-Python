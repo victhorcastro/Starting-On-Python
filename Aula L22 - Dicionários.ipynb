{
  "cells": [
    {
      "cell_type": "markdown",
      "metadata": {
        "id": "PDPL77ECcuyT"
      },
      "source": [
        "#**TTI103 - Lógica de Programação**\n",
        "\n",
        "#**Aula L22 - Dicionários**"
      ]
    },
    {
      "cell_type": "code",
      "execution_count": 2,
      "metadata": {},
      "outputs": [
        {
          "name": "stdout",
          "output_type": "stream",
          "text": [
            "Vitor Alex\n"
          ]
        }
      ],
      "source": [
        "# Criando um documentário\n",
        "dic = {'2345': 'João da Silva',\n",
        "       '3589': 'Vitor Alex',\n",
        "       '8760': 'Lucrécia Monteiro'}\n",
        "\n",
        "# Acesso aos dados\n",
        "print(dic['3589'])"
      ]
    },
    {
      "cell_type": "code",
      "execution_count": 4,
      "metadata": {},
      "outputs": [
        {
          "name": "stdout",
          "output_type": "stream",
          "text": [
            "dict_keys(['2345', '3589', '8760'])\n"
          ]
        }
      ],
      "source": [
        "# Verificando as chaves disponiveis\n",
        "print(dic.keys())\n"
      ]
    },
    {
      "cell_type": "markdown",
      "metadata": {
        "id": "5KEQnv5Ss6ZM"
      },
      "source": [
        "##**Exercício 01 - Dicionários de listas**\n",
        "\n",
        "Escreva uma função `ordena_dic` que recebe um dicionário cujos valores são listas e devolve um novo dicionário, com as listas ordenadas. A seguir, teste sua função com os dicionários:\n",
        "\n",
        "`x = {'n1': [2, 3, 1], 'n2': [5, 1, 2], 'n3': [3, 2, 4]}`\n",
        "\n",
        "`y = {'nomes':['Gabriela', 'Jorge', 'Alvaro', 'Zulmira'],'sobrenomes':['Pontes', 'Silva', 'Arantes']}`\n"
      ]
    },
    {
      "cell_type": "code",
      "execution_count": null,
      "metadata": {
        "id": "_pz1FPEwvCSU"
      },
      "outputs": [],
      "source": [
        "# Exercício 01\n",
        "\n"
      ]
    },
    {
      "cell_type": "markdown",
      "metadata": {
        "id": "I5ALa5KMvcbz"
      },
      "source": [
        "##**Exercício 02 - Itens mais caros**\n",
        "\n",
        "Escreva uma função `mais_caros` que retorne os valores dos três itens mais caros de uma determinada compra em uma loja de departamentos. Cada compra é representada por um dicionário cuja chave é o item e o valor o custo associado. A seguir, teste sua função com o dicionário:\n",
        "\n",
        "`compra = {'item1': 45.50, 'item2':35, 'item3': 41.30,\n",
        "          'item4':55, 'item5':24}`"
      ]
    },
    {
      "cell_type": "code",
      "execution_count": 7,
      "metadata": {
        "id": "pOJeeeQ4wasY"
      },
      "outputs": [
        {
          "name": "stdout",
          "output_type": "stream",
          "text": [
            "[55, 45.5, 41.3]\n"
          ]
        }
      ],
      "source": [
        "# Exercício 02\n",
        "def mais_caros(dic):\n",
        "    return sorted(dic.values(), reverse=True)[:3]\n",
        "compra = {'item1': 45.50, 'item2':35,\n",
        "          'item3': 41.30, 'item4':55, 'item5':24}\n",
        "top3 = mais_caros(compra)\n",
        "print(top3)"
      ]
    },
    {
      "cell_type": "markdown",
      "metadata": {
        "id": "02E9pK3Rw5SL"
      },
      "source": [
        "##**Exercício 03 - Média de provas**\n",
        "\n",
        "Escreva uma função `calcula_medias` que recebe uma lista de dicionários contendo o RA e as notas das provas P1 e P2 de um grupo de alunos e devolve outra lista de dicionários, contendo o RA e a média obtida nas provas. A seguir, teste sua função com o dicionário:\n",
        "\n",
        "`notas_alunos = [{'RA':'0123', 'P1':6.5, 'P2':8.5},\n",
        "                {'RA':'2189', 'P1':10.0, 'P2':6.0},\n",
        "                {'RA':'3577', 'P1':3.5, 'P2':7.0}]`"
      ]
    },
    {
      "cell_type": "code",
      "execution_count": 9,
      "metadata": {
        "id": "JnvzAvTfx0rz"
      },
      "outputs": [
        {
          "name": "stdout",
          "output_type": "stream",
          "text": [
            "[{'RA': '0123', 'media': 7.5}, {'RA': '2189', 'media': 8.0}, {'RA': '3577', 'media': 5.25}]\n"
          ]
        }
      ],
      "source": [
        "# Exercício 03\n",
        "def calcula_medias(lista_dic):\n",
        "    medias = []\n",
        "    for dic in lista_dic:\n",
        "        dic_media = {}\n",
        "        dic_media['RA'] = dic['RA']\n",
        "        dic_media['media'] = (dic['P1'] + dic['P2'])/2\n",
        "        medias.append(dic_media)\n",
        "    return medias\n",
        "\n",
        "\n",
        "\n",
        "notas_alunos = [{'RA':'0123', 'P1':6.5, 'P2':8.5},\n",
        "                {'RA':'2189', 'P1':10.0, 'P2':6.0},\n",
        "                {'RA':'3577', 'P1':3.5, 'P2':7.0}]\n",
        "medias_alunos = calcula_medias(notas_alunos)\n",
        "print(medias_alunos)\n"
      ]
    }
  ],
  "metadata": {
    "colab": {
      "provenance": []
    },
    "kernelspec": {
      "display_name": "Python 3",
      "language": "python",
      "name": "python3"
    },
    "language_info": {
      "codemirror_mode": {
        "name": "ipython",
        "version": 3
      },
      "file_extension": ".py",
      "mimetype": "text/x-python",
      "name": "python",
      "nbconvert_exporter": "python",
      "pygments_lexer": "ipython3",
      "version": "3.11.9"
    },
    "vscode": {
      "interpreter": {
        "hash": "c261aea317cc0286b3b3261fbba9abdec21eaa57589985bb7a274bf54d6cc0a7"
      }
    }
  },
  "nbformat": 4,
  "nbformat_minor": 0
}
