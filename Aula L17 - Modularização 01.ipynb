{
  "cells": [
    {
      "cell_type": "markdown",
      "metadata": {
        "id": "nZUyxKuZlnTn"
      },
      "source": [
        "#**TTI103 - Lógica de Programação**\n",
        "\n",
        "#**Aula L17 - Modularização 01**"
      ]
    },
    {
      "cell_type": "markdown",
      "metadata": {
        "id": "IgipK11vlx6d"
      },
      "source": [
        "#**Exercício 01 – Quanto custa renovar a pintura?**\n",
        "\n",
        " Uma empresa de serviços de pintura determinou que para finalizar 112 ft² de espaço de parede são necessários um galão de tinta e oito horas de trabalho. A taxa de mão-de-obra é de $ 35,00/h.\n",
        "\n",
        " Escreva um programa que peça ao usuário para inserir a área a ser pintada e o preço por galão da tinta escolhida. O programa deve exibir os seguintes dados:\n",
        "\n",
        "* O número de galões de tinta necessário para o serviço;\n",
        "* A quantidade de horas de trabalho previstas para a obra;\n",
        "* O custo relativo à tinta escolhida;\n",
        "* A taxa de mão de obra associada;\n",
        "* O custo total da obra.\n",
        "\n",
        "Para tanto, modularize seu código:\n",
        "\n",
        "**a)** Crie uma função para a entrada de dados."
      ]
    },
    {
      "cell_type": "code",
      "execution_count": null,
      "metadata": {
        "id": "i9xdOXAwlmo6"
      },
      "outputs": [],
      "source": []
    },
    {
      "cell_type": "markdown",
      "metadata": {
        "id": "eSdKw7hAveFL"
      },
      "source": [
        "**b)** Crie uma função responsável por determinar cada informação de saída."
      ]
    },
    {
      "cell_type": "code",
      "execution_count": null,
      "metadata": {
        "id": "fFGtvDlf_4d5"
      },
      "outputs": [],
      "source": []
    },
    {
      "cell_type": "markdown",
      "metadata": {
        "id": "vH_DJvL9BZog"
      },
      "source": [
        "**c)** Use as funções dos itens anteriores e escreva o programa."
      ]
    },
    {
      "cell_type": "code",
      "execution_count": null,
      "metadata": {
        "id": "WL7EP-rLBnUa"
      },
      "outputs": [],
      "source": []
    },
    {
      "cell_type": "markdown",
      "metadata": {
        "id": "KJ-V4hxUv7wN"
      },
      "source": [
        "##**Exercício 02 – Média e Conceito**\n",
        "\n",
        "Escreva um programa que:\n",
        "\n",
        "* Solicita ao usuário a entrada de 5 notas relativas a avaliações (números inteiros entre 0 e 100);\n",
        "* Calcula a média associada;\n",
        "* Determina o respectivo conceito final na disciplina, segundo a tabela abaixo."
      ]
    },
    {
      "cell_type": "markdown",
      "metadata": {
        "id": "b5jVbusYAraZ"
      },
      "source": [
        "![image.png](data:image/png;base64,iVBORw0KGgoAAAANSUhEUgAAAOEAAADjCAYAAAEEfEPnAAAAAXNSR0IArs4c6QAAAARnQU1BAACxjwv8YQUAAAAJcEhZcwAAFxEAABcRAcom8z8AAEdgSURBVHhe7Z0FXBTNG8eXLpVGWtIGC7u7u/MV29fXrr/6vnZ3d4vx2q/d3YkCiqgY2IqKIM39/rOzexwHRx3c4a37/XzmdnZ2bndnn32mduYZBnnAr3FR43aLwDDmmDp7IRD7EP/c+s4fyZzY10d5HzBx8jJMmzYNE5fuxNRV+/lQjjQXTXw0g1zUlPjekW0+elEzhkHjNXe4CGn4gEP/lCBxdeneiWlVUdCnAfGFkTAGMUlxeHdzHj0mJe8eb0BAgNpc8kXVTfJFYx/Oxuwm1vyePIsbOcCOqcTvZcy4mga8L33kUvo8ngQQ4SviB3EMY8vtZEJh/YwfYN4+XnUid9FKhfLRLWNYim6llCpuAwNTxfJOjV3JciBSyhC5i658mggJ2cY+XUJ+P6Fr1640nCX03GzelzHr3wJuYw7ze4rJu8fboUMHtbnki6obhReN8p/E+ziK6+rgGe/PCht3nuR9ipG76LN/ueQbMTp0mxKmeCvelzGGJHOZd/s9v6eYX+fxqposXTQihlX3zFSeIyIigvelj9xFHbqtoNv41xvYXzx+/Jjug2QZdh2yljlEE+eWScEgylSlZHrRs+MrwXbgv/xe5jRZfI/3pU+GF72ZAIRs7ohSk87yIZnTZPFd3pc+efd4Y2Nj1eaSL6pOmC9fvvBe1dOqVSv5C9ZwY/BgU0N+DwiMiaaNn/HjJ/Ah8jCMJXHmmDZ5Ip5d2YCgiARMnDiRPwoMbFmY/MoaXmkvWIhBlWU3kF+bQTypID07M5Sv+yZxEVLBMEZgCjZDMHmzT82tRuO+If+zIdsI8hf/LS3B6Jhi3ze2tqXggqqGXvDKlSsKGzWqcPXq1cvjl2Z6NVtY69bm9+QxGroDx79zssiIhytb8L60yF1Q+nKw5V1q2GMh5+bze+kjeb+V9ykmb16aPL1gYScTMGZ2/B7H6OpcY8jVxZtuM8PHx4v3pUVhCrksFrQx9F9YHFqsCUAgeVci8I4/ojx580hbtmypsMGiCufi4pLHL42WnheRVXp85bfKo1CGRjUG8j4OyauVdFva1JJuM2PXrvW8Ly1589Lk6QWj2DZN0k9uR0kioqSanBYFKXwDUnhT2IbOl1gJdEt2ppWEsZ2yltNkRN480q9fc/66Z5XWrVv/Im/p1QOb6XbPEHe6zS3SveCaySPpdkdvF7rNLfLmpYmLi1PY8FCFY6GNmadPnyI8PFxwrmnTprJEZkeUbG+YpsC+NiwZJrKGK4O69gx0mfykSmwGLT6Brf59CsahEfG9px+mpN8YHl7aBO8ZJ6g/K7RcfZ/3AX956dOtDjnXmbnVqJ8979iW+an/UXR88nUabfKn/oDtbei+fqmedNv74Au6lZKlRGo6YiKFQoaJrNayPZouuwYkvqCV9j1v4/gjCogg8Sjv0I7E3fIiBtNaWKJVHU8+POfY+6Zf+82IDBO5fMpkTGyQD+tacNUAC5NOdLt2zmRMnsy51OzoVoxurXSaw6D7Ouq/l341MstU8h1LrjcFfm+klcys8/u9rvXr16cFp9Cco6OjLJG/be5ap1YtLBvRjPoTiUsIY78vKWZQvQrYvpJrWofS34/0Nzfw4zuAz3/jttkh00TO6l8DjK0P9Vd1Z1CqxxzqV8Th+Z3AGDhQf7vyRqg+chP15wZszYZ1Mfx+dvj9Mp7fNpEWFhawsLSlr8miweUw9Xggd0ABNK6FFe0TPbqkM/45nH7c7BLx8jw5t3yHb1bJgiQlfB+PhMt43kj17Hmynkx5KOvCD+a33g466DJHuRpKWjL/Cp8Rv9/rmpVxC5pImzZce/P3znjqrfbnfcBr4p5urc/tKMCk9XK6Zdsql2nfcBD7kytItd6w2xrel3UyTSRTeSSQxGUnG0JisbyLDfUrgjGsSH5j6aCeLvuf4d6yWjQ8Nxl5OftfssSMRyiwHfUsv3fGk5JryxtAPkYALv4AVrSzhq8PPQWpHHAdubmNtOKhDL+fTv4WiRQyDPvVR9GHktx227dvVxiuSpecQHVw6NAh3qdespnAaPx9OYz3Z49fMoE21twnXktHO9pYvr57cXKLjh1iaMdm5ZKveEcamDcPLcCaWy/5o2lJncBrGxrhZFg0prd3orMyEPsSc3ZdoMcmLjlJzs93WP/0x6xdV6j3wt554F68t6QI+06qj1wH9qJZsuGOqckwgaX+OoVLku/4eHww2XuFIySVNa0ZXFlQnR43oQl8jjt8j5JxBmVX6gTqaMnHteq0kPxGYHlwLBhtd+DzLgSQFrpZ5Zn4GnoLSPTHiSRyfQP2f7fAjjtmzNpiVcdC7N/hZKj42hkmsPbyG7TA/XlnGu0PqD/7POYsP4QP5wfiPHmUtDAmCQwhT9P3/JcMP8SmTuD1tQ2x/t4bNHbmvj8yBYrA/9AABJK3gdEtD0n4fgSQW2MMC+P0NHZCXTQarrqE/234j/hvcgk0aYCnu9vjYrgE2ulcW8xkcgsxgSqCDiNRNDI4t93y5csVhqvS0QSKr2gu8csksGc1fXRsW5X6tRgTOJmkn/WzMDrccBIDxhCuplzcEo1aw7bbUuqXomwCC+cz5H3KkSaB9pOO0+3+SOAyncrA1R0U8fbhB+jZmFP/SXoaUs/5sofuz25vRbdSlE3glZ9A/R3Sfvbso+AVTcCeoAgEkMQdpl2EbKcih/Sb/9Kz0nlsSE7gv3Sc5EdS5TpF98c2NaJbKcok8NnulvR6TYtn/BZlRJoEPr0wHUyZltQ/qU8ZmDWRH3ecGsbUmG6nD6gIk/q9qJ+d+r/JX74hrUwCtarO4H0SvFA8MSZTfr9MRlXkWQKTkpIUjnbIbefj46MwXJWOJlB8RXOJXyyBMfSVWvv4B2KebSD+0gqnb3FI4F3eBz39SN3v51USt3yK6YMylEngxj+s6H0wTtz3QGVIJ4Hh2Lt3L0YdegxPpggNKTJA3lSMDAnWkbgt/jmITgU4qy9MCe47QUqUSeCW7tz87wE+enSrDAoTeHyKB906ajnDh3Glfp8xXAHOTt6SOpbPF9juDGCoG1cedu01EkzVYdSfEqUS2IMbsBBxezzdKkO6Osh2R1yLkADf72T6nYA97hfAVum+phtXqVfU14qez6vBAD4k+/yumUzuk2cJZAv61NP9VOGqVaumMFyVjiZQfEVziV8qgXsnlaFj1txd2Ikg8cRvzx1QQOiR/jSuhxtXnFhYKB6poWwCu1axxYyDt/m97JOBBN/Q37paXGFbe9ZVulVMIj6T37Z6nLEexqcv3aZEmQRamuWsu4Il3QQaGjnTrT1fk3HutY1u2XJJ6qQ0N5XeyAsSrgOmbGd+X4YyCcxvUYH3KU+6Cazrx41mCtndGbt2bcRzuqcYm1bckOkfT1aRuH4IUtD6VuoVjQvE0FV+KJJO5SEr/J6ZjCoQfAKPHTvG+9SLKMHc4pdLYHSKQXsREaxdyvRJiE4ZV/FgP2USGPUjIseDBxUm8NvNcXRbsFwz+HpyWfTQs+nMiIk8TzdVHLww2JuLa952Gd2mRJkElnXkes0TniymW2VQmMAdo7kP+4xdXegyrJEmktge3Mh71iqD1LE8O8C17D21bPBwdxc8fhQIphg3jColOUlgVm3rKUJhAuPCttMtU6IT5nfmvjEse56OriZw5hod9Dyx/39c7WfkpbTSViaBZRwt6HZh9/RHImfG75vJ5DaCT+CRI0d4n3pRWwKPHpWZ5lYn4iuaW2hEAqUxS1qzxtyBjS8lmPyYhL7L2HQcizIJ/JGDHm0pWUqgXfXRvI+D0eK6Jja/k+AZLYNf0f2MUCqBd6fTngPtwr58SPbJhgR/Js/DrWzPVcnWv0hAk62P8eESZ0IoI35pCeYGYiajIoSfQPaHTaSqXUJCgsJwVbrkBLIXZ2fAKIqkie7mzZsKw4XkFixYQAXIkvyWCmkaU16pvDqRTs9iEYWooeSKEEubc5+axpznO2IizyZ/fpKOHnp/bjQaLbzE76UmBgYk7shr3wBJKExMTHLFwBRLVoS4blT15PvVLuiKY5+yb5Aq+9ym6WRn+sd/OQNXq7bc/CYlyBUhsvbkS7SeARuGs8fU0d4QM5awJt7NaYff3w3NwWhbwauYHQkzw1v2biNO0Ydm7VkStmZa1LQgXbxLwhkPuUue44J2BcDUmIDXr85R84bDT3MfZbNDZkKsoM3AbcIBfo8ljrOWS2A/B7L34lTCC3bGRMiuLanBk1Nzq0NLVx861u5wMtclcazBGj1KfLqOxnfz8oIZOS9TnGsFja5K0mFgDa+iBclxQ4TSz4s3adwgvEdRJ3JcpwC8mg1DUsxZmlZL8lzcrMk5jEqRZk7G5I4QXRmU6nsYp4YVh1eTOqQJNwLhF0eTmzQjR7nBUoVLl4K3tzcqVamGgTuDsL9fCTA+nH1HFkcteSHeSwTmtHMBo2+OCSuPw44cb7Q6+5/rMxNiVR0GDmNSLLnx2g9tBi2n7ftaVgyq/8113rMYkfsafvIzzs2tBkaX+wDNziNj75ftCe9ZjYFdI/kJB4i8QI97luLTX60a2qxhV9u4xaWT+B5saw3GjBtzOLiyMRyarKJ+Fi9bBg1mSe3+KSZXhOidj0Hp2ReJ7w29sZ1hCYi+N4X62abyl3vL4KDLZVcFyzXF50Qu4xjf0YOGmZTuBguyHUGz0xAadoNow64xdahfz6EI3C3I/2srXikiI7KSnR5d2hH5yHXYazmUrY+UJkMHt/Wm4YyWNWZd4nKCI5NLkjBu2KLk8056/D6vLr513Lj42gUx6jA3KeLTzcWw0ePOb12qMT4lsKp4he7fIr64d8e4/zhwY5XnDuYWn2AYAwzwS291PxlixUYAiEIUAAqFGBUVRQOEwIkTWbflrKlIbXqxiJqooYjZqQBQSojxsTGIVdAyjYmJoQYjc0RCWhPbis6bEBeDmLjMm8fqFqKE3FeOn0E2yZYQJWFrYVCXNSjCMaiSCZ3dfGN+DYy4w/fNRB2FXkduWcvscGZRKxiX7QATe9lwmQerG6P3Rd52cBxpbzVjLfw+g7FVNy6MUN/OQOE8MSnqFGL8k4VwGXMY9W30oc5aRTY18SvM9fVwLjgUD49MR2ELS2z/CvQub4xLya/fZ5jrluX9HG9fhiI0VN6FfVXcDyGd880yrFZ+nEye9fcdNkwx4OU6mAzZwYcBs9pbYceH9Oc3q0+IYdAxqEDT9uLFWTAWVfhw1ZM9IUoekQZoSX7nHUyN63C+071RaRZnz+jDxbFw+puzRqAMKYUYfnUYSk7ghhJ/vTUVlsP3EV8UzPU8qK1Q4AecdeySR08oQl1CLGaul8IkAbnLJ8ug1TTzxQFzA7FiIwBEIQoAhUJU52Jtqubw4cO8T7hI7eiyJAtRSEaD82p6jjoRe2wEgFgmCgClhRj9aCFcx5/k957A0HsI9fX3ZkhznOPB8ioYezWb5WvcfTDVh/M75Kbsi9PtqEoMTkjXDEq4BbseG/mdjFGXEFlzJKtfyHqQjo53xoKH6mnyK6+JUfdgW6QGTp8+jfVTm6LlYvajcCK0mMLJ6/LGv94A2x4pF4uS0C8kqV28XFv9K0o6eGAvOe/+jSNQpAPX1rqyqg5Kj95F4v/A8j9LgynM2VTLDHUJ0e9P/mMw74yrj1Z6zEx2UVqIT3a1Rde9UnN+n8CYlqI3PaW5Ng5/4kL3DnPDrGy+jbEvN8DRl5s5x1KMyYcPZLt5YH4MPscNxHq5pw36HM58lgCL2jSxuy02s5YWeMJO9kXZabKhHapELBMFgChEASAKUQAoFOLPn5mNdNQcTp6U1qCFS9u2bXmfqIkai5idCoBcEeKnM0NRccpp6t882A4jjnHDb3t76WLnp/Q/2GbKl/2waD6Feo/NLot6Ky5T/+N93TDoVNYWs1GXEMNv/Q3L+sMhXdBv25AK8JxwkN9TLTkW4oFRzvj7stQEfRKMUjX2C3ZXbtHV18f7oPQsWTtrSmNtHON7bCTv/MA4N+Z2MkE9QnwHc1NuNey8IGdC/L4L1tXlv153ttVPfhs/n/ZF6w0P+b3s8A5ajvV4P8fBBe3wQPp2hO+Cx4Dd/E7GqEsTe7ob4pqcuaAf0GEMkl9oVZIjIUa+fYiQ73J3Tvnx9g7Onz9PTUUqgyTqFW6+TNvnmvgtiJz3aqazhFKi7jIx5NZFco+X6CwpdSFWbASAKEQBkEaI7FpWt27dQkhIiCDc6tWrFYYLydWvL1tJXNREDUXMTgVADoSYhJ7eNmjt64taJfUx6CTXwP96dxYYx/Lw9e0ChrGDMuPmVvcpiuodfdGurjPKjeVGq8V/+g+MeWFyXl+UdXPGqyz2IahLiOVtGPQg98ben2/n+mD0y2awgFvuorQQ944qhI1XD6Eg+yW7YDnc4b/9ujBFkieUJLzZCI++WWvPSXlzuDsG7TqGsnbkvDoFsT2YG3nX3Vo3edgHuyouU+zX+rLP2paVX2coCnZMOd6vWpQW4oFxTphxVza0sRLjRHQTqMI4J7fjYh7PQ6UJ5/g9lu+YM2dOGnf9s6xJ/OZkL9SYIluqYGL1/LjHj3P4HrwPcxaxwz3CoFVjLBeYCXknxDfQMW7B+1VLjsrER3v/puNJdEu2xmvpgJKYl+haTZ+GN5+aPS2U8uXJNjizGm5dhghY2pkQg7FtHOh5u61O+WJkjLqEWNNWNr6GMXLG9IPK9FQph1ixEQCiEAVAGiGyy1zVrVsXjRo1EoQrW7aswnAhOUdHzpIXi6iJGoqYnQqAPBNi9HM/mLh7oVo1b+gW6cx9d0t4DkMmH11R0MKYwcWfOR9DrS4hRtyaACMnb3rvUuf35Fcfxp8p4Vg8qgkKVq6NVRce8WFSniOf2xBsG1aRVsmHbL5JQwfXYxCa3GR8DcauE+9XHnUJ8cftcWi1PpTfUy8qE2LCt7vo2dQLRTr/hathqddYCoYOIxte8enyGDTeEYaJrYwQILWAwlpb9O7H7yiP+oQ4Hs2Wq69tmJK8KxNjHqGupxbVxPbzpaa7ItGnoQsNs6jRDRkvr5U11Jad3hiBmnNYm4nqR6zYCABRiAJAoRDZr8Xh4eGCcFu3blUYLiTHds5IoUIU0WxEIWo4VIDstz02OxWCW7VqlcJwobnXrzljZFSADRo0UJjfaqLr2rWrwnChuYCAAJkA2Z5wodCrVy/eJ2wePuQ6FkQBaiiiADUctQjw5tLqYMzqZ2iDNLcRBZgFIu9M5AcBlU82sDOuAjcoyHumbNBSlWJF0u3vvLG4BhhDbrn6daOKwbKjbM2/nJAVASZ9u4jCttzgLdaV8VV+Tf7ssKyZG4q0Y0fnSbCyTxnMf6C84cMcCTDKfxZJuAFsCzIIoAPP4mFcwIAuC1R9ITdzF3GPMHfaNKy5lnKBHuDcxlmYsuYsgra0AmNXnobdObEUs3bzQxLjnuCf8ePx97QlGdrxTo/MBRgJW20Gnt2Wc3vP90CP3HejbUF0n8X/+CJMnDgVdyP5AEST/Yl4EgdsWjYRs6X3ynN+zzxyfAoCf6QYvfzzAf3Phpuy9N/wW4Sl/z5A0J6F0CXXbPznONwI50bkvrq+gcY/9SFr+VUuCNAIM8Y1Rpv/ngPhW2BaYRR8pAKMOE7fbBcvL5iQbamJ3GLykxpbknBjeBV3B6OrDcaJE+CqIYVg1Go2EMstdnXg2Wss6sWa06qYbRNamQkw/NoYcl49pOwFjoyTfaTt4q0DRtsCXl7celWTL78noV/p6nG6jBaKlShGw+stuUHjdypJtJhdea24Iw33C41F4kdusS92lTZjsi0yihuiubCeLZxbbMapMU2gTcLtC5fA9jBgcit21TpDcs3i9H8dN9+n8TMiVwT49M1K6BSejGsTKqLxfw/gbcigxqLb8OvmCp3K3PrWkqC5JK4d8SXShbNm+XPDh/8bXg6MQyoB8sS/D8QiX3bhLJNsa2FmAvT3a07O66LQIr7k6z5yTAsP+bfmxOTSYFzZDuRI+sDb7HtKwwc46ECr0zQg4TqJz4DPc3DwyAO6XdLVAUZluAXIYu5OI3Ec6Mh3VoBOzdYQXxLyk/8texxDvA+oNm7nzaWF7ukMxqhEpksv5IoAP5ESTkvHDKUKMThOspdyBYgAl9zDgpq20DV1pEvJeZf2QbVqDcm/3kGf3OgOfq538M4OYGzlBZgUeRb5dBm4thuKg0tak2vYpRo1nTmZCfDbzfHkvDrk3mX0GdIWe/3fIzFkATlmmnzs0Z62ZJ+9x2i6ZuGQ86w2AsMK60Gny0yizgfIcQZ3aaiMv5obQy+fPU1/qTLlSfqr0lHvMgEmUAEuDSKv0U9uRTbpOaL9J5N960y/leaCAC2ov6YpWxGwpFldVTs2C72GwA1NwJh4UMvzN9cvxqEX3KRuFwMGhXosIr6fqG6rK5+Ftl6E69PrkP9xlvzvbmhIzmuf6wIEeTTs3BDr2uPoQ32wl12Ik8GMIPaRfaL+VovZithHVC+kB4ferFGIb1SAg8+lFOAM4vtEBdFoNauDb+BoYoe++x/j3tJmpILmSUJImX9gLk484IZkpBQgmxtNvv0FP6MTYKXDoPQg1qxnHLpVMYdRpRE0fkbkSICRd/6hCWVHSGwfbEOymc40vHR+Bl4zuFrooIaFaRx2ldIBW7ixMbEv/oUNDWMwZkxTMDruNHxhr3xgak8keVggCttwx72rVaLbG5HZM42SuQAJcUGoWcyauz8tS3RdLLO+Ee6/GoXZNRjJsUI1+0hD6b7vybd0r48VOd6MyyLfXZsPa37NR9cK7ZJfuN71SDnPnp/JjwHbubUNZ/jowbg6V+Od0tSKHp/7KBqJb4+ijDN3DosyzbM0jz9HAvyVyZIABYAoQA1HFKCGIwpQwxEFqOHICbBx46zZOdME+vbty/uEzYMHXKcBFSA70on9wisExy6XoyhcaC4oiOu7FbNQDUUsAzUcUYAajihADSebAkykK2GnJjE+BjGxOTefGpco39+ZlKDovEkK7yE1eSHAmBjpvDn1kWUBxoVtBWNdHB06dEBxZ3dIBwHsG14CDtWboUPzstApm3nveXrM7+iElvtk9pyO/+0Dm8qN0KFFBTAl+nOBkZfBaNnTe7DQ1cLdDOSobgG+OdEXpka6eJLz9zhbZFmAdV0ZcC0OQtwZWA7aSTwxMLAszYUR+lbQwovsfTQgvIerU37071cB7fZLBRiP/KbcOBmWUTV18SgR2NTRHVt4I24JTxbDcyJn1F0R6hZg9UJaCAtaCFfe0Ly6yLIAS7swsq/DSXdgaP8X8VyHhddULoxwdkxlTA3MjsFlQtI3+j0ueFtjtE7WwLswdRvD+8lVptfBuAcJaFGWSdZ80oQFU4Rbgk8RahVg1BkwNSYRz08UMDDjwtRElgV4dX59uI7ehNDQEPTqWx6Wjv2A2OMw8JYJ8PToihhxU/YVSxL3TW6te869UDhM4NHWFAKMOQdtd5kttavTauPPG9FoUJiRfSOT3Adj6svvpEWdAtwzohCGH/Sn6ZvXxBbjU9igUzXZqsS8u7IZkyezX4xvwaDRXLINhnUhWbm3v48X1r6ViSfhwwUSf3IqN41qXGrkBIhQWFnz5R7h5MgKWPQK8K2mT79uU+JugKk3md9JizoFaGVggalTptD0TZ0yGFole/BHVE+WBbiulTn+vMa9/+enV8HU+9wwIxtzI37AURLKW+goPd9dXoCAq5VOslX9WnZadHzK7fn10HEvNzzPf1NrtNgiGwKYGnUJMPbBeHgO28/vcTSxZnA/u2NAlCQbGvgDvlUK0M/9fVZe4MOADw/8UFCPHQagixlnZALILkGb6qHZHm60F8uXx7tRyIQbXvDPEakZkwgMbuFKw4p2m5jhiC11CbCFG4NbqYT1/vhgmPfy4/dUS7ayUE1CrZWYPEQUoIYjClDDEQWo4QhWgL179+Z9wkZOgD4+PmjatKkgnJOTk8Jwobnnz5/LBCikMTF9+khHUwsbsQzUcEQBajiiADUcUYAajlICDD0xDFZFvUittQwMa/Tjpz9L0K20HtzK+qCIszE6beEsCGWH2Ld7YGjvTs5bHvnyVU6elbukiysKlSyHCpVKocGSK3xoxqhPgM/BTotma/Csc7fXx9QbKaeNqhalBNhIVzv54a5uVBD/RRLxhR+BccdVfKgEjI3sS31WmdacwU1+bn/QhhoYfvkb8OMsGJ+hXCBhSl1rBGdhwrz6BBgKpmgb3s8SCcZeZgpS1SglwFub+6LNzLXYu3cnvCo1oRM83x3rg27bZV8Tuhjlxyven1W++K+Bzx+TyHn3onmNighMBOJfbYBd/x18DGDXcGtsf5m5BNUqwBLcxFaW+Df/wrjRP/ye6lFKgMv7u8N3xV6cPr0fZTy88ZGEBfo1Ro/tIVwEQlcTHaS0ZZ8QF42oqCh5Fy0/Kun2hvaoOGwZOe9pdKzqirNUzb/DWjs/bnyJwsfg/Shhro1Vwb/SqLQX9PNWSrfumTR/Uj1KCPAHGFfZOrBfzvdHu03BiLg8Em3Wyj6wttCzxAfez3Jp62hqQVDODWW/6ssoyTgiedH0yKOwac/OI2eJwxASf+rRYPgNsMXxLMw9VqsGFmvP+zkq6evifRay+dxACQEmwMrQHVIdODbWA6MvEFFF3wZT/k8+NAyMQx3en3W62BnT0WcsH870RbnxJ4nvNXmri3GBSIRpfk+6zmFmqFWAxTvyfpZElNA2kbM/o0qUykJjXh2FtzWXXdT7518+FNgwsRmXjeRzw5E3SlhGiwtGA9bADjlH0baTko37BB0cy53X3AvnUiw2mRHqEyBbC5Vln+y6g/OvvOSPqR6lBKgJqE+AeYsoQA1HFKCGIwpQwxEFqOHICbB8+fJ05o8QnKurq8JwoTnBfpHv1y/ny9ppAnJWKsQsVPMQy0ANRxSghiMKUMNRQoDvYWFhkeycXN0xgJ/m9fHhDthaWsCz3ViEKzFXvHCK89o6uqLCn5tpeHzEfdSytUChRgPxJaMpSSlQrwATsXv1QHrfbh3G4m3yJxXVk2MN9LGyQxjrSXwBLatK1Ih4zMtN0C6VM1tlfarn4zquJZ9RgHEEZ2I7Ep62lWSfnDJAnQKsaM9gxYVg6o99ex6WjBFeq0mIORLgof+VQP9T/KN9MAO15soWB66sY5slk8GKeHmqPzzGHqf+2OcrYd9fNtdu/zgP/Ced+ZkB6hLgu5O+qLJM3tz55wf78Cwq29YelCIHAnwPpoBsxZbgXS3kvsh3S/VFPuskoQhTQLbMQMxtMD4yYwZ9CjNYGpj5IvzqEuChP0thwTM15pmpUFqAz3Y3Q/ttT/g94NWBzuixUzZDt7uJAWTiBNYP5JYdl3M2tfmjMhLDVsK5C7ssjYxT81rQ+MbuVbF4uAt2J0+UTx91CfD8pEoYeyd5aReORPUZi1FagL5O+cCtWcKRELYFToMP8HuAjY4jHeyUXfYP8MSs4BRvdGIYWg6TjnYDehYyxYtfaVTa110wrT+H3+G4trAmKqy6ze+pFiUFmAQzC2PeLyUG9kRLZvjtwpz+XiicauJ/VqnhpAvZ2DaOzs4MRqzaheWTmqHEYNkItYxQZyVmyxBPFKjcHbt2kbQPrgrdUp2zNOwjN1BSgBJcvaLoDUvExfPncelxFvK4dLh140JyuZqSGxfP49azrI80UacAWZJiQnGepP3qM3aMnvrIQSXm10bdAswrRAFqOKIANRxRgBqOnADFKdaah5wA69Wrh5CQEEG4du3aKQwXmgsMDJQJUMxCNQ+xDNRwRAFqOKIANZwcCDAOERFpzbtGREQgMj4nk+Mk9BypzxDzg5w3LuvnVZsAk9jnEJHs1P1hSSkBfg1eDtOSdeHr2xaMeRVwE8kSUc+BQaMevmhawQy15mXNGIEcP+7ByMGLnLcn8jOWeMl/lflfjXyo2v4P+HZvBK8xB7nATFCXACVP5qBAqYbknn2p83Fl0GUH91DVgVIC9DGwJeLiuL2gOl0HPenjXpj13MqHArqWJRR2SmfE2KoGyR+B4++PR+fVDyD5ehRMTW6hYZaFLW3gn4VxMWoTYPAc+MyQLZ7M0oy8yCFqWgNECQF+BlPZF4v6sAv0M6g/fg8NfXP4D3RP8UG3m7EJuEW3s46dcRkcW9Kenrd4O86gecKbrbDus436WbYNNMPWF5lLMC8FeHdRYwy9qB5TI0oI8C15wNq4w49qODDMAzMe/MDj7U0yNHLw/cNzPH78WN49Y1eYl2Glo4VVjziT/W+O9kCdpeyy5dEoaqiLf+89xq1jC1DWWR/rsvB656UAgzd1Rst/U3/VVA1KCPALGKuqvJ8UW7fGo+lSf0TdHI9my2V5f0Mdq2Sr8ywBZ9Zjzpw58m41p71SnEi5xy/MQmotV2DWiltrnWU1ib87IBwbe1jjdBaWZchLAf47xA3Ln6rHbL1SZaCvC4MD/HfLLb6OWB9KqjGxAWCKduIC4/zBuLbg/NlgwwBrDD3HjXJ7sqMVOu1kx9y8JxpfiC9zv0Hfogz1ZYb6BDgblRbf4/fIe/fpLBiDStku/5VFKQECH9GnXn5aVvXfJhsZc2bzMBrGOFXF/QhlkpCA6X3K0HPU+Z+s3Ht/ew13XvdGeJxF2wlqE+DThdy98c67xTA58yqqRkkB/vqoS4B5jShADUcUoIYjClDDEawAf8tlB8qVK0eFKATn6OioMFxoTlx2QMMRy0ANRxSghiMKUMMRBajh5IkA/6xrgwrVq8HNRhvz7nETsXeO8oaNV3lUKVsINm3l59spgzoFWIlhUKVaNVSTujbD+SOqR7UCTHiH9fse8zsc366PQdXkz06foGfZgWy/owBTkwsidHLR4wwn5AB1CrAC4ww1rXmcBpUI8MWVbahVzg1N/pqN96lmOm7t5YEDj87BSocBU6Yd983wxwUwHRfQ4yx+Q12wLYdmHtQpwPKMC+9TP7kswK9wKcBg/e23/H5aFvdwgkNHPotMuAnGqStRyyNyAtw21BWLHqWad55N1CnA+rqyz0ms2/yeP6AGVKKBp9eOQNHCxTFh08k0w+zW9nDGnEeyDMfH3BqQBIBpMp0PAVb3tcbRzzn7JKreLLQQ1GfWQB6VloHfnp3F2FV3+D2O6IA5MGwhHSoRAl1b9it+EpwYu2RhV9I3xpccftJWdxn4k/erG9VWYtLh5OrOXHZTtA5CeKmFnJkNc5oF6eHvIykNlCiHOgVYnDGnFqrygjwRoDpQpwDzElGAGo4oQA1HFKCGIwpQw5ETYPXq1REeHi4Ix86RVxQuNCdntZ4lNjZWEE4ikSgMF5qTkixAEc1EFKCISB6TrISJiYkoXLgw6tatSweqie7XcWZmZvDy8lJ4THSa5UxNTamtppTI1UXZVuH37+pbUFska7AjXo8ePcrviWgyrVu3Tm7JS0mjhF++qGtFbZGswnYzHTp0iN8T0WRatWolKqEmIiqhcBCcEiZEhuLetau4fO4y7r36nmfjjVSNqITCIc+VMPbVIUwb3hVdu/Ju8jrc/pZ6YNo3XN89UhanWz9MPRacZuCi5Ms+DCrKgDH0Qo89T7MxXiweoWfnYRB77kH/YM9z/p+SDzixoT/atGmDTrP3Iw9XukpD7iphLD4/3Iv1s3vzz7gb+oxfg80PQ/Epi6s2agYhODS5F5Vnv5mnUhmE+4wnRy/gVlik2tbekZLnShjlPws13GTDmxnGHvVW30YMf5zlZ8BM1NFPEUfLHNUXXpaLkzMScGd1U9iy57Yrj39u/fodUbmihD9vYsUfHjCmz1UX+UtWRf1mzdCsWT1ULmoCHRquB9s2c3D+u6C0UY6wQ52Qn02rSXtsUOPweim/kBKaoVLVLmjboAApydph+TPpl2d/LGtsA8azCtr92QXl6Yshr4RRIVsxqp0H7LTZY7yzKY4ao7ckW1iU8vPpdoxt5wYraTzGEHate+KvPtXgwO7bp1BCSQgW9srHxas9ETf4C8a+2oPJLT1hn096Dt45lkTNMTvhr4Yh2zlVwqTwoxheSovet07V4TicbHFQRszduejQvSma9ZmH7QEf5WzBfbm3An+2Ko5CJimfgSWcqvbEpOPPUszc+oIjkzkzpYx5c4yZ1RO13XVk/zGwg3uXmTj1IaWSJ+HtlTnoUdMFVillqmML9zp/YNbVsGTbtSwRjzdgVH1XbvKUNK5tcVTovwJn5Yb7X8EMHz163KTmWgSSsnBzXUPZf6TOuAqmPeKqPQlhhzBrUCWUKJgyjj7MSjVB7zWXczyjjuUXUkJ9FO2+BXv3DYOnAQP7Pw/QVVk/HOkNW0MGRYZuxpFN/VGcPgRWCa+RlyIBT7a1hi0rKBNPNJp3EXSaVEIAtg72hikb174dFj3jzI2GnegNZz32/yYo1HMJLtKppvF4c20c6rtxwmGcUirhc6waUoiGG7WajXtsPeXrRcwf0xldu/fDrIsyEXy7NIAup8gwVqi99LrKp07kVAmf7G0PUy32fgui/pIbyIJBT57POPx3ce5ZmRZFm2UX8JRqxBc8PDoINd306TGrdktwlzbIv+HU3Op8qaqDAjUmYO9rNoONQaBfJxTilaxA35X8eb7i3Oza3KwL4+JoufEGtx52/AOs7FsU+kau8Kw1ECv9WeFF4eaixlyGalgEjddeBS3Iou9j/ZBiMGLDrVtiUYB04ttNLKxnS6/n1GwNOJOTEgRub8OVhGZtsTxYmrWTd2tnO1iyiq1rhjJDtuAKfV8S8OHOQvSoZkHTpFusP/w+5awC+2sooStJKGOMMn+dQTiuYWpZUvrkq4epVw5iTkszcqwyxj36gYir41DelI1rhhpL2Ed4G/Nrcg9VK58NXIqVQPHixTnnbgVt9sESV3rWNRL3Iw72KwF9NqziAOxOtXJj8K6OcGRfStv0lfAOXzhLvt/HqX9Ho19tbxR2dYSzgyksScbBxmMziPLzziGthf/cJadK+OxgZ1hRJSSZxqKripVQEo/oxDikXD4g4dEsVLZk/2eG6n+fR2pT04/3tuNefqY8hp9kJ/RG49zcatBiw3R9MPh8CvOc3w5iZFEu89MhpSGd3R1+AD2rsv8nitJ1I2TrNivg52WMak1qTiSurokt3ErI5F/UzYqTNXFWY3eDU8NbCpQwAQ9IRs4pYRssDeKrTpGH0K+iAY3r2GQV5FcuJ1mI/2R42bLnt0YD8n7lRN6/hhK6sInJj4rjz9CHFbq7HQomtwG1YTvIj87P/nR2BMrSKiBRwkXsurCvsL27G1U2w+rjcTrDZksMri+rwz1smyqYdDvlY3uP/4aXhQl7zCE9JVxAXpI4PN3aBS5sPC0bVF9yieT/HB9O9+VLQjs0XnNb5RPpc6qEiZ8PYZiPLk2bllcvbHqV2jh5HIK2tocrnZKsjzLT+Ywl6jjGljKi/7PqtAAP5PrQvuPE5NJcqefSkpQqbK4ViTPJSlgeg8/JGl2S8P0YVlimhEFsyZl4A/9rZUrDjEv/D4dTPMiEd8G4cvQ6rn2KIqpDiLuDGR2subhlJuBE6v68NCgqCVMooXk7rKD3zBKMLV08oEvC9bx7ktKOD+Z5vrsznNiM17A4eh18IVc9zi6/hhIWYgVtjlpLrnEPN/I4xpUxpg+LMaiJ/13iiq24oAWoTUtNU9omZGvtSd+OYmx9LjdktCzgVIzNCQvxubwODCsMg99LXpIxd7GshyMXl7QFLd2LoXhRF1izVVQtHeiwVQ/H9JRwHmlDJOH9qWEow7+YHv2W4+LL5/DfOxT1zNkw1pnAa85JlU8EzY2OGQl5Huv6lIKZtN1lWQiFaUniCltpya5TAk1XXUfKDusfIWvQvTSnwKwsHIqQ/xRzRUEj/j+e7TH75he+l/ErqY5mRQlnIIAXU/yTtejsxbVXGX1LFKIyJXIizRIaZtcY025z70TSp4MYVcmEC9fj4xYrBDN6L3rI7+WLFYGciRvFSpiE0AN/oBD7f8YI5oU84Fm3H9Y9J/cXex7T2thz907kbe5K3pfiReBCawLE5S+HHrsC+QVxlCfPlTD+wxVsWToVU6fOw9ab0gZ3Il7d2ULCSPie83jPfxqI/3gNW2ncudh84zWnsFISg3Fz7xLMZf8zdRYWbj2Ha9/lYsiIC8LFLfMwjcSdvuQgzn1OQMyXa1g7j/x3wTpceCutd37FnRNL6X3M2n0V75JP9wmPL67C1CmTMWniMmy8/BQfSCsw4PQS7p7n78ftbznJGzMnN5RQhgQ/n1/ByV1zufufOgPzd1/AzY+RGRvmj32DkEtrMHsm+5+ZWLD3Mu6naQzH4Pm1zfRZT52+HideyAyTSKIf4+SKGfSa0/dfxsfU4op+iEv7F8nuac8V+H9NZzmRmEBcPiCNOw1zNpzE5c9Rqe7/LW74LaRxluy6y7UfeeI/nMOm5ex/p2P+4dsI/ZlSfpH46L8TKxezx6di5tr/cPZj7n2vynMlFFGO3FVCkbxEVEINRVRC4SAqoYYiKqFwEJVQQxGVUDhkSQlZwxcivxasEh4+fJjfE9FkMlTCpKQk+Pj40Nm/LVu2FN0v5JydnVGxYkWFx0SnWY6VpXS9JSlyJSGrgFFReWX+VCQ9+vbtixMnTvB7IpoMO6tDamJNitgm1ADENqFwEDtmNBRRCYWDqIQaiqiEwkFUQg1FVELhoEIllODnuwvYOqEOvKwMYWhoDOvmQzHnsD/CFUy/kkQ9xunVPVC7pAmJS+IXrIA6U7fi6NNvORqhrjRhW9CrcRX0Oyzfa5VMzDNc2NAXjcsW4O7Xsgyq/70eB4K+pDG7Eff5ArZNaoZKjuxzMER+zxbosfIArn5Ufuiv4JUw/CBGViwIa9vqGH0sLOMxrBqOapQwKQRberqBYYqh/f6QFDMKIhC4pg1cXWti1CXZTO3vd8agmCUD114bUsxK/4hrK5rAQasAyq+4kebFVhXfAjZidDN7bpS8kSO6HEqrhD+DpqG8LQPbjstwM3ki3lfc29QObrrGKDH3PJ/meIRsa4eCuhaoOOMCXtEwQkIgdo4uBiO9Ehh4NEx+IHoWEbYShmBD7xJwL9MdE8dWgrlFfSwIVPXksLxDJUoYeWsivBwZOE45qcBozhNsbOsK8zLjcZEOiH8Bv85FYWU/AP9KZ5wk8xx+3QrD1NIX23I4ezlTkm5jeevK8BmyBhe+JuDl7pbQL2iO1vue8RGkvMGBft6wMuuOjR9S58/k2J9eMDXugDXsEP3ECxhU0xgGrZbiaeqo0ZcwtL4umOazEaREDiNcJfyJO0sawkrfAz3OkxxOcht/NzQE4/knDnzJkzqRylFNSfjjEHqX1oN+pYk4n6rG9cN/DmoTBWXMfMlLTALiT2JghXww8p6KS2me8WecHl0R5rplMeJGGg1VKY+2NoaejQIljLuAMbVNoes+FifTZM7fcXVabdiQGsDA6+Tg6w1oVJSByZAdSHP3kvuY1d4KjKkvtn/IfgYjVCX8dH4EyhiZoeJKfz6E8GMn2nnqwbzFUvgLUA9V1yZMeopDC5qgeLKBHD0UKNEM43atxbwWHrDyHInjVEEv4Z8qVjArNRWX01T8w3F2bGVY6VbFhPuyeWgpib43Dp4pjQFl4KxH/EsquVkjXSWU3MScBrbI5zEWp9I06X7g+oy6sGXKYuRdUsx/3IlmpRgYD9upwHzEA8xhZ4U7DcTB8Oy3eISohIlvtuEPamUhPZcPZf85ytkREhCqUcKEu1g3qDVa9NqMQD5ISlLIEtRzNkQR0kbimn8/cH5SRZhY1sSUR6lbR7cwqYEptL3G4qwaLJilJF0lRDRuzK8Ds/w+RNFS31QgFrQhpZv7XzhMbUEEYVlzRxi5/IX/Ukf9tBedvBno99qIN9nXQeEpYTzJ3GoVINXOjtiiwPIbeXNwZQFrtc0WTdc9ULn5EHWispLwm/90VGHNVpTuiJHL1mP9+lWYObA8nKzsUWFuKgNBPy9iSm3WSpc76oxaQOKS+Av6oq4z+b9deyx7nHVbYLnFoy2NoGNlilZ7UyshIe4W5jdjTSE6ocqQ2VjD3u/iQWjqSe7Xqglm35cNeI8PW4u2bO5eoDo6z1xB07bsnxbwzs/AoMb/cOqzcvUrYSnhZxwfWxY6+iXQ/3IGkwUSQrC6ry10mNIYyps8EQKqq47yJHwJQeCtW7h1yx8Bn6Mz7mpOeo/nj9m4xN0LQkikEkVELhH95Qlu37uLp18z+ozwCS+f3Obu924AgiMyUKioVwh5IE1bKN7ksLtXSEoo+fkWD/1v4N57xU0OOWI/IpjEvfbgNSLy7vXIVVSuhCKqQagdM78johJqKKISCgdRCTUUUQmFg6iEGoqohMJBVEINRVRC4ZChEsbFxaF+/foICAjAmzdvRPcLuU6dOmHTpk0Kj4lOsxxb0AUGyn9RF0tCDUAsCYWDWB3VUEQlFA6iEmooohIKB1EJNRRRCYVDHihhAt7d98PCgRXg6eEBD4+aaDnJD2c/KxoeJkHE82PYNLEeinuycUuiYt/ZWHbtpVoH8CZ+uIKDC1ujclH2HorBp8cUrLj9HorWB5LEPcPlrX+idQk2blGU7TIBiy6/zPWVe4WnhO9wfE5L+JQpheKF2WeX0tVEs382Ym/INwXzUzUftSqh5MdZjKmhDe3yg7E9efCkBO+vjERpQy04dNyIYOlTTgrDrtEu0CnghV67ApMX4/wWuBjt3bSg6zMY+7+qWiSfcGRKCejn98HAQymWYvt0COPLG4Ep1AVrpemQfMO5JdVgxVihwqxj/NLPLJ9we1MrONvXxtjLH5WaRa8I4SlhKLZ0twNTvAM3z1SOWIRdnYwGzlowbTEH1wQ2yV6tSpj08QD6FWFg1GEttzSylNhDGOSmC+NqU3GZL16iAmajgbYNqs28TteuT0nk3fHw0bVD/Xk30hzLVZJeY+eQgkTZ2mJzsm0Klq84OrwQGNtqmPqQK+NiQ1ejvaE2bPtuQ9p5F+HY9z8PMOUH4HAuVSoEqYQ9iBIWbYNVoYoy1xicnuoGxq4mFgaoeV6bilF/dVRyB1v+4FZLlTkLlJ1zIcWijUl4sqslTJjC6LEjJE3pEf96I7qZ6KBgj/V4xIepjp947NcUznL3S1zr2TiW0jB59HX8XU8LWlXH4FzqyQDhB/BXSfIf5yZYJl0TPYcITwlfYFtfZzAWnqjXZwRGjhyZwvVG64pm0PPqgLm3vwjO6JMalTABIXvaw0bbCnVX3EpVgr3Df8PdSYnTCAuCYmjIy/2dYMsUQY+dz9JYW0t4swndTfTh5LsVT/gweV5g6wgv6OnpZe7cm2F2kOL6Tewrch17BgYtF+OmXAOQVKGP/gEPLXs0XnVP1t6LD8LeCbXgZmMAbR1ybkNTWBWugNZ/L8Ssv0jJWaYT/g3j4+YQQZaEf9iD8WiCOTff4v379yncKzw4vRhjmtmiQKluWBUYKai2oRqV8AeOTyFVMtf6WCVrMCXz5eIAUtrYo+kSf1rySV5tQEcrQ7gOP4zUTYTw8/1gr+2A5mv8c7xeeEZ8vjAYJRkntFgTkNbaW+QxDHPXh2nLRbhPs+Z3OLmmP/pM244nqd+Q7wcwwMMULr398DSX3p7frzpK+LQHPd0Y6PRYg2cC0kL1Vkcj72BBZ3NSry+LVrN34MzZszh79ii2Tm0AD6YASgzZmaKt+BMB21rBilT9LJqNx+oTbNxDWD+uCsxJmHO/7fLtSpUQjlsrG8FaxxJF/piNzWfYeziLY1tHoZ2nLvQrDcb2VzL1/PpgAVpYk2qnzx+YvoeNexK7lnRDdWtTuPquxd3c6pUhCFEJt/o6gHGqjmHbz9DnnNIdWDkATVjLBcU6Y32wsBYoUn+bkPIVYf5HsGf3buzefQSnA96TcjI9ovEp5BT27mHj7sGBm8F4pZxFiByQhKiwSzi2l72H3dh3LQihGShU9PtrfNxDOHEvjKhy7iM8JYzCq3vHsWfPHv69kHf7bjzGqyxMvNdE8kgJRXKK8JTw90VUQg1FVELhICqhhiIqoXAQlVBDEZVQOGSqhOxy2exW5Neif//+OH36NL8nosm0a9cu/eWy2Zn1derUwalTp3Dz5k3R/UKuefPmmD9/vsJjotMsV7t2bQQFBfFaxyFWRzUAsToqHMQ2oYYiKqFwEJVQQxGVUDiISqihiEooHNSqhBJJEpKSMnHpzFORHlfrNBaJRP7eFDkSRyH8cVXd7++hhLLnrFa5qxk1KuEXXNjgSz95yLtmaN28ApzpQp8lMeC/F7zZiCREBi1FK7rcmCd8GrBx66JiURMSzx3NVt3JYLxp7vDu2jx0TnO/TdCsVRNUdtGm8wqLjNiHUP4NSfp+BjOa2oAp4IgSNRvR+E0aV0aRQh6oPP1UlhcozQrCVMJovDg1AvUcWJl7wLtuQ/6Z10GlkuYwZAxQ7M+1uB0hoCkUhDyvjsY9XYPmbuShV5uMiykGRUs+H0SfYgzyd1uPl3yYlEfrakHL2gsjL+ZBNTnRH6vYFXa1qmDCvRQjir+fxLByJB1VFEzqTfLH7MbWsO60GoHiVCbFxFzBjJpmYNx7Yv3bdMo9yS1Mb10AjFkbrAwRzuz6PFXCiHuzUMOKgXmPdUg9heztUV+4M0XQfYeiSb0b0NUoHwr334sXfJha+HkVk+sZgHHohm2v5c08JYRtQlcLXRTstx3P+TAZ77FjsCWY4q3g9zJ3tFBYShiLW4tqI59lMfTPi4w1j8kzJUx4uwmdrRkYNZmBm2kG5CQiaHtjaLPmLbYrMm9BlDBD8xaJiI74nGp2djru01dEJmShxSEJxeYeJKcuWDcdGyeRuL25OZx1DeHZbw1OhZJzv3uDpzc2YmZPb3gX1AFTpCXWPMmd0UfCUsIw7O9dEvnz1ces4N9vdFYeKeETbOzgCF33DlgTpnhy4NerY1GRcUHLVYHgDF7IiHmyEE11rVDhf2fSaWeF4/bBuanslKTjpq/D2feZLZubiGC/xtA3c0Xn3c8zNa3w4c56TGfPPX4OVl0NI23ct9jSm7QVq4/EyVyyTCW06ujbwz1gZWWJhlszthqU+OI/zJ4yBFNOBSo0OamJ5IkS/rw7AW62Oij6v+NIdzX6mPuY2VYPjLcv/g1L8dpLnmJLX0cwzo2wIFhNtu/izmC8lwUKuI/G4fQuKXmDncNIW5HxQJ9jKQ3JRCN4c2MYmxbHoNNvc62XT3gdM9F4sKYx8uuaodrMo3gckbr+8x1hF2aisQMDrUojceKzcPpL80AJ43B7cU0Y6Tmh60mZfTWFRD3CvkU90NSb7TnlnaU3qg9bi0ufc9FWRCbE+0+GM6k6244+jIwNK0Qi9Nxs9KtrLrtfuypoNuMAbv/I3ZdGeErI8zMQh1b9ie4tXFBQ+gxZ51ABdQbOwO6Qb3xE4ZCnHTMiyiNYJfwNEZVQQxGVUDiISqihiEooHEQl1FBEJRQOWVLC8HBVGO0TyQmsEh4+fJjfE9FkMlRCduCsj48PGjZsSGdyi+7XcU5OTihfvrzCY6LTLMfK8vlz+XFWciUhO4A2MlKgVlc1mL59++L48eP8nogm06ZNG7FNqImIbULhIHbMaCiiEgoHUQk1FFEJhYOohBqKqITCIU+UMOr5PiwZXgmedDa9MWwbDMH8S6+RtvsnGi+vrcKk7m4w0GLjGsKqbn+M3HUDb2LUOIA3OhCHl/yBJp66dByjdokG6LXxCl6nmXUjQfTHS9g+pRFKGbD3q4sCFTrhr23X8Tr1VJAcIjQllISuRmtvK5gZ60Er5ZhR1tmWRZ3h87H+6qtMxu5qJupVwp93MK+FCZhifbApRDYdIerpIrQoRB525dE4IZ1WkfAMa/tZgrGrg8mXPybPKZR83IthFQ3AFO+Bre9VvUbad1xdXg359Iuhx74nstWFo29hZWsLMEZlMPrGVy4s6T0OTCoGI8YdrbbeBR9KiMerk/1RsmAZ+P73PNcWNRWcEgbPQRlHC1RafI8PSUksPgStx591jcHkr4uJVz+KK/UqRzzurqwKxqE2lrOfRCRvEHzjBE6cOI0Ljz+Ajo2Pj0FcIlfC/bg3BbUYe9RbcDdNCfkzYBpq6NigxrTLKV723Cc6aC4aGdih/nJ2OdJYvH9ygdwvuefbj7lSUJKAmNgEOj0p9vkKtNHVgcOAHQpm1n/FgfEeYMr1xsFcMjQjRCUs62gOnxnnSf0nPV5gU187MJYdsOGlcCb/qlEJw7B1iDsYx2IoXbIsSrUeg8V7D+Lgwd1YNbYGnJl8KDlyP57SuEl4vLM5DDKbWd89vZn1ucPTXW2Rr6ArKlTzRpkazTB09T5yvwfx76pBaEpKbt2qw7HvHV8ax97HzJakulqyL/alUrR4UtXqypb0To2xJDB3vrn+nkoYj+DNneFOMufWu5/xYZqPGpXwDfwGkyqciQ/GXkp7vk9neqGgTiF02PKE7r872BWOTBH02KnIxswmdDMxhEvv7bzSpuYpVvcuKN+uSM/lq4K//RUbDXq6ry2pXprA53+n8ZkPSybiIAY5kfZsx3WQrSLwAdfX90R1D53k8+t61kW/1SSjGe0KpmxX7HnLR80hv6cSxuDhipZwYrzQ/3Qmc1E1CDUqYQKCd7aEhZYbOu14kqZO/+FEd5jruKATKflohfStH7o56sBu4B68ozFkfCJxLXSd0W5LEMkbVUfcy3XoaKUFG9+taauY3/agb0Ej2HfZBJptSF5h1+TaqNpjTlqbOZ+3orO9KYoNPoDXudSf9DsqYRKpAXV0ZmDUcQUChFMbVXPHDH7g4Y5OKKqvC/P6f2Hm8uVYvnwB/v6jJCz0PNB6i38KW6JxeHmoN1y1GGiX7YSRi9i4czG2oxu0GUOUmnAcr/mYquRHyFr0LElKNreGGDCHvYflWPB3W1S0NoJDt3W4n6LXM/rFFvQuogXGtS58py8jcRdjyuAaKJzPFuXH/aegrag8glPCJ3NRwd4Qjs2GYCF9L2Ru0aTeaF2e1Cx03dBgwQXkUmXil0HNSigj8UcoHj3wh7//Izz9FJ1hb1fs1xA8oHEfICAsXOVGfxWS9AlvHrP34I+Hrz/LekoVEf0Kjx+ycYPw5H2USkproSkhYj/hWdAD+nzTuOdvQF4RwZJnSiiSMwSnhL8xohJqKKISCgdRCTUUUQmFg6iEGoqohMIhUyVkZ9Wz5uLj4+NF9wu5nj17Yv/+/QqPiU6zXIsWLdJXwri4ODRo0ABPnjzBp0+fRPcLuS5dusDPz0/hMdFplmvSpAkCAgJ4reMQq6MagFgdFQ5im1BDEZVQOIhKqKGISigcRCXUUEQlFA6/nRLGfr6InZNaoHoRRzg6uqH0sKU48OR72mFzcSE4v2kwulR2JvEc4VSqA/qtP4obn1U5ZDzrCFEJox6tRf8yJVDUwwVO5Jmzzz2Nq9AFKwLyZOCiyvh9lDD6Nma0sQLj1hkLg8L5dQJj8PrESFS1YGDScRkC+ZH5Xy+PRdn8WnDsvgHXpTP94x5h3z/FkU/LBV23B6dZuFTdCFEJf9weh/KMC1qsDuZDfg80VAljEPn+Lk74DUf3qi6wdS2Hrlsfppl3KCMSt+bWh6NJYyygUy++4U1oEIKCHiHkawziY7/j44v3+Mou/SoJxIJOlmDKjcHF1AZNEoMwt7MJmGqjcCnd1U3VgzCVcDwqMM5osvguFM/wFCaaoYQ/g3H94CyM7FoX1RrURM3eYzBn7Slc/pLVBZMfYl4XO2gVq432dQujSL2eGD9vARYsmIVRnTyQ39AONVfe4FYN/nIYvSsyYDouwLM0Nc9X2DbUFQzTBIse5a1VckEq4Z3JqKmdD85V26HPgAEYkMr9NXkbbuRx5qcKNEAJExH58gjWT+mIZjWrola3PhiwfDfO3XqZZrJv+hAl7GpDlKciRl5POwkpdGdXuGu5oduJcJLoi/izJlHCTgsRmmYx4NfYMcwNjFErrExhqCovEGZJOAEVGUfUn3keb8LD6UJEKd3X71GIFZKFJx7NrI4mvELw1U2YMbI+yjpbwKZ0U4w5FZrBnERSHZ3fANZaRdDrbFpLS6/290IRbUe0PcCaTPiA3f2LQN+8Cza/T3XG2BsY14AoaMMpuJvH9SWxOiocBNMxI0lI4jtb0uMtTs+qAXNdIxQZuBD/HjuGY8f2YvWYirA3cUa95bc5i28sH/+FL7tOvlENdF+6k8Q7hkMbh6N5YRJWqC1WBef9AjlCVcLyjJOohASNVMKsE4dvoddwnrzAhw6dxvmX30hIOkQE4/4FNh5xR67jfpbboKpHiEqY8O0xLh8+g5uh3zPoZBMev6ESCgMhKuHviqiEGoqohMJBVEINRVRC4SAqoYYiKqFwyJISfv+eoYE/kTygT58+OHr0KL8nosm0bt06fSWUSCRo27YtNXHBrl0vul/HVaxYEbVq1VJ4THSa5apUqYK3b+VNGicroYiISF4A/B8d3N3GNjmHtgAAAABJRU5ErkJggg==)"
      ]
    },
    {
      "cell_type": "markdown",
      "metadata": {
        "id": "2Ff_vySXwO3L"
      },
      "source": [
        "Assim:\n",
        "\n",
        "**a)** Elabore a função `entrada` que deve retornar uma lista com as cinco notas obtidas na disciplina. Lembre-se de validar os dados de entrada!"
      ]
    },
    {
      "cell_type": "code",
      "execution_count": null,
      "metadata": {
        "id": "-OS5a0fG_lVP"
      },
      "outputs": [],
      "source": []
    },
    {
      "cell_type": "markdown",
      "metadata": {
        "id": "8uH6yd-5_qxW"
      },
      "source": [
        "**b)** Elabore a função `media` que recebe a lista de notas e retorna a média (numérica) alcançada."
      ]
    },
    {
      "cell_type": "code",
      "execution_count": null,
      "metadata": {
        "id": "xkkcdMroBG9o"
      },
      "outputs": [],
      "source": []
    },
    {
      "cell_type": "markdown",
      "metadata": {
        "id": "Y5fOZ4A3_v9Z"
      },
      "source": [
        "**c)** Elabore a função `conceito` que recebe a média das notas e retorna o conceito a ela associado."
      ]
    },
    {
      "cell_type": "code",
      "execution_count": null,
      "metadata": {
        "id": "uwwaOU5s__JS"
      },
      "outputs": [],
      "source": []
    },
    {
      "cell_type": "markdown",
      "metadata": {
        "id": "walEU_vCBkvw"
      },
      "source": [
        "**d)** Use as funções dos itens anteriores e escreva o programa."
      ]
    },
    {
      "cell_type": "code",
      "execution_count": null,
      "metadata": {
        "id": "CdXgq4wPBopJ"
      },
      "outputs": [],
      "source": []
    },
    {
      "cell_type": "markdown",
      "metadata": {
        "id": "sr3f02QOAHdG"
      },
      "source": [
        "##**Exercício 03 – Jo Ken Po!**\n",
        "\n",
        "Escreva um programa que gerencie um jogo de Pedra, Papel e Tesoura entre o usuário e o computador. Para tanto:\n",
        "\n",
        "**a)**  Elabore a função `jogador` que retorna a escolha do usuário. Para guiar tal escolha, a função deve exibir um menu que informe ao usuário para digitar:\n",
        "* 0 para “Pedra”;\n",
        "* 1 para “Papel”;\n",
        "* 2 para “Tesoura”.\n",
        "\n",
        "Essa associação será a base da lógica do programa.\n"
      ]
    },
    {
      "cell_type": "code",
      "execution_count": 3,
      "metadata": {
        "id": "xg3N8idKGdWy"
      },
      "outputs": [
        {
          "name": "stdout",
          "output_type": "stream",
          "text": [
            "*** Menu ***\n",
            "    Escolha:\n",
            "    0 -> Pedra\n",
            "    1 -> Papel\n",
            "    2 -> Tesoura\n",
            "2\n"
          ]
        }
      ],
      "source": [
        "def jogador():\n",
        "    print('''*** Menu ***\n",
        "    Escolha:\n",
        "    0 -> Pedra\n",
        "    1 -> Papel\n",
        "    2 -> Tesoura''')\n",
        "    jog = int(input('Faça sua escolha: '))\n",
        "    return jog\n",
        "\n",
        "# Teste \n",
        "print(jogador())\n"
      ]
    },
    {
      "cell_type": "markdown",
      "metadata": {
        "id": "E4vPmHeNA1FP"
      },
      "source": [
        "**b)** Elabore a função `computador` que retorna a escolha aleatória do computador (você pode usar a função `randint` do módulo `random`)."
      ]
    },
    {
      "cell_type": "code",
      "execution_count": 5,
      "metadata": {
        "id": "slJsKZ0CA-wO"
      },
      "outputs": [
        {
          "name": "stdout",
          "output_type": "stream",
          "text": [
            "0\n",
            "2\n",
            "2\n",
            "2\n",
            "1\n"
          ]
        }
      ],
      "source": [
        "def computador():\n",
        "    from random import randint\n",
        "    return randint(0, 2)\n",
        "\n",
        "# Testes\n",
        "for _ in range(5):\n",
        "    print(computador())"
      ]
    },
    {
      "cell_type": "markdown",
      "metadata": {
        "id": "O0aCNFrUA_2P"
      },
      "source": [
        "**c)** Elabore a função `quem_ganhou` que recebe as escolhas do jogador e do computador, as exibe e então determina o vencedor segundo o critério:\n",
        "\n",
        "* Se algum dos jogadores escolhe “Pedra” e o outro escolhe “Tesoura”, então “Pedra” vence o jogo (“Pedra” esmaga “Tesoura”).\n",
        "\n",
        "* Se algum dos jogadores escolhe “Tesoura” e o outro escolhe “Papel”, então “Tesoura” vence o jogo (“Tesoura” corta “Papel”).\n",
        "\n",
        "* Se algum dos jogadores escolhe “Papel” e o outro escolhe “Pedra”, então “Papel” vence o jogo (“Papel” embrulha “Pedra”).\n",
        "\n",
        "* Se ambos os jogadores fazem a mesma escolha, o jogo deve ser reiniciado.\n"
      ]
    },
    {
      "cell_type": "code",
      "execution_count": null,
      "metadata": {
        "id": "JpmiW06UBsCX"
      },
      "outputs": [],
      "source": [
        "def quem_ganhou(jogador, computador):\n",
        "    if jogador == computador:\n",
        "        print('Empate - Vamos reiniciar o jogo!')\n",
        "        return 'empate'\n",
        "    if jogador == 0 and computador == 2:\n",
        "        vencedor = 'jogador'\n",
        "    elif jogador == 2 and computador == 1:\n",
        "        vencedor = 'jogador'\n",
        "    elif jogador == 1 and computador == 0:\n",
        "        vencedor = 'jogador'\n",
        "    else: \n",
        "        vencedor = 'computador'\n",
        "    return vencedor\n"
      ]
    },
    {
      "cell_type": "markdown",
      "metadata": {
        "id": "yKVYfrfcBtVm"
      },
      "source": [
        "**d)** Use as funções dos itens anteriores e escreva o programa."
      ]
    },
    {
      "cell_type": "code",
      "execution_count": null,
      "metadata": {
        "id": "p0LmLMQSHJBY"
      },
      "outputs": [],
      "source": [
        "while True:\n",
        "    jog = jogador()\n",
        "    "
      ]
    },
    {
      "cell_type": "markdown",
      "metadata": {
        "id": "y0hFQtjCHbc7"
      },
      "source": [
        "##**Desafio – Pedra, Papel, Tesoura, Lagarto e Spock**\n",
        "\n",
        "No 18º episódio da 2ª temporada de *“The Big Bang Theory”*, Sheldon Cooper propõe o jogo “Pedra, Papel, Tesoura, Lagarto e Spock” (no original em inglês, *“Rock, Paper, Scissors, Lizard, Spock”*) como uma maneira para ele e Rajesh Koothrappali resolverem uma disputa sobre o que devem assistir na TV.\n",
        "\n",
        "Pesquise sobre as regras desse jogo e elabore um programa modularizado que o implemente."
      ]
    }
  ],
  "metadata": {
    "colab": {
      "provenance": []
    },
    "kernelspec": {
      "display_name": "Python 3",
      "name": "python3"
    },
    "language_info": {
      "codemirror_mode": {
        "name": "ipython",
        "version": 3
      },
      "file_extension": ".py",
      "mimetype": "text/x-python",
      "name": "python",
      "nbconvert_exporter": "python",
      "pygments_lexer": "ipython3",
      "version": "3.11.9"
    }
  },
  "nbformat": 4,
  "nbformat_minor": 0
}
