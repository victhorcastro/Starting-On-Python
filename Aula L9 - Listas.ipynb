{
  "cells": [
    {
      "cell_type": "markdown",
      "metadata": {
        "id": "oNAE5ZPfjt3g"
      },
      "source": [
        "#**TTI103 - Lógica de Programação**\n",
        "\n",
        "#**Aula L9 - Listas**"
      ]
    },
    {
      "cell_type": "markdown",
      "metadata": {
        "id": "kahb9Oa-G6OF"
      },
      "source": [
        "#**Introdução**\n",
        "\n",
        "Até o presente momento em nosso curso, trabalhamos com variáveis simples, capazes de armazenar apenas um valor de determinado tipo."
      ]
    },
    {
      "cell_type": "code",
      "execution_count": 1,
      "metadata": {
        "id": "ahmYsSzGoYXT"
      },
      "outputs": [
        {
          "name": "stdout",
          "output_type": "stream",
          "text": [
            "<class 'bool'>\n"
          ]
        }
      ],
      "source": [
        "teste = True\n",
        "print(type(teste))"
      ]
    },
    {
      "cell_type": "code",
      "execution_count": 2,
      "metadata": {
        "id": "YobZcwikollk"
      },
      "outputs": [
        {
          "name": "stdout",
          "output_type": "stream",
          "text": [
            "<class 'int'>\n"
          ]
        }
      ],
      "source": [
        "itens_vendidos = 45\n",
        "print(type(itens_vendidos))"
      ]
    },
    {
      "cell_type": "code",
      "execution_count": 3,
      "metadata": {
        "id": "K1D5CZkro6RL"
      },
      "outputs": [
        {
          "name": "stdout",
          "output_type": "stream",
          "text": [
            "<class 'float'>\n"
          ]
        }
      ],
      "source": [
        "preço = 345.60\n",
        "print(type(preço))"
      ]
    },
    {
      "cell_type": "markdown",
      "metadata": {
        "id": "xAvp_AHNKrMb"
      },
      "source": [
        "Uma **lista** (`<class 'list'>`) em Python é uma sequência de valores de qualquer tipo ou classe tais como `int`, `float`, `bool`, `str` e até mesmo o próprio `list`, entre outros.\n",
        "\n",
        "A criação de uma lista pode ocorrer de diversas formas. A maneira mais simples é envolver os elementos da lista por colchetes (`[]`).\n",
        "\n",
        "Como exemplo, podemos criar uma lista contendo os anos de obtenção das cinco conquistas do Brasil em Copas do Mundo de Futebol (até o momento) da seguinte maneira:"
      ]
    },
    {
      "cell_type": "code",
      "execution_count": 8,
      "metadata": {
        "id": "njI5JPw1qFe9"
      },
      "outputs": [
        {
          "name": "stdout",
          "output_type": "stream",
          "text": [
            "[1958, 1962, 1970, 1994, 2002]\n"
          ]
        }
      ],
      "source": [
        "anos_conquistas = [1958, 1962, 1970, 1994, 2002]\n",
        "print(anos_conquistas)\n"
      ]
    },
    {
      "cell_type": "markdown",
      "metadata": {
        "id": "N8LfEuRuqTYT"
      },
      "source": [
        "*IMPORTANTE:* Observe o uso dos colchetes de abertura (`[`) para marcar o início e o de fechamento (`]`) para marcar o final da lista, bem como os elementos separados por vígula.\n",
        "\n",
        "As listas em Python podem conter vários tipos de dados, o que torna possível armazenar coleções heterogêneas de dados."
      ]
    },
    {
      "cell_type": "code",
      "execution_count": 25,
      "metadata": {
        "id": "3a6c9vxfqzHk"
      },
      "outputs": [
        {
          "name": "stdout",
          "output_type": "stream",
          "text": [
            "['De Volta Para o Futuro', 1985, 'Robert Zemeckis', ['Ficção Científica', 'Aventura']]\n"
          ]
        }
      ],
      "source": [
        "filme = ['De Volta Para o Futuro', 1985, 'Robert Zemeckis',\n",
        "         ['Ficção Científica', 'Aventura']]\n",
        "print(filme)"
      ]
    },
    {
      "cell_type": "markdown",
      "metadata": {
        "id": "Z4yaQTA-rFp8"
      },
      "source": [
        "Na lista `filme` acima:\n",
        "* o primeiro elemento representa o nome do filme \"De Volta Para o Futuro\" do tipo `str;\n",
        "* o segundo elemento representa o ano de estreia do filme (1985) do tipo `int`;\n",
        "* o terceiro elemento representa o diretor do filme, Robert Zemeckis, do tipo `str`;\n",
        "* o quarto elemento, `['ficção científica', 'aventura']`, é uma lista de gêneros do filme (do tipo `list`)."
      ]
    },
    {
      "cell_type": "markdown",
      "metadata": {
        "id": "OEpCn6S3sLls"
      },
      "source": [
        "#**Índices**\n",
        "\n",
        "As lista são chamadas de estruturas sequenciais indexadas, na medida em que seus elementos podem ser acessados sequencialmente utilizando índices. Por convenção do Python, o primeiro elemento da lista tem índice `0`, o segundo tem índice `1`, e assim por diante.\n",
        "\n",
        "*IMPORTANTE:* Observe que, como consequência da convenção de índices do Python, o último elemento da lista `anos_conquistas`, o ano `2002`, tem índice `4`. No entanto, a lista tem comprimento `5`.\n",
        "\n",
        "O acesso a elementos da lista pode ser feito através da sintaxe: `nome_da_lista[indice]`."
      ]
    },
    {
      "cell_type": "code",
      "execution_count": 9,
      "metadata": {
        "id": "4WLDq2FJs4mM"
      },
      "outputs": [
        {
          "data": {
            "text/plain": [
              "1958"
            ]
          },
          "execution_count": 9,
          "metadata": {},
          "output_type": "execute_result"
        }
      ],
      "source": [
        "anos_conquistas[0]"
      ]
    },
    {
      "cell_type": "code",
      "execution_count": 12,
      "metadata": {
        "id": "c0sdH3q1tABV"
      },
      "outputs": [
        {
          "data": {
            "text/plain": [
              "1994"
            ]
          },
          "execution_count": 12,
          "metadata": {},
          "output_type": "execute_result"
        }
      ],
      "source": [
        "anos_conquistas[3]"
      ]
    },
    {
      "cell_type": "code",
      "execution_count": 13,
      "metadata": {
        "id": "LLhRYy4itDvs"
      },
      "outputs": [
        {
          "data": {
            "text/plain": [
              "['Ficção Científica', 'Aventura']"
            ]
          },
          "execution_count": 13,
          "metadata": {},
          "output_type": "execute_result"
        }
      ],
      "source": [
        "filme[3]"
      ]
    },
    {
      "cell_type": "code",
      "execution_count": 14,
      "metadata": {
        "id": "JvWBRu4ttHwc"
      },
      "outputs": [
        {
          "data": {
            "text/plain": [
              "'Aventura'"
            ]
          },
          "execution_count": 14,
          "metadata": {},
          "output_type": "execute_result"
        }
      ],
      "source": [
        "filme[3][1]"
      ]
    },
    {
      "cell_type": "markdown",
      "metadata": {
        "id": "hOGQXmvmtOzA"
      },
      "source": [
        "Índices negativos indicam elementos em ordem inversa, sendo o último elemento indicado pelo índice `-1`.\n",
        "\n"
      ]
    },
    {
      "cell_type": "code",
      "execution_count": 15,
      "metadata": {
        "id": "QLat80KOtVtM"
      },
      "outputs": [
        {
          "data": {
            "text/plain": [
              "2002"
            ]
          },
          "execution_count": 15,
          "metadata": {},
          "output_type": "execute_result"
        }
      ],
      "source": [
        "anos_conquistas[-1]"
      ]
    },
    {
      "cell_type": "code",
      "execution_count": 16,
      "metadata": {
        "id": "B7_WIZxOtbZs"
      },
      "outputs": [
        {
          "data": {
            "text/plain": [
              "1970"
            ]
          },
          "execution_count": 16,
          "metadata": {},
          "output_type": "execute_result"
        }
      ],
      "source": [
        "anos_conquistas[-3]"
      ]
    },
    {
      "cell_type": "code",
      "execution_count": 17,
      "metadata": {
        "id": "3RlLj7mWtgxj"
      },
      "outputs": [
        {
          "data": {
            "text/plain": [
              "'Robert Zemeckis'"
            ]
          },
          "execution_count": 17,
          "metadata": {},
          "output_type": "execute_result"
        }
      ],
      "source": [
        "filme[-2]"
      ]
    },
    {
      "cell_type": "code",
      "execution_count": 18,
      "metadata": {
        "id": "D_efbFohtm2E"
      },
      "outputs": [
        {
          "data": {
            "text/plain": [
              "'De Volta Para o Futuro'"
            ]
          },
          "execution_count": 18,
          "metadata": {},
          "output_type": "execute_result"
        }
      ],
      "source": [
        "filme[-4]"
      ]
    },
    {
      "cell_type": "markdown",
      "metadata": {
        "id": "8VuDUOJOtyVo"
      },
      "source": [
        "Um erro comum é a utilização de índices inválidos. Esta ocorrência gera a mensagem de erro `list index out of range`."
      ]
    },
    {
      "cell_type": "code",
      "execution_count": 19,
      "metadata": {
        "id": "o9Xi6krbt97C"
      },
      "outputs": [
        {
          "ename": "IndexError",
          "evalue": "list index out of range",
          "output_type": "error",
          "traceback": [
            "\u001b[1;31m---------------------------------------------------------------------------\u001b[0m",
            "\u001b[1;31mIndexError\u001b[0m                                Traceback (most recent call last)",
            "Cell \u001b[1;32mIn[19], line 1\u001b[0m\n\u001b[1;32m----> 1\u001b[0m \u001b[43manos_conquistas\u001b[49m\u001b[43m[\u001b[49m\u001b[38;5;241;43m5\u001b[39;49m\u001b[43m]\u001b[49m\n",
            "\u001b[1;31mIndexError\u001b[0m: list index out of range"
          ]
        }
      ],
      "source": [
        "anos_conquistas[5]"
      ]
    },
    {
      "cell_type": "code",
      "execution_count": 20,
      "metadata": {
        "id": "mK-CRslouBs7"
      },
      "outputs": [
        {
          "ename": "IndexError",
          "evalue": "list index out of range",
          "output_type": "error",
          "traceback": [
            "\u001b[1;31m---------------------------------------------------------------------------\u001b[0m",
            "\u001b[1;31mIndexError\u001b[0m                                Traceback (most recent call last)",
            "Cell \u001b[1;32mIn[20], line 1\u001b[0m\n\u001b[1;32m----> 1\u001b[0m \u001b[43mfilme\u001b[49m\u001b[43m[\u001b[49m\u001b[38;5;241;43m-\u001b[39;49m\u001b[38;5;241;43m5\u001b[39;49m\u001b[43m]\u001b[49m\n",
            "\u001b[1;31mIndexError\u001b[0m: list index out of range"
          ]
        }
      ],
      "source": [
        "filme[-5]"
      ]
    },
    {
      "cell_type": "markdown",
      "metadata": {
        "id": "pvQqgtJtuFos"
      },
      "source": [
        "#**Comprimento de uma lista**\n",
        "\n",
        "O número de elementos (comprimento) de uma lista pode ser obtido pela função `len()`, abreviatura do termo em inglês *length*, que significa literalmente comprimento."
      ]
    },
    {
      "cell_type": "code",
      "execution_count": 21,
      "metadata": {
        "id": "UGmn28qvue2g"
      },
      "outputs": [
        {
          "name": "stdout",
          "output_type": "stream",
          "text": [
            "O Brasil foi campeão mundial de futebol 5 vezes.\n",
            "a lista \"filme possui 4 elementos.\n"
          ]
        }
      ],
      "source": [
        "print(f'O Brasil foi campeão mundial de futebol {len(anos_conquistas)} vezes.')\n",
        "print(f'a lista \"filme possui {len(filme)} elementos.')"
      ]
    },
    {
      "cell_type": "markdown",
      "metadata": {
        "id": "TRVgWJ-Hu4jg"
      },
      "source": [
        "#**Modificando elementos de uma lista**\n",
        "\n",
        "Para modificar um elemento de uma lista, basta realizar um comando de atribuição.\n",
        "Por exemplo, se quisermos mudar o nome do filme \"De Volta Para o Futuro\" para a sua versão original em inglês, podemos usar:"
      ]
    },
    {
      "cell_type": "code",
      "execution_count": 26,
      "metadata": {
        "id": "NhDSitj2wKyB"
      },
      "outputs": [
        {
          "name": "stdout",
          "output_type": "stream",
          "text": [
            "['Back to the Future', 1985, 'Robert Zemeckis', ['Ficção Científica', 'Aventura']]\n"
          ]
        }
      ],
      "source": [
        "filme[0] = 'Back to the Future'\n",
        "print(filme)"
      ]
    },
    {
      "cell_type": "markdown",
      "metadata": {
        "id": "bhuqhYoVwYiW"
      },
      "source": [
        "#**Adicionando elementos a uma lista**\n",
        "\n",
        "Para adicionar novos elementos ao final de uma lista existente, usamos o método `append()`. Por exemplo, podemos adicionar a companhia produtora e o elenco de \"De Volta Para o Futuro\" à lista `filme` usando:"
      ]
    },
    {
      "cell_type": "code",
      "execution_count": 27,
      "metadata": {
        "id": "zZi-SNSNxBuQ"
      },
      "outputs": [
        {
          "name": "stdout",
          "output_type": "stream",
          "text": [
            "['Back to the Future', 1985, 'Robert Zemeckis', ['Ficção Científica', 'Aventura'], 'Amblin Entertainment']\n",
            "['Back to the Future', 1985, 'Robert Zemeckis', ['Ficção Científica', 'Aventura'], 'Amblin Entertainment', ['Michael J. Fox', 'Christopher Lloyd', 'Lea Thompson', 'Crispin Glover', 'Thomas F. Wilson']]\n"
          ]
        }
      ],
      "source": [
        "filme.append('Amblin Entertainment')\n",
        "print(filme)\n",
        "elenco = ['Michael J. Fox', 'Christopher Lloyd',\n",
        "          'Lea Thompson', 'Crispin Glover', 'Thomas F. Wilson']\n",
        "filme.append(elenco)\n",
        "print(filme)"
      ]
    },
    {
      "cell_type": "markdown",
      "metadata": {
        "id": "p3KbHts2xwn1"
      },
      "source": [
        "#**Referências *versus* clones**\n",
        "\n",
        "A atribuição de uma lista armazenada em uma variável `A` a uma segunda variável `B` não cria uma nova lista!\n",
        "\n",
        "Na verdade, as duas variáveis referenciam a mesma lista na memória. Isto significa que alterações na lista `A` afetam diretamente `B` e *vice-versa*."
      ]
    },
    {
      "cell_type": "code",
      "execution_count": 28,
      "metadata": {
        "id": "jyQETxG4yRee"
      },
      "outputs": [
        {
          "name": "stdout",
          "output_type": "stream",
          "text": [
            "['Bento Gonçalves', 'Canela', 'Gramado', 'Campos do Jordão']\n"
          ]
        }
      ],
      "source": [
        "A = ['Bento Gonçalves', 'Canela', 'Gramado', 'Campos do Jordão']\n",
        "print(A)"
      ]
    },
    {
      "cell_type": "code",
      "execution_count": 29,
      "metadata": {
        "id": "K39da0cDykDa"
      },
      "outputs": [
        {
          "name": "stdout",
          "output_type": "stream",
          "text": [
            "Lista B = ['Bento Gonçalves', 'Canela', 'Gramado', 'Campos do Jordão', 'Ouro Preto']\n",
            "Lista A = ['Bento Gonçalves', 'Canela', 'Gramado', 'Campos do Jordão', 'Ouro Preto']\n"
          ]
        }
      ],
      "source": [
        "B = A\n",
        "B.append('Ouro Preto')\n",
        "print(f'Lista B = {B}')\n",
        "print(f'Lista A = {A}')"
      ]
    },
    {
      "cell_type": "code",
      "execution_count": 30,
      "metadata": {
        "id": "YP1WuCw8y5Hr"
      },
      "outputs": [
        {
          "name": "stdout",
          "output_type": "stream",
          "text": [
            "\"Endereço\" da lista A na memória = 2423625878656\n",
            "\"Endereço\" da lista B na memória = 2423625878656\n"
          ]
        }
      ],
      "source": [
        "print(f'\"Endereço\" da lista A na memória = {id(A)}')\n",
        "print(f'\"Endereço\" da lista B na memória = {id(B)}')"
      ]
    },
    {
      "cell_type": "markdown",
      "metadata": {
        "id": "vTdOhM88yQ-p"
      },
      "source": [
        "Cada objeto em Python, incluindo listas, possui um identificador exclusivo (número inteiro único) que pode ser acessado usando a função `id()`. No exemplo acima, as listas `A` e `B` possuem o mesmo identificador, confirmando que elas correspondem à mesma lista na memória."
      ]
    },
    {
      "cell_type": "code",
      "execution_count": 31,
      "metadata": {
        "id": "ddFpqiAkzrEQ"
      },
      "outputs": [
        {
          "data": {
            "text/plain": [
              "True"
            ]
          },
          "execution_count": 31,
          "metadata": {},
          "output_type": "execute_result"
        }
      ],
      "source": [
        "id(A) == id(B)"
      ]
    },
    {
      "cell_type": "code",
      "execution_count": 32,
      "metadata": {
        "id": "k26GaA1HzvyH"
      },
      "outputs": [
        {
          "data": {
            "text/plain": [
              "True"
            ]
          },
          "execution_count": 32,
          "metadata": {},
          "output_type": "execute_result"
        }
      ],
      "source": [
        "A is B"
      ]
    },
    {
      "cell_type": "markdown",
      "metadata": {
        "id": "SHhbsYIJz5pU"
      },
      "source": [
        "Em algumas situações, no entanto, precisamos de fato criar uma réplica / clone na memória de uma lista pré-existente.\n",
        "\n",
        "Para isso podemos usar o comando `B = list(A)`. Note que nesse caso alterações posteriores em uma das listas não afetam a sua cópia."
      ]
    },
    {
      "cell_type": "code",
      "execution_count": 33,
      "metadata": {
        "id": "KEPSrAn90Eyo"
      },
      "outputs": [],
      "source": [
        "A = ['Bento Gonçalves', 'Canela', 'Gramado', 'Campos do Jordão']\n",
        "B = list(A)\n",
        "B.append('Ouro Preto')\n"
      ]
    },
    {
      "cell_type": "code",
      "execution_count": 34,
      "metadata": {
        "id": "5ewvzGjp0TL5"
      },
      "outputs": [
        {
          "name": "stdout",
          "output_type": "stream",
          "text": [
            "Lista B = ['Bento Gonçalves', 'Canela', 'Gramado', 'Campos do Jordão', 'Ouro Preto']\n",
            "Lista A = ['Bento Gonçalves', 'Canela', 'Gramado', 'Campos do Jordão']\n"
          ]
        }
      ],
      "source": [
        "print(f'Lista B = {B}')\n",
        "print(f'Lista A = {A}')"
      ]
    },
    {
      "cell_type": "code",
      "execution_count": 35,
      "metadata": {
        "id": "11JD2-_n0aBP"
      },
      "outputs": [
        {
          "name": "stdout",
          "output_type": "stream",
          "text": [
            "\"Endereço\" da lista A na memória = 2423610931712\n",
            "\"Endereço\" da lista B na memória = 2423626086784\n"
          ]
        }
      ],
      "source": [
        "print(f'\"Endereço\" da lista A na memória = {id(A)}')\n",
        "print(f'\"Endereço\" da lista B na memória = {id(B)}')"
      ]
    },
    {
      "cell_type": "code",
      "execution_count": 36,
      "metadata": {
        "id": "X9DPcZjM0fYR"
      },
      "outputs": [
        {
          "data": {
            "text/plain": [
              "False"
            ]
          },
          "execution_count": 36,
          "metadata": {},
          "output_type": "execute_result"
        }
      ],
      "source": [
        "id(A) == id(B)"
      ]
    },
    {
      "cell_type": "code",
      "execution_count": 37,
      "metadata": {
        "id": "fHeUaCu30ju3"
      },
      "outputs": [
        {
          "data": {
            "text/plain": [
              "False"
            ]
          },
          "execution_count": 37,
          "metadata": {},
          "output_type": "execute_result"
        }
      ],
      "source": [
        "A is B"
      ]
    },
    {
      "cell_type": "markdown",
      "metadata": {
        "id": "slC8g5UV0lQH"
      },
      "source": [
        "#**Concatenação de listas usando +**\n",
        "\n",
        "No Python, é possível gerar uma nova lista a partir da concatenação de duas listas existentes usando o operador de adição `+`.\n",
        "\n",
        "*IMPORTANTE:* As listas originais são preservadas e uma nova lista é criada com um total de elementos igual a soma dos comprimentos das duas primeiras."
      ]
    },
    {
      "cell_type": "code",
      "execution_count": 38,
      "metadata": {
        "id": "jw6G2T6b08XA"
      },
      "outputs": [
        {
          "name": "stdout",
          "output_type": "stream",
          "text": [
            "Lista A = ['Bento Gonçalves', 'Canela', 'Gramado', 'Campos do Jordão']\n",
            "Lista B = ['Ouro Preto', 'Fortaleza', 'Maceió', 'Rio de Janeiro']\n",
            "Lista C = ['Bento Gonçalves', 'Canela', 'Gramado', 'Campos do Jordão', 'Ouro Preto', 'Fortaleza', 'Maceió', 'Rio de Janeiro']\n"
          ]
        }
      ],
      "source": [
        "A = ['Bento Gonçalves', 'Canela', 'Gramado', 'Campos do Jordão']\n",
        "B = ['Ouro Preto', 'Fortaleza', 'Maceió', 'Rio de Janeiro']\n",
        "C = A + B\n",
        "print(f'Lista A = {A}')\n",
        "print(f'Lista B = {B}')\n",
        "print(f'Lista C = {C}')"
      ]
    },
    {
      "cell_type": "code",
      "execution_count": 39,
      "metadata": {
        "id": "85kBifQF2Hnp"
      },
      "outputs": [
        {
          "data": {
            "text/plain": [
              "True"
            ]
          },
          "execution_count": 39,
          "metadata": {},
          "output_type": "execute_result"
        }
      ],
      "source": [
        "len(C) == len(A) + len(B)"
      ]
    },
    {
      "cell_type": "markdown",
      "metadata": {
        "id": "K4VY8fqZ2L6_"
      },
      "source": [
        "*CUIDADO:* Note que a concatenação não possui propriedade comutativa, pois a ordem dos elementos na lista de saída depende da ordem dos operandos."
      ]
    },
    {
      "cell_type": "code",
      "execution_count": 40,
      "metadata": {
        "id": "G7RMkhr33Xl4"
      },
      "outputs": [
        {
          "name": "stdout",
          "output_type": "stream",
          "text": [
            "['baunilha', 'chocolate', 'morango', 'napolitano', 'flocos']\n"
          ]
        }
      ],
      "source": [
        "sabores = ['baunilha', 'chocolate', 'morango'] + ['napolitano', 'flocos']\n",
        "print(sabores)"
      ]
    },
    {
      "cell_type": "code",
      "execution_count": 41,
      "metadata": {
        "id": "V5JfsZR13gdG"
      },
      "outputs": [
        {
          "name": "stdout",
          "output_type": "stream",
          "text": [
            "['napolitano', 'flocos', 'baunilha', 'chocolate', 'morango']\n"
          ]
        }
      ],
      "source": [
        "sabores = ['napolitano', 'flocos'] + ['baunilha', 'chocolate', 'morango']\n",
        "print(sabores)"
      ]
    },
    {
      "cell_type": "markdown",
      "metadata": {
        "id": "2CvAEqag2Qjw"
      },
      "source": [
        "Se as duas listas `A` e `B` possuem elementos em comum, após a concatenação estes serão repetidos na lista produzida."
      ]
    },
    {
      "cell_type": "code",
      "execution_count": 42,
      "metadata": {
        "id": "-ZQsX74B35HC"
      },
      "outputs": [
        {
          "name": "stdout",
          "output_type": "stream",
          "text": [
            "[1, 3, 5, 7, 9, 2, 3, 5, 7, 11]\n"
          ]
        }
      ],
      "source": [
        "# Cinco primeiros números ímpares\n",
        "impares = [1, 3, 5, 7, 9]\n",
        "# Cinco primeiros números primos\n",
        "primos = [2, 3, 5, 7, 11]\n",
        "uniao = impares + primos\n",
        "print(uniao)"
      ]
    },
    {
      "cell_type": "markdown",
      "metadata": {
        "id": "C1fX-ICe4L5d"
      },
      "source": [
        "#**Método `append` *versus* concatenação de listas**\n",
        "\n",
        "Os três trechos de código a seguir produzem o mesmo efeito:"
      ]
    },
    {
      "cell_type": "code",
      "execution_count": 43,
      "metadata": {
        "id": "GWCzF48-4Ymf"
      },
      "outputs": [
        {
          "name": "stdout",
          "output_type": "stream",
          "text": [
            "['baunilha', 'chocolate', 'morango', 'flocos']\n"
          ]
        }
      ],
      "source": [
        "sabores = ['baunilha', 'chocolate', 'morango']\n",
        "sabores = sabores + ['flocos']\n",
        "print(sabores)"
      ]
    },
    {
      "cell_type": "code",
      "execution_count": null,
      "metadata": {
        "id": "_HZMPoS_4iYq"
      },
      "outputs": [],
      "source": [
        "sabores = ['baunilha', 'chocolate', 'morango']\n",
        "sabores += ['flocos']\n",
        "print(sabores)"
      ]
    },
    {
      "cell_type": "code",
      "execution_count": 44,
      "metadata": {
        "id": "scKbX15M4s3p"
      },
      "outputs": [
        {
          "name": "stdout",
          "output_type": "stream",
          "text": [
            "['baunilha', 'chocolate', 'morango', 'flocos']\n"
          ]
        }
      ],
      "source": [
        "sabores = ['baunilha', 'chocolate', 'morango']\n",
        "sabores.append('flocos')\n",
        "print(sabores)"
      ]
    },
    {
      "cell_type": "markdown",
      "metadata": {
        "id": "r8vK7prX45zm"
      },
      "source": [
        "*NOTA:* Apesar dos códigos anteriores produzirem o mesmo resultado, é preferível utilizar o método `append()`. De fato, a concatenação gera uma cópia da lista toda e a variável `sabores` passa a referenciar essa nova lista criada. Em outras palavras, a concatenação é uma operação mais custosa."
      ]
    },
    {
      "cell_type": "markdown",
      "metadata": {
        "id": "kklXNina5pYT"
      },
      "source": [
        "#**Repetição de listas usando `*`**\n",
        "\n",
        "Em Python podemos multiplicar uma lista por um número inteiro. O efeito é a criação de uma nova lista contendo a repetição dos elementos da lista original."
      ]
    },
    {
      "cell_type": "code",
      "execution_count": 45,
      "metadata": {
        "id": "0Gg5VrXJ5oSa"
      },
      "outputs": [
        {
          "name": "stdout",
          "output_type": "stream",
          "text": [
            "['Corinthians', 'Corinthians'] === Bi-campeão Mundial ===\n"
          ]
        }
      ],
      "source": [
        "time = ['Corinthians']\n",
        "print(f'{2*time} === Bi-campeão Mundial ===')\n"
      ]
    },
    {
      "cell_type": "markdown",
      "metadata": {
        "id": "dCGQ_L5B6jl7"
      },
      "source": [
        "#**Fatias de listas**\n",
        "\n",
        "Podemos criar uma sublista formada por uma cópia de um trecho de elementos consecutivos de uma lista original através do recurso de fatiamento de listas. Para isso, usamos a seguinte sintaxe: `nome_da_lista[inicio:fim]`.\n",
        "\n",
        "Caso omitido, o parâmetro `inicio` é assumido como sendo `0`; quando `fim` é omitido, é assumido como sendo `len(lista)`.\n",
        "\n",
        "Alem disso, `inicio` indica o índice do primeiro elemento que será incluído no trecho copiado, mas o último elemento incluído no trecho é aquele dado pelo índice `fim-1`. Ou seja, o elemento cujo índice é `fim` nunca é incluído no trecho copiado."
      ]
    },
    {
      "cell_type": "code",
      "execution_count": 46,
      "metadata": {
        "id": "bxjq2ddh45Iy"
      },
      "outputs": [],
      "source": [
        "cidades = ['Bento Gonçalves', 'Canela', 'Gramado',\n",
        "            'Campos do Jordão', 'Ouro Preto', 'Fortaleza', 'Maceió', 'Rio de Janeiro']"
      ]
    },
    {
      "cell_type": "code",
      "execution_count": 47,
      "metadata": {
        "id": "4gQqNeVF8v-7"
      },
      "outputs": [
        {
          "data": {
            "text/plain": [
              "['Gramado', 'Campos do Jordão', 'Ouro Preto', 'Fortaleza']"
            ]
          },
          "execution_count": 47,
          "metadata": {},
          "output_type": "execute_result"
        }
      ],
      "source": [
        "cidades[2:6]"
      ]
    },
    {
      "cell_type": "code",
      "execution_count": 48,
      "metadata": {
        "id": "6Gi-c5QM9NR_"
      },
      "outputs": [
        {
          "data": {
            "text/plain": [
              "['Canela', 'Gramado']"
            ]
          },
          "execution_count": 48,
          "metadata": {},
          "output_type": "execute_result"
        }
      ],
      "source": [
        "cidades[1:3]"
      ]
    },
    {
      "cell_type": "code",
      "execution_count": 49,
      "metadata": {
        "id": "QyU9OxO89SVL"
      },
      "outputs": [
        {
          "data": {
            "text/plain": [
              "['Bento Gonçalves', 'Canela', 'Gramado', 'Campos do Jordão']"
            ]
          },
          "execution_count": 49,
          "metadata": {},
          "output_type": "execute_result"
        }
      ],
      "source": [
        "cidades[:4]"
      ]
    },
    {
      "cell_type": "code",
      "execution_count": 50,
      "metadata": {
        "id": "xHH6wKGG9UoZ"
      },
      "outputs": [
        {
          "data": {
            "text/plain": [
              "['Campos do Jordão', 'Ouro Preto', 'Fortaleza', 'Maceió', 'Rio de Janeiro']"
            ]
          },
          "execution_count": 50,
          "metadata": {},
          "output_type": "execute_result"
        }
      ],
      "source": [
        "cidades[3:]"
      ]
    },
    {
      "cell_type": "markdown",
      "metadata": {
        "id": "Mt3k0uFV9bUG"
      },
      "source": [
        "Em especial, o comando `lista[:]` (ou `lista[0:len(lista)]`) gera uma cópia da lista toda, podendo ser usado em operações de clonagem de uma lista, substituindo o comando `list(lista)`."
      ]
    },
    {
      "cell_type": "code",
      "execution_count": 51,
      "metadata": {
        "id": "tONJi6Y79nZq"
      },
      "outputs": [
        {
          "data": {
            "text/plain": [
              "False"
            ]
          },
          "execution_count": 51,
          "metadata": {},
          "output_type": "execute_result"
        }
      ],
      "source": [
        "cidades = ['Bento Gonçalves', 'Canela', 'Gramado']\n",
        "B = cidades[:]\n",
        "id(cidades) == id(B)"
      ]
    },
    {
      "cell_type": "code",
      "execution_count": 52,
      "metadata": {
        "id": "QEq4VBgC9zey"
      },
      "outputs": [
        {
          "name": "stdout",
          "output_type": "stream",
          "text": [
            "Lista B = ['Bento Gonçalves', 'Canela', 'Gramado', 'Ouro Preto']\n",
            "Lista cidades = ['Bento Gonçalves', 'Canela', 'Gramado']\n"
          ]
        }
      ],
      "source": [
        "B.append('Ouro Preto')\n",
        "print(f'Lista B = {B}')\n",
        "print(f'Lista cidades = {cidades}')"
      ]
    },
    {
      "cell_type": "markdown",
      "metadata": {
        "id": "q2jBEk8t-F2T"
      },
      "source": [
        "#**Remoção em listas**\n",
        "\n",
        "As remoções de elementos em listas podem ser feitas usando o comando `del` ou o método `pop`.\n",
        "A sintaxe do comadno `del` é `del lista[indice]`."
      ]
    },
    {
      "cell_type": "code",
      "execution_count": 53,
      "metadata": {
        "id": "nrnGqhQw-XjV"
      },
      "outputs": [
        {
          "name": "stdout",
          "output_type": "stream",
          "text": [
            "['Bento Gonçalves', 'Gramado']\n"
          ]
        }
      ],
      "source": [
        "cidades = ['Bento Gonçalves', 'Canela', 'Gramado']\n",
        "del cidades[1]\n",
        "print(cidades)"
      ]
    },
    {
      "cell_type": "markdown",
      "metadata": {
        "id": "5sUfH1Yg-nte"
      },
      "source": [
        "A sintaxe do método `pop` é `lista.pop(indice)`.\n",
        "A diferença com relação a `del` é que `pop` devolve o valor removido da lista, que pode, por exemplo, ser atribuído a uma variável. Caso `indice` seja omitido, o último elemento é removido."
      ]
    },
    {
      "cell_type": "code",
      "execution_count": 54,
      "metadata": {
        "id": "LbKDeuv9-60K"
      },
      "outputs": [
        {
          "name": "stdout",
          "output_type": "stream",
          "text": [
            "['Bento Gonçalves', 'Gramado', 'Ouro Preto']\n",
            "Canela\n"
          ]
        }
      ],
      "source": [
        "cidades = ['Bento Gonçalves', 'Canela', 'Gramado', 'Ouro Preto']\n",
        "c = cidades.pop(1)\n",
        "print(cidades)\n",
        "print(c)"
      ]
    },
    {
      "cell_type": "code",
      "execution_count": 55,
      "metadata": {
        "id": "R-1GxNBo_NGT"
      },
      "outputs": [
        {
          "name": "stdout",
          "output_type": "stream",
          "text": [
            "['Bento Gonçalves', 'Gramado']\n",
            "Ouro Preto\n"
          ]
        }
      ],
      "source": [
        "c = cidades.pop()\n",
        "print(cidades)\n",
        "print(c)\n"
      ]
    }
  ],
  "metadata": {
    "colab": {
      "provenance": []
    },
    "kernelspec": {
      "display_name": "Python 3",
      "name": "python3"
    },
    "language_info": {
      "codemirror_mode": {
        "name": "ipython",
        "version": 3
      },
      "file_extension": ".py",
      "mimetype": "text/x-python",
      "name": "python",
      "nbconvert_exporter": "python",
      "pygments_lexer": "ipython3",
      "version": "3.11.8"
    }
  },
  "nbformat": 4,
  "nbformat_minor": 0
}
