{
  "cells": [
    {
      "cell_type": "markdown",
      "metadata": {
        "id": "eukAJhnq3T1T"
      },
      "source": [
        "#**TTI103 - Lógica de Programação**\n",
        "\n",
        "#**Aula L21 - Mais strings**"
      ]
    },
    {
      "cell_type": "markdown",
      "metadata": {
        "id": "57mESXyENDjL"
      },
      "source": [
        "##**Exercício 01 - Manipulações simples com strings**\n",
        "\n",
        "**a)** Construa um programa em Python que troque todas as ocorrencias de uma letra L1 pela letra L2 em uma *string*. A *string* e as letras L1 e L2 devem ser fornecidas pelo usuario."
      ]
    },
    {
      "cell_type": "code",
      "execution_count": 3,
      "metadata": {
        "id": "AOLneMzYNY77"
      },
      "outputs": [
        {
          "name": "stdout",
          "output_type": "stream",
          "text": [
            "A nova frase é O tato toeu a toupa do tei de toma\n"
          ]
        }
      ],
      "source": [
        "# Exercício 01a\n",
        "# Entrada de dados\n",
        "frase = input('Digite a frase: ')\n",
        "l1 = input('Digite a letra a ser substituída: ')\n",
        "l2 = input('Digite a letra substituta: ')\n",
        "\n",
        "# Substituindo l1 por l2 em frase \n",
        "nova_frase = frase.replace(l1, l2)\n",
        "\n",
        "# Saída de dados\n",
        "print(f'A nova frase é {nova_frase}')"
      ]
    },
    {
      "cell_type": "markdown",
      "metadata": {
        "id": "G-pgO4j7Ndez"
      },
      "source": [
        "**b)** Escreva um programa que leia duas palavras e diga qual deles vem primeiro na ordem\n",
        "alfabetica.\n",
        "\n",
        "*Dica:* `'a'` é menor do que `'b'`."
      ]
    },
    {
      "cell_type": "code",
      "execution_count": null,
      "metadata": {
        "id": "ki54cf-bN67b"
      },
      "outputs": [],
      "source": [
        "# Exercício 01b\n",
        "# Entrada de dados\n",
        "p1 = input('Digite a primeira palavra: ').lower\n",
        "p2 = input('Digite a segunda palavra: ').lower\n",
        "\n",
        "# Comparação das palavras (análise lexicográfica)\n",
        "if p1 < p2:\n",
        "    print(f'{p1} vem antes de {p2}')\n",
        "elif p1 > p2:\n",
        "    print(f'{p2} vem antes de {p1}')\n",
        "else:\n",
        "    print('As palavras são iguais.')"
      ]
    },
    {
      "cell_type": "markdown",
      "metadata": {
        "id": "_N5TtBNNZkHY"
      },
      "source": [
        "**c)** Escreva um programa que leia vários números reais em uma mesma linha, e imprima a soma."
      ]
    },
    {
      "cell_type": "code",
      "execution_count": 22,
      "metadata": {
        "id": "lGwW5F_cZwa_"
      },
      "outputs": [
        {
          "name": "stdout",
          "output_type": "stream",
          "text": [
            "A soma dos números é 55.2.\n"
          ]
        }
      ],
      "source": [
        "# Exercício 01c\n",
        "# Entrada de dados\n",
        "numeros_str = input('Digite os números reais separados por um espaço: ')\n",
        "\n",
        "# Lista com números reais\n",
        "numeros = [float(num) for num in numeros_str.split(sep=' ')]\n",
        "'''O comando anterior equivale a: \n",
        "numeros = []\n",
        "for num in numeros_str.split(sep=' '):\n",
        "    numeros.append(float(num)) '''\n",
        "\n",
        "# Saída de dados\n",
        "print(f'A soma dos números é {sum(numeros)}.')\n"
      ]
    },
    {
      "cell_type": "markdown",
      "metadata": {
        "id": "xZx6J_JQaxVB"
      },
      "source": [
        "**d)** Escreva uma função com protótipo:"
      ]
    },
    {
      "cell_type": "code",
      "execution_count": 26,
      "metadata": {
        "id": "rpxniP8acmmp"
      },
      "outputs": [],
      "source": [
        "def insereSeNovo (nome, lista):\n",
        "  ''' (str, list) -> int\n",
        "  Modifica a lista, inserindo nome na lista.\n",
        "  Retorna a posição de nome na lista ou None caso ele já exista.\n",
        "  '''\n",
        "  if nome in lista:\n",
        "    return lista.index(nome)\n",
        "  else:\n",
        "    lista.append(nome)\n",
        "    return len(lista) - 1"
      ]
    },
    {
      "cell_type": "markdown",
      "metadata": {
        "id": "cgRU7VIzcp2Z"
      },
      "source": [
        "Essa função devolve a posição em que o *string* `x` ocorre em lista ou, caso `x` não estiver na lista, insere `x` no final da lista e devolve o índice dessa posição. O código a seguir deve ser usado para testar sua função:"
      ]
    },
    {
      "cell_type": "code",
      "execution_count": 27,
      "metadata": {
        "id": "Ja2xcw3Yc_ao"
      },
      "outputs": [
        {
          "name": "stdout",
          "output_type": "stream",
          "text": [
            "['Ronaldo', 'Romario', 'Rivelino', 'Pele'], que deve ser Ronaldo, Romario, Rivelino, Pele.\n"
          ]
        }
      ],
      "source": [
        "# Exercício 01d\n",
        "\n",
        "# Codigo de teste\n",
        "lista = ['Ronaldo', 'Romario', 'Rivelino']\n",
        "pos = insereSeNovo('Romario', lista)\n",
        "pos = insereSeNovo('Pele', lista)\n",
        "pos = insereSeNovo('Rivelino', lista)\n",
        "print(f'{lista}, que deve ser Ronaldo, Romario, Rivelino, Pele.')"
      ]
    },
    {
      "cell_type": "markdown",
      "metadata": {
        "id": "ybjQmQpq8qL3"
      },
      "source": [
        "**e)** Elabore um programa modular que leia o nome do usuário e o imprima na vertical, em forma de escada, usando apenas letras maiúsculas.\n",
        "\n",
        "Exemplo de uso:\n",
        "\n",
        "Nome = Vanessa\n",
        "\n",
        "Resultado gerado pelo programa:\n",
        "\n",
        "V\n",
        "\n",
        "VA\n",
        "\n",
        "VAN\n",
        "\n",
        "VANE\n",
        "\n",
        "VANES\n",
        "\n",
        "VANESS\n",
        "\n",
        "VANESSA"
      ]
    },
    {
      "cell_type": "code",
      "execution_count": 30,
      "metadata": {
        "id": "S_oocSDC8rSx"
      },
      "outputs": [
        {
          "name": "stdout",
          "output_type": "stream",
          "text": [
            "V\n",
            "VI\n",
            "VIC\n",
            "VICT\n",
            "VICTH\n",
            "VICTHO\n",
            "VICTHOR\n"
          ]
        }
      ],
      "source": [
        "# Exercício 01e\n",
        "def imprimir_escada(nome):\n",
        "    nome = nome.upper()\n",
        "    for indice in range(1, len(nome) + 1):\n",
        "        print(nome[:indice])\n",
        "\n",
        "# Entrada de dados\n",
        "nome = input('Digite seu nome: ')\n",
        "\n",
        "# Saída de dados\n",
        "imprimir_escada(nome)"
      ]
    },
    {
      "cell_type": "markdown",
      "metadata": {
        "id": "WaIyvXLa38Xo"
      },
      "source": [
        "##**Exercício 02 – Senha da biblioteca**\n",
        "\n",
        "Uma biblioteca distribui um cartão magnético para que os alunos possam frequentá-la. A senha inicial, enviada pelo correio, é gerada automaticamente a partir da data de nascimento do aluno ('dd/mm/aaaa') do seguinte modo:\n",
        "\n",
        "`mm'$'dd(invertido) + '#' + dd'!'mm(invertido) + '\\'+aaaa`\n",
        "\n",
        "Assim, se a data de nascimento é 25/10/1995, a senha será:\n",
        "\n",
        "`10$52#25!01\\1995`\n",
        "\n",
        "Escreva um programa modular que solicite ao usuário a inserção da data de nascimento no formato dd/mm/aaaa e retorne sua senha de acordo com as regras da biblioteca."
      ]
    },
    {
      "cell_type": "code",
      "execution_count": 35,
      "metadata": {
        "id": "T6hD6HtbhvmY"
      },
      "outputs": [
        {
          "name": "stdout",
          "output_type": "stream",
          "text": [
            "Sua senha é 07$92#29!70\\2005\n"
          ]
        }
      ],
      "source": [
        "# Exercício 02\n",
        "def separar_data(data):\n",
        "    return data.split(sep='/')\n",
        "\n",
        "def inverter_data(data):\n",
        "    separados = separar_data(data)\n",
        "    invertidos = [parte[::-1] for parte in separados]\n",
        "    return invertidos\n",
        "\n",
        "def gerar_senha(data):\n",
        "    sep = separar_data(data)\n",
        "    inv = inverter_data(data)\n",
        "    return f'{sep[1]}${inv[0]}#{sep[0]}!{inv[1]}\\{sep[2]}'\n",
        "    \n",
        "\n",
        "# Entrada de dados\n",
        "data_nasc = input('Digite a data de nascimento: ')\n",
        "\n",
        "# Saída de dados\n",
        "print(f'Sua senha é {gerar_senha(data_nasc)}')"
      ]
    },
    {
      "cell_type": "code",
      "execution_count": 34,
      "metadata": {},
      "outputs": [
        {
          "name": "stdout",
          "output_type": "stream",
          "text": [
            "acirbaf\n"
          ]
        }
      ],
      "source": [
        "s = 'fabrica'\n",
        "print(s[::-1])"
      ]
    },
    {
      "cell_type": "markdown",
      "metadata": {
        "id": "SMMs32Hih5VO"
      },
      "source": [
        "##**Exercício 03 - DNA**\n",
        "\n",
        "Construa uma função `DNA_complementar` que recebe uma *string* que representa\n",
        "uma cadeia de DNA e gera a cadeia complementar. A\n",
        "entrada e saída de dados deve ser feita pelo programa principal.\n",
        "\n",
        "Lembrando: O DNA (Ácido Desoxirribonucléico) é composto por milhões de nucleotídeos ligados uns aos outros. Separadamente, os nucleotídeos são bastante simples, consistindo de três partes diferentes:\n",
        "\n",
        "* Base nitrogenada (Adenina (A), Timina (T), Guanina (G) ou Citosina(C));\n",
        "* Desoxirribose (um açúcar por cinco carbonos);\n",
        "* Um grupamento fosfato.\n",
        "\n",
        "As bases nitrogenadas Adenina e Timina são complementares; o mesmo ocorre com Guanina e Citosina.\n",
        "\n",
        "Exemplo de uso:\n",
        "* Entrada: `AATCTGCAC`\n",
        "* Saída: `TTAGACGTG`"
      ]
    },
    {
      "cell_type": "code",
      "execution_count": 36,
      "metadata": {
        "id": "wmZLDEF4fBkB"
      },
      "outputs": [
        {
          "name": "stdout",
          "output_type": "stream",
          "text": [
            "Sequência complementar: TTAGACGTG\n"
          ]
        }
      ],
      "source": [
        "# Exercício 03\n",
        "def DNA_complementar(DNA):\n",
        "    DNA = DNA.upper()\n",
        "    DNA_comp = ''\n",
        "    for base in DNA:\n",
        "        if base == 'A':\n",
        "            DNA_comp += 'T'\n",
        "        elif base == 'T':\n",
        "            DNA_comp += 'A'\n",
        "        elif base == 'G':\n",
        "            DNA_comp += 'C'\n",
        "        elif base == 'C':\n",
        "            DNA_comp += 'G'\n",
        "    return DNA_comp\n",
        "\n",
        "# Entrada de dados\n",
        "DNA = input('Digite a sequência de DNA: ')\n",
        "\n",
        "# Saída de dados\n",
        "print(f'Sequência complementar: {DNA_complementar(DNA)}')"
      ]
    },
    {
      "cell_type": "markdown",
      "metadata": {
        "id": "war3Lk2g9tQg"
      },
      "source": [
        "##**Exercício 04 - Ordenar títulos**\n",
        "\n",
        "Elabore um programa modular para ordenar uma lista de títulos de livros em ordem alfabética e deixá-los separados por vírgula.\n",
        "\n",
        "A lista de títulos é fornecida como uma *string* chamada “titulos”, onde cada título está em uma nova linha.\n",
        "\n",
        "Segue exemplo de lista:"
      ]
    },
    {
      "cell_type": "code",
      "execution_count": 37,
      "metadata": {
        "id": "NZb7GYVO9645"
      },
      "outputs": [],
      "source": [
        "titulos = \"\"\"O Senhor dos Anéis\n",
        "Harry Potter e a Pedra Filosofal\n",
        "1984\n",
        "O Lobo da Estepe\n",
        "Cem Anos de Solidão\n",
        "A Metamorfose\n",
        "A Revolução dos Bichos\n",
        "Crime e Castigo\n",
        "Macunaíma\"\"\""
      ]
    },
    {
      "cell_type": "code",
      "execution_count": 41,
      "metadata": {
        "id": "645yoUoO-N1H"
      },
      "outputs": [
        {
          "name": "stdout",
          "output_type": "stream",
          "text": [
            "1984, A Metamorfose, A Revolução dos Bichos, Cem Anos de Solidão, Crime e Castigo, Harry Potter e a Pedra Filosofal, Macunaíma, O Lobo da Estepe, O Senhor dos Anéis\n"
          ]
        }
      ],
      "source": [
        "# Exercício 04\n",
        "def ordenar_titulos(titulos):\n",
        "    lista_titulos = titulos.split(sep='\\n')\n",
        "    return sorted(lista_titulos)\n",
        "\n",
        "def juntar_titulos(lista_titulos):\n",
        "    return ', '.join(lista_titulos)\n",
        "\n",
        "titulos_ord = ordenar_titulos(titulos)\n",
        "titulos_virgula = juntar_titulos(titulos_ord)\n",
        "print(titulos_virgula)"
      ]
    },
    {
      "cell_type": "markdown",
      "metadata": {
        "id": "rJslIK3M--Nr"
      },
      "source": [
        "##**Exercício 05 - Contar palavras**\n",
        "\n",
        "Você trabalha em uma biblioteca e recebeu uma lista de títulos de artigos. Sua tarefa é criar um programa modular que conte quantas vezes uma determinada palavra aparece nos títulos dos artigos.\n",
        "\n",
        "Um exemplo de lista de títulos é visto na célula de código a seguir. Use essa lista para testar seu código, usando como entrada a *string* `'GPT'`."
      ]
    },
    {
      "cell_type": "code",
      "execution_count": 51,
      "metadata": {
        "id": "lHfM0-ZY_ID6"
      },
      "outputs": [],
      "source": [
        "artigos = [\n",
        "'RecurrentGPT: Interactive Generation of (Arbitrarily) Long Text',\n",
        "'VideoLLM: Modeling Video Sequence with Large Language Models',\n",
        "'Watermarking Text Data on Large Language Models for Dataset Copyright Protection',\n",
        "'InheritSumm: A General, Versatile and Compact Summarizer by Distilling from GPT',\n",
        "'Can Large Language Models emulate an inductive Thematic Analysis of semi-structured interviews? An exploration and provocation on the limits of the approach and the model',\n",
        "'GPT-SW3: An Autoregressive Language Model for the Nordic Languages',\n",
        "'The Emergence of Economic Rationality of GPT',\n",
        "'Can We Edit Factual Knowledge by In-Context Learning?',\n",
        "'G3Detector: General GPT-Generated Text Detector',\n",
        "'GPT Paternity Test: GPT Generated Text Detection with GPT Genetic Inheritance'\n",
        "]"
      ]
    },
    {
      "cell_type": "code",
      "execution_count": 55,
      "metadata": {
        "id": "FDN8S2tD_Jhv"
      },
      "outputs": [
        {
          "name": "stdout",
          "output_type": "stream",
          "text": [
            "A palavra \"GPT\" ocorre 8 vezes\n"
          ]
        }
      ],
      "source": [
        "# Exercício 05\n",
        "def contar_palavras(artigos, palavra):\n",
        "    contador = 0\n",
        "    for titulo in artigos:\n",
        "        palavras_titulo = titulo.split()\n",
        "        for palavra_titulo in palavras_titulo:\n",
        "            if palavra.lower() in palavra_titulo.lower():\n",
        "                contador += 1\n",
        "    return contador\n",
        "\n",
        "palavra_desejada = 'GPT'\n",
        "ocorrencias = contar_palavras(artigos, palavra_desejada)\n",
        "print(f'A palavra \"{palavra_desejada}\" ocorre {ocorrencias} vezes')"
      ]
    }
  ],
  "metadata": {
    "colab": {
      "provenance": []
    },
    "kernelspec": {
      "display_name": "Python 3",
      "language": "python",
      "name": "python3"
    },
    "language_info": {
      "codemirror_mode": {
        "name": "ipython",
        "version": 3
      },
      "file_extension": ".py",
      "mimetype": "text/x-python",
      "name": "python",
      "nbconvert_exporter": "python",
      "pygments_lexer": "ipython3",
      "version": "3.11.9"
    },
    "vscode": {
      "interpreter": {
        "hash": "c261aea317cc0286b3b3261fbba9abdec21eaa57589985bb7a274bf54d6cc0a7"
      }
    }
  },
  "nbformat": 4,
  "nbformat_minor": 0
}
